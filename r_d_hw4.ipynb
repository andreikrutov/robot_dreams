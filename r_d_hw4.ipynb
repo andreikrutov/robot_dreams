{
  "nbformat": 4,
  "nbformat_minor": 0,
  "metadata": {
    "kernelspec": {
      "display_name": "Python 3",
      "language": "python",
      "name": "python3"
    },
    "language_info": {
      "codemirror_mode": {
        "name": "ipython",
        "version": 3
      },
      "file_extension": ".py",
      "mimetype": "text/x-python",
      "name": "python",
      "nbconvert_exporter": "python",
      "pygments_lexer": "ipython3",
      "version": "3.7.3"
    },
    "colab": {
      "name": "r_d_hw4.ipynb",
      "provenance": []
    }
  },
  "cells": [
    {
      "cell_type": "markdown",
      "metadata": {
        "id": "HMWNp1TAfbUO"
      },
      "source": [
        "# Распределения"
      ]
    },
    {
      "cell_type": "markdown",
      "metadata": {
        "id": "-tyTuhjHfbUP"
      },
      "source": [
        "Ваше имя и фамилия"
      ]
    },
    {
      "cell_type": "markdown",
      "metadata": {
        "id": "zdIryWWGfbUQ"
      },
      "source": [
        "Крутов Андрей"
      ]
    },
    {
      "cell_type": "markdown",
      "metadata": {
        "id": "hPXybQykfbUQ"
      },
      "source": [
        ""
      ]
    },
    {
      "cell_type": "markdown",
      "metadata": {
        "id": "T6HFhAHofbUQ"
      },
      "source": [
        "Произведи импорт всех нужных библиотек"
      ]
    },
    {
      "cell_type": "code",
      "metadata": {
        "id": "Lf-cUbN3fbUR"
      },
      "source": [
        "import numpy as np\n",
        "import matplotlib.pyplot as plt\n",
        "from scipy import stats"
      ],
      "execution_count": null,
      "outputs": []
    },
    {
      "cell_type": "markdown",
      "metadata": {
        "id": "MQtQXaCBfbUR"
      },
      "source": [
        "# Лимит распределений"
      ]
    },
    {
      "cell_type": "markdown",
      "metadata": {
        "id": "wvlH-XVNfbUS"
      },
      "source": [
        "1. Визуализируйте биномиальное распределение с **p=0.1** для n = 10, 30, 100 и 300 экспериментов."
      ]
    },
    {
      "cell_type": "code",
      "metadata": {
        "id": "eL9jHY2cfbUS"
      },
      "source": [
        "p = 0.1"
      ],
      "execution_count": null,
      "outputs": []
    },
    {
      "cell_type": "code",
      "metadata": {
        "id": "A1z88DmVfbUS"
      },
      "source": [
        "n = 10\n",
        "values = list(range(n + 1))\n",
        "dist = [stats.binom.pmf(v, n, p) for v in values]"
      ],
      "execution_count": null,
      "outputs": []
    },
    {
      "cell_type": "code",
      "metadata": {
        "colab": {
          "base_uri": "https://localhost:8080/",
          "height": 1000
        },
        "id": "_pxaJ2emfbUT",
        "outputId": "bcb8d945-876b-44c6-d6b1-41a62b4f0e20"
      },
      "source": [
        "n = [10, 30, 100, 300]\n",
        "for i in n:\n",
        "    values = list(range(i + 1))\n",
        "    dist = [stats.binom.pmf(v, i, p) for v in values]\n",
        "    fig, ax = plt.subplots(1, 1)\n",
        "    _ = ax.plot(dist, 'bo', ms=3, label='binom pmf')\n",
        "    plt.title('Binomial, n = {}'.format(i))"
      ],
      "execution_count": null,
      "outputs": [
        {
          "output_type": "display_data",
          "data": {
            "image/png": "[encoded data removed]",
            "text/plain": [
              "<Figure size 432x288 with 1 Axes>"
            ]
          },
          "metadata": {
            "tags": [],
            "needs_background": "light"
          }
        },
        {
          "output_type": "display_data",
          "data": {
            "image/png": "[encoded data removed]",
            "text/plain": [
              "<Figure size 432x288 with 1 Axes>"
            ]
          },
          "metadata": {
            "tags": [],
            "needs_background": "light"
          }
        },
        {
          "output_type": "display_data",
          "data": {
            "image/png": "[encoded data removed]",
            "text/plain": [
              "<Figure size 432x288 with 1 Axes>"
            ]
          },
          "metadata": {
            "tags": [],
            "needs_background": "light"
          }
        },
        {
          "output_type": "display_data",
          "data": {
            "image/png": "[encoded data removed]",
            "text/plain": [
              "<Figure size 432x288 with 1 Axes>"
            ]
          },
          "metadata": {
            "tags": [],
            "needs_background": "light"
          }
        }
      ]
    },
    {
      "cell_type": "markdown",
      "metadata": {
        "id": "TRlwmYAXfbUU"
      },
      "source": [
        "2. На что похож последний график?"
      ]
    },
    {
      "cell_type": "markdown",
      "metadata": {
        "id": "upstdR1MfbUU"
      },
      "source": [
        "На нормальное распределение с очень длинным хвостом"
      ]
    },
    {
      "cell_type": "markdown",
      "metadata": {
        "id": "GRaeGmVJfbUU"
      },
      "source": [
        "Для больших, n когда np & n(1-p) > 10, распределение стремится к нормальному распределению."
      ]
    },
    {
      "cell_type": "markdown",
      "metadata": {
        "id": "rKBjZ2GjfbUV"
      },
      "source": [
        "3. Визуализируйте  распределение Пуассона для Ламбда = 2, 5, 15 и 50."
      ]
    },
    {
      "cell_type": "code",
      "metadata": {
        "colab": {
          "base_uri": "https://localhost:8080/",
          "height": 1000
        },
        "id": "9GkCOMwjfbUV",
        "outputId": "bae12976-ee1d-4e26-9866-10a3fd302de5"
      },
      "source": [
        "lambda_ = [2, 5, 15, 50]\n",
        "for l in lambda_:\n",
        "    fig, ax = plt.subplots(1, 1)\n",
        "    x = np.arange(stats.poisson.ppf(0.01, l), stats.poisson.ppf(0.99, l))\n",
        "    \n",
        "    ax.plot(x, stats.poisson.pmf(x, l), 'bo', ms=3)\n",
        "    plt.title('Poisson, lambda = {}'.format(l))"
      ],
      "execution_count": null,
      "outputs": [
        {
          "output_type": "display_data",
          "data": {
            "image/png": "[encoded data removed]",
            "text/plain": [
              "<Figure size 432x288 with 1 Axes>"
            ]
          },
          "metadata": {
            "tags": [],
            "needs_background": "light"
          }
        },
        {
          "output_type": "display_data",
          "data": {
            "image/png": "[encoded data removed]",
            "text/plain": [
              "<Figure size 432x288 with 1 Axes>"
            ]
          },
          "metadata": {
            "tags": [],
            "needs_background": "light"
          }
        },
        {
          "output_type": "display_data",
          "data": {
            "image/png": "[encoded data removed]",
            "text/plain": [
              "<Figure size 432x288 with 1 Axes>"
            ]
          },
          "metadata": {
            "tags": [],
            "needs_background": "light"
          }
        },
        {
          "output_type": "display_data",
          "data": {
            "image/png": "[encoded data removed]",
            "text/plain": [
              "<Figure size 432x288 with 1 Axes>"
            ]
          },
          "metadata": {
            "tags": [],
            "needs_background": "light"
          }
        }
      ]
    },
    {
      "cell_type": "markdown",
      "metadata": {
        "id": "oGBiPZ4qfbUV"
      },
      "source": [
        "4. Что можно решить, смотря на эти распределения?"
      ]
    },
    {
      "cell_type": "markdown",
      "metadata": {
        "id": "guzhYlaIfbUV"
      },
      "source": [
        "С ростом параметра распределение стремится к нормальному"
      ]
    },
    {
      "cell_type": "markdown",
      "metadata": {
        "id": "_BzwAbOffbUW"
      },
      "source": [
        "## Стандартное распределение "
      ]
    },
    {
      "cell_type": "markdown",
      "metadata": {
        "id": "GGOZFVZgfbUW"
      },
      "source": [
        "### Столы и стулья"
      ]
    },
    {
      "cell_type": "markdown",
      "metadata": {
        "id": "TfP4LPEsfbUW"
      },
      "source": [
        "Ваша фирма получила заказ на столы и стулья для старшей школы. Любое производство подвержено неточностям. Вы решили моделировать высоту стульев, как случайную величину со стандартным распределением, с ожиданием 83 см и среднеквадратическим отклонением 5 см. "
      ]
    },
    {
      "cell_type": "markdown",
      "metadata": {
        "id": "aZPHBQtmfbUW"
      },
      "source": [
        "1. Какая вероятность, что высота произведенного стула не меньше 82 см?"
      ]
    },
    {
      "cell_type": "code",
      "metadata": {
        "colab": {
          "base_uri": "https://localhost:8080/"
        },
        "id": "ahWhq4_Mf96S",
        "outputId": "a4b9e177-fa0a-4c74-e547-dff494538a7b"
      },
      "source": [
        "1 - stats.norm.cdf(82,83,5)"
      ],
      "execution_count": null,
      "outputs": [
        {
          "output_type": "execute_result",
          "data": {
            "text/plain": [
              "0.579259709439103"
            ]
          },
          "metadata": {
            "tags": []
          },
          "execution_count": 9
        }
      ]
    },
    {
      "cell_type": "markdown",
      "metadata": {
        "id": "eB7V5CzlfbUW"
      },
      "source": [
        "2. Какая минимальная высота стульев, которые составляют 20% самых высоких стульев?"
      ]
    },
    {
      "cell_type": "code",
      "metadata": {
        "colab": {
          "base_uri": "https://localhost:8080/",
          "height": 265
        },
        "id": "vvVOtx49hewK",
        "outputId": "991ff3d4-116a-41dd-cf9a-b50ac7cba890"
      },
      "source": [
        "x = np.arange(stats.norm.ppf(0.01,83, 5),stats.norm.ppf(0.99,83, 5))\n",
        "fig, ax = plt.subplots(1, 1)\n",
        "_ = ax.plot(x, stats.norm.cdf(x, 83, 5), 'bo', ms=3)"
      ],
      "execution_count": null,
      "outputs": [
        {
          "output_type": "display_data",
          "data": {
            "image/png": "[encoded data removed]",
            "text/plain": [
              "<Figure size 432x288 with 1 Axes>"
            ]
          },
          "metadata": {
            "tags": [],
            "needs_background": "light"
          }
        }
      ]
    },
    {
      "cell_type": "code",
      "metadata": {
        "colab": {
          "base_uri": "https://localhost:8080/"
        },
        "id": "ba3nMi8cJx_q",
        "outputId": "037dabe0-a719-4d19-81dc-bbda1cf27521"
      },
      "source": [
        "stats.norm.ppf(0.8, 83, 5)"
      ],
      "execution_count": null,
      "outputs": [
        {
          "output_type": "execute_result",
          "data": {
            "text/plain": [
              "87.20810616786457"
            ]
          },
          "metadata": {
            "tags": []
          },
          "execution_count": 9
        }
      ]
    },
    {
      "cell_type": "markdown",
      "metadata": {
        "id": "59L9yfFpkE6F"
      },
      "source": [
        "Минимальная высота 20% самых высоких равна 87.2см"
      ]
    },
    {
      "cell_type": "markdown",
      "metadata": {
        "id": "ouPUVy58fbUX"
      },
      "source": [
        "3. Какая нижняя и высшая граница 95% центрального интервала? Что это означает?"
      ]
    },
    {
      "cell_type": "code",
      "metadata": {
        "colab": {
          "base_uri": "https://localhost:8080/",
          "height": 265
        },
        "id": "7CXE9bd3lMtU",
        "outputId": "022833b6-685c-4922-f03d-45d0c0ae7d2f"
      },
      "source": [
        "x = np.arange(stats.norm.ppf(0.01,83, 5),stats.norm.ppf(0.99,83, 5))\n",
        "fig, ax = plt.subplots(1, 1)\n",
        "_ = ax.plot(x, stats.norm.pdf(x, 83, 5), 'b-', ms=2, label='gauss pdf')"
      ],
      "execution_count": null,
      "outputs": [
        {
          "output_type": "display_data",
          "data": {
            "image/png": "[encoded data removed]",
            "text/plain": [
              "<Figure size 432x288 with 1 Axes>"
            ]
          },
          "metadata": {
            "tags": [],
            "needs_background": "light"
          }
        }
      ]
    },
    {
      "cell_type": "code",
      "metadata": {
        "colab": {
          "base_uri": "https://localhost:8080/"
        },
        "id": "RtQS3VsNnUMh",
        "outputId": "fe7c84a8-fc9a-4882-8ac8-d53602c6c383"
      },
      "source": [
        "(1 - stats.norm.cdf(92.8,83,5))*100"
      ],
      "execution_count": null,
      "outputs": [
        {
          "output_type": "execute_result",
          "data": {
            "text/plain": [
              "2.4997895148220484"
            ]
          },
          "metadata": {
            "tags": []
          },
          "execution_count": 28
        }
      ]
    },
    {
      "cell_type": "code",
      "metadata": {
        "colab": {
          "base_uri": "https://localhost:8080/"
        },
        "id": "b1XVDKagLBXk",
        "outputId": "f8be09f7-3460-4754-be47-2af4e54bef4f"
      },
      "source": [
        "stats.norm.ppf(0.975, 83, 5)"
      ],
      "execution_count": null,
      "outputs": [
        {
          "output_type": "execute_result",
          "data": {
            "text/plain": [
              "92.79981992270027"
            ]
          },
          "metadata": {
            "tags": []
          },
          "execution_count": 11
        }
      ]
    },
    {
      "cell_type": "markdown",
      "metadata": {
        "id": "82ndb_bjnuLE"
      },
      "source": [
        "Максимальная высота 92.8 см"
      ]
    },
    {
      "cell_type": "code",
      "metadata": {
        "colab": {
          "base_uri": "https://localhost:8080/"
        },
        "id": "Wng8nVPnnyc1",
        "outputId": "a455252d-1be9-43a4-9cf2-1a4f602e6b68"
      },
      "source": [
        "(1 - stats.norm.cdf(73.2,83,5))*100 # результат должен быть 97.5%, так как слева должно остаться 2.5%"
      ],
      "execution_count": null,
      "outputs": [
        {
          "output_type": "execute_result",
          "data": {
            "text/plain": [
              "97.50021048517794"
            ]
          },
          "metadata": {
            "tags": []
          },
          "execution_count": 14
        }
      ]
    },
    {
      "cell_type": "code",
      "metadata": {
        "colab": {
          "base_uri": "https://localhost:8080/"
        },
        "id": "2DLlEphILDyG",
        "outputId": "399ead1b-ee32-45b3-c099-a4872af475c1"
      },
      "source": [
        "stats.norm.ppf(0.025, 83, 5)"
      ],
      "execution_count": null,
      "outputs": [
        {
          "output_type": "execute_result",
          "data": {
            "text/plain": [
              "73.20018007729973"
            ]
          },
          "metadata": {
            "tags": []
          },
          "execution_count": 12
        }
      ]
    },
    {
      "cell_type": "markdown",
      "metadata": {
        "id": "90sWIze3oIYc"
      },
      "source": [
        "Минимальная высота 73.2 см"
      ]
    },
    {
      "cell_type": "markdown",
      "metadata": {
        "id": "tb8K-AjSocOY"
      },
      "source": [
        "95% интервал означает, что 95% всех значений высоты лежат в пределах этого интервала, т.е. 2.5% самых низких и 2.5% самых высоких лежат за его пределами. С точки зрения стандартного отклонения - 95% интервал соответствует $\\pm 2\\sigma$"
      ]
    },
    {
      "cell_type": "markdown",
      "metadata": {
        "id": "Dadk9bnDfbUX"
      },
      "source": [
        "## Распределение Пуассона"
      ]
    },
    {
      "cell_type": "markdown",
      "metadata": {
        "id": "BaEWDDkMfbUX"
      },
      "source": [
        "Завод считает количество поломок станка в месяц с помощью распределения Пуассона с параметером Ламбда=2"
      ]
    },
    {
      "cell_type": "markdown",
      "metadata": {
        "id": "_aVIfqt_fbUY"
      },
      "source": [
        "$P = \\frac{\\lambda ^k}{k!}\\cdot e^{-\\lambda}$"
      ]
    },
    {
      "cell_type": "markdown",
      "metadata": {
        "id": "n9z6RB1zfbUY"
      },
      "source": [
        "1. С какой вероятностью станок не будет иметь ни одной поломки в месяц?"
      ]
    },
    {
      "cell_type": "code",
      "metadata": {
        "colab": {
          "base_uri": "https://localhost:8080/",
          "height": 265
        },
        "id": "yQOVrz-FfbUY",
        "outputId": "a40566f8-5f7d-41a7-d71a-cc2b685825dc"
      },
      "source": [
        "x = np.arange(stats.poisson.ppf(0.01, 2),stats.poisson.ppf(0.99, 2))\n",
        "fig, ax = plt.subplots(1, 1)\n",
        "_ = ax.plot(x, stats.poisson.cdf(x, 2), 'bo', ms=3)"
      ],
      "execution_count": null,
      "outputs": [
        {
          "output_type": "display_data",
          "data": {
            "image/png": "[encoded data removed]",
            "text/plain": [
              "<Figure size 432x288 with 1 Axes>"
            ]
          },
          "metadata": {
            "tags": [],
            "needs_background": "light"
          }
        }
      ]
    },
    {
      "cell_type": "code",
      "metadata": {
        "colab": {
          "base_uri": "https://localhost:8080/"
        },
        "id": "YRGSEqzMpOUw",
        "outputId": "fa587a33-16cd-4dd9-b0f8-3d7a70deea86"
      },
      "source": [
        "stats.poisson.cdf(0,2)"
      ],
      "execution_count": null,
      "outputs": [
        {
          "output_type": "execute_result",
          "data": {
            "text/plain": [
              "0.1353352832366127"
            ]
          },
          "metadata": {
            "tags": []
          },
          "execution_count": 45
        }
      ]
    },
    {
      "cell_type": "markdown",
      "metadata": {
        "id": "9yA0FJDGpi4d"
      },
      "source": [
        "Вероятность не получить ни одной поломки равна 13.5%"
      ]
    },
    {
      "cell_type": "markdown",
      "metadata": {
        "id": "SbZXi_ZYfbUZ"
      },
      "source": [
        "2. С какой вероятностью станок будет иметь больше 2 поломок в месяц?"
      ]
    },
    {
      "cell_type": "code",
      "metadata": {
        "colab": {
          "base_uri": "https://localhost:8080/"
        },
        "id": "hoMzjUHaMKQn",
        "outputId": "7bda4a7f-33d9-41fd-c8eb-fdd4efbf23c8"
      },
      "source": [
        "stats.poisson.cdf(2,2) #вероятность 2 и меньшего числа поломок"
      ],
      "execution_count": null,
      "outputs": [
        {
          "output_type": "execute_result",
          "data": {
            "text/plain": [
              "0.6766764161830634"
            ]
          },
          "metadata": {
            "tags": []
          },
          "execution_count": 16
        }
      ]
    },
    {
      "cell_type": "code",
      "metadata": {
        "colab": {
          "base_uri": "https://localhost:8080/"
        },
        "id": "GVeAdkxwMak0",
        "outputId": "6c72a5a2-9eda-4ba1-a95d-d58f136f1a5a"
      },
      "source": [
        "1 - stats.poisson.cdf(2,2) # вероятность получить больше 2 поломок"
      ],
      "execution_count": null,
      "outputs": [
        {
          "output_type": "execute_result",
          "data": {
            "text/plain": [
              "0.3233235838169366"
            ]
          },
          "metadata": {
            "tags": []
          },
          "execution_count": 17
        }
      ]
    },
    {
      "cell_type": "markdown",
      "metadata": {
        "id": "3Wr1A-J7fbUZ"
      },
      "source": [
        "3. Сколько поломок за 3 месяца ожидаются с вероятностью 90%?"
      ]
    },
    {
      "cell_type": "markdown",
      "metadata": {
        "id": "CC_QxOBYfbUZ"
      },
      "source": [
        "Зависимость распределения от времени\n",
        "$$\n",
        "P = \\frac{(\\lambda\\cdot t) ^k}{k!}\\cdot e^{-\\lambda\\cdot t}\n",
        "$$\n",
        "В нашем случае мы можем взять $\\lambda = 6$"
      ]
    },
    {
      "cell_type": "code",
      "metadata": {
        "id": "kTFF_FZCfbUZ",
        "outputId": "9e572561-65af-43c9-be6e-ca3b9bb833fb"
      },
      "source": [
        "x = np.arange(stats.poisson.ppf(0.01, 6),stats.poisson.ppf(0.99, 6))\n",
        "fig, ax = plt.subplots(1, 1)\n",
        "_ = ax.plot(x, stats.poisson.cdf(x, 6), 'bo', ms=3)"
      ],
      "execution_count": null,
      "outputs": [
        {
          "output_type": "display_data",
          "data": {
            "image/png": "[encoded data removed]",
            "text/plain": [
              "<Figure size 432x288 with 1 Axes>"
            ]
          },
          "metadata": {
            "tags": [],
            "needs_background": "light"
          }
        }
      ]
    },
    {
      "cell_type": "code",
      "metadata": {
        "colab": {
          "base_uri": "https://localhost:8080/"
        },
        "id": "jBJS0QxgrcP3",
        "outputId": "fe14a93c-3112-4e5f-e331-ec740017b6ba"
      },
      "source": [
        "stats.poisson.cdf(9,6)"
      ],
      "execution_count": null,
      "outputs": [
        {
          "output_type": "execute_result",
          "data": {
            "text/plain": [
              "0.9160759830051242"
            ]
          },
          "metadata": {
            "tags": []
          },
          "execution_count": 59
        }
      ]
    },
    {
      "cell_type": "code",
      "metadata": {
        "colab": {
          "base_uri": "https://localhost:8080/"
        },
        "id": "XlMPCZwKMzOR",
        "outputId": "2bddf655-ba4d-4246-c4ac-4beb65c2cf33"
      },
      "source": [
        "stats.poisson.ppf(0.9, 6)"
      ],
      "execution_count": null,
      "outputs": [
        {
          "output_type": "execute_result",
          "data": {
            "text/plain": [
              "9.0"
            ]
          },
          "metadata": {
            "tags": []
          },
          "execution_count": 18
        }
      ]
    },
    {
      "cell_type": "markdown",
      "metadata": {
        "id": "OUVhZ8UBfbUa"
      },
      "source": [
        "Ожидается $\\le 9$ поломок"
      ]
    },
    {
      "cell_type": "markdown",
      "metadata": {
        "id": "6FZGDfrQfbUa"
      },
      "source": [
        "4. Видите ли вы проблемы в моделировании этой ситуации распределением Пуассона?"
      ]
    },
    {
      "cell_type": "markdown",
      "metadata": {
        "id": "eLoXDF4IfbUa"
      },
      "source": [
        "Проблема в том, что распределние Пуассона должно использоваться, когда мала вероятность события (0.05-0.1) и количество испытаний велико. Таким образом, в нашей задаче, минимальное n должно быть равно 20, при этом у нас всего один станок. Для корректного использования данного распределения необходимо иметь минимум 20 станков."
      ]
    },
    {
      "cell_type": "markdown",
      "metadata": {
        "id": "HwgOx88efbUa"
      },
      "source": [
        "## Нормальное распределение против Коши"
      ]
    },
    {
      "cell_type": "markdown",
      "metadata": {
        "id": "L4ZIL9SQfbUa"
      },
      "source": [
        "Давайте проведем эксперименты с нормальным распределением. Мы берем n= 1, 10, 100,..., N случайных величин, которые имеют стандартное нормальное распределение. \n",
        "\n",
        "Посмотрите, какой результат мы получаем для каждой величины, и посчитайте сумму этих результатов, поделенную на их количество n. \n",
        "\n",
        "Сделайте график на котором сумма/количество нанесены против n, для n=1,10,100,1000,5000,10000."
      ]
    },
    {
      "cell_type": "code",
      "metadata": {
        "id": "BXHMfgkofbUb"
      },
      "source": [
        "n = [1, 10, 100, 1000, 5000, 10000]\n",
        "y = []\n",
        "\n",
        "for i in n:\n",
        "    s = 0\n",
        "    r = stats.norm.rvs(size=i, random_state = 42)\n",
        "    s = r.sum()/i\n",
        "    y.append(s)    "
      ],
      "execution_count": null,
      "outputs": []
    },
    {
      "cell_type": "code",
      "metadata": {
        "id": "wPMiKhW5fbUb",
        "colab": {
          "base_uri": "https://localhost:8080/"
        },
        "outputId": "f34226fe-f7d4-4e02-c49b-8f32047a2fe8"
      },
      "source": [
        "y"
      ],
      "execution_count": null,
      "outputs": [
        {
          "output_type": "execute_result",
          "data": {
            "text/plain": [
              "[0.4967141530112327,\n",
              " 0.44806111169875623,\n",
              " -0.10384651739409384,\n",
              " 0.01933205582232549,\n",
              " 0.005601930087572765,\n",
              " -0.0021359833684262055]"
            ]
          },
          "metadata": {
            "tags": []
          },
          "execution_count": 77
        }
      ]
    },
    {
      "cell_type": "code",
      "metadata": {
        "colab": {
          "base_uri": "https://localhost:8080/",
          "height": 282
        },
        "id": "XUrxbQNNsHc5",
        "outputId": "0607dca6-49de-44ba-e847-93ec61c079d6"
      },
      "source": [
        "plt.plot(n,y)"
      ],
      "execution_count": null,
      "outputs": [
        {
          "output_type": "execute_result",
          "data": {
            "text/plain": [
              "[<matplotlib.lines.Line2D at 0x7f582b1cbf50>]"
            ]
          },
          "metadata": {
            "tags": []
          },
          "execution_count": 79
        },
        {
          "output_type": "display_data",
          "data": {
            "image/png": "[encoded data removed]",
            "text/plain": [
              "<Figure size 432x288 with 1 Axes>"
            ]
          },
          "metadata": {
            "tags": [],
            "needs_background": "light"
          }
        }
      ]
    },
    {
      "cell_type": "markdown",
      "metadata": {
        "id": "7gYQqop2fbUc"
      },
      "source": [
        "Повторите прошлое задание для распределения Коши. ``scipy.stats.cauchy``"
      ]
    },
    {
      "cell_type": "code",
      "metadata": {
        "id": "EeCSHfTFfbUc"
      },
      "source": [
        "n = [1, 10, 100, 1000, 5000, 10000]\n",
        "y = []\n",
        "\n",
        "for i in n:\n",
        "    s = 0\n",
        "    r = stats.cauchy.rvs(size=i, random_state = 42)\n",
        "    s = r.sum()/i\n",
        "    y.append(s)   "
      ],
      "execution_count": null,
      "outputs": []
    },
    {
      "cell_type": "code",
      "metadata": {
        "id": "U3KkzAncfbUc",
        "colab": {
          "base_uri": "https://localhost:8080/"
        },
        "outputId": "f35e089f-5319-4d24-a9c9-c04ac1144496"
      },
      "source": [
        "y"
      ],
      "execution_count": null,
      "outputs": [
        {
          "output_type": "execute_result",
          "data": {
            "text/plain": [
              "[-0.4159072178501147,\n",
              " 0.1367649354633249,\n",
              " -0.6674364059676741,\n",
              " 1.0027740614605345,\n",
              " -8.016149519276926,\n",
              " -5.056137830889829]"
            ]
          },
          "metadata": {
            "tags": []
          },
          "execution_count": 72
        }
      ]
    },
    {
      "cell_type": "code",
      "metadata": {
        "id": "DCYPIzt9fbUc",
        "colab": {
          "base_uri": "https://localhost:8080/",
          "height": 282
        },
        "outputId": "273287fc-cd4c-4db1-a70c-587f249f42ac"
      },
      "source": [
        "n = [1, 10, 100, 1000, 5000, 10000]\n",
        "plt.plot(n,y)"
      ],
      "execution_count": null,
      "outputs": [
        {
          "output_type": "execute_result",
          "data": {
            "text/plain": [
              "[<matplotlib.lines.Line2D at 0x7f582aab2250>]"
            ]
          },
          "metadata": {
            "tags": []
          },
          "execution_count": 74
        },
        {
          "output_type": "display_data",
          "data": {
            "image/png": "[encoded data removed]",
            "text/plain": [
              "<Figure size 432x288 with 1 Axes>"
            ]
          },
          "metadata": {
            "tags": [],
            "needs_background": "light"
          }
        }
      ]
    },
    {
      "cell_type": "markdown",
      "metadata": {
        "id": "w3SrUavHfbUd"
      },
      "source": [
        "Есть ли между ними разница?"
      ]
    },
    {
      "cell_type": "markdown",
      "metadata": {
        "id": "i7E8vyUnfbUd"
      },
      "source": [
        "В случае нормального распределения сумма стремится к нулю, в случае распределения Коши такой сходимости нет. Это связано с тем, что распределение Коши не имеет математического ожидания."
      ]
    },
    {
      "cell_type": "markdown",
      "metadata": {
        "id": "mPXxnoCMfbUd"
      },
      "source": [
        "## Подготовка к следующему занятию"
      ]
    },
    {
      "cell_type": "markdown",
      "metadata": {
        "id": "JSCHkzALfbUd"
      },
      "source": [
        "Давайте снова возьмем n=1,..., N случайных величин, распределенных как равномерное распределение на \\[0,1\\] ``scipy.stats.uniform``. Визуализируйте это распределение."
      ]
    },
    {
      "cell_type": "code",
      "metadata": {
        "id": "fMV6q92IfbUd",
        "outputId": "e8105d21-18da-4744-c65f-a3ad2f11ab1a"
      },
      "source": [
        "fig, ax = plt.subplots(1, 1)\n",
        "x = np.linspace(stats.uniform.ppf(0.01),\n",
        "                stats.uniform.ppf(0.99), 100)\n",
        "_ = ax.plot(x, stats.uniform.pdf(x),\n",
        "       'r-', lw=5, alpha=0.6, label='uniform pdf')"
      ],
      "execution_count": null,
      "outputs": [
        {
          "output_type": "display_data",
          "data": {
            "image/png": "[encoded data removed]",
            "text/plain": [
              "<Figure size 432x288 with 1 Axes>"
            ]
          },
          "metadata": {
            "tags": [],
            "needs_background": "light"
          }
        }
      ]
    },
    {
      "cell_type": "markdown",
      "metadata": {
        "id": "UvU-crKUfbUe"
      },
      "source": [
        "Теперь давайте возьмем n= 1, 5, 25, 100 случайных величин. \n",
        "\n",
        "Посмотрите, какой резултат мы получим для каждой величины и посчитайте сумму этих резултатов, поделенную на их количество n, получив 4 новых случайных величин. \n",
        "\n",
        "После этого повторите это 1000 раз и визуализируйте хистограммы этих 4-х новых случайных величин."
      ]
    },
    {
      "cell_type": "code",
      "metadata": {
        "id": "xEj-7gQ8fbUe",
        "colab": {
          "base_uri": "https://localhost:8080/",
          "height": 1000
        },
        "outputId": "721bca35-2f4f-420f-f54b-08a176bb5286"
      },
      "source": [
        "n = [1, 5, 25, 100]\n",
        "y = []\n",
        "\n",
        "for i in n:\n",
        "    s = []\n",
        "    sr = 0\n",
        "    for j in range(1001):\n",
        "        s.append(np.mean(stats.uniform.rvs(size=i)))   \n",
        "    y.append(s)\n",
        "    \n",
        "\n",
        "for i in y:\n",
        "    fig, ax = plt.subplots(1, 1)\n",
        "    plt.hist(i)"
      ],
      "execution_count": null,
      "outputs": [
        {
          "output_type": "display_data",
          "data": {
            "image/png": "[encoded data removed]",
            "text/plain": [
              "<Figure size 432x288 with 1 Axes>"
            ]
          },
          "metadata": {
            "tags": [],
            "needs_background": "light"
          }
        },
        {
          "output_type": "display_data",
          "data": {
            "image/png": "[encoded data removed]",
            "text/plain": [
              "<Figure size 432x288 with 1 Axes>"
            ]
          },
          "metadata": {
            "tags": [],
            "needs_background": "light"
          }
        },
        {
          "output_type": "display_data",
          "data": {
            "image/png": "[encoded data removed]",
            "text/plain": [
              "<Figure size 432x288 with 1 Axes>"
            ]
          },
          "metadata": {
            "tags": [],
            "needs_background": "light"
          }
        },
        {
          "output_type": "display_data",
          "data": {
            "image/png": "[encoded data removed]",
            "text/plain": [
              "<Figure size 432x288 with 1 Axes>"
            ]
          },
          "metadata": {
            "tags": [],
            "needs_background": "light"
          }
        }
      ]
    },
    {
      "cell_type": "markdown",
      "metadata": {
        "id": "_ebfABbl48rd"
      },
      "source": [
        "Распределение стремится к нормальному"
      ]
    },
    {
      "cell_type": "code",
      "metadata": {
        "id": "sOy2ww1d5DRI"
      },
      "source": [
        ""
      ],
      "execution_count": null,
      "outputs": []
    }
  ]
}