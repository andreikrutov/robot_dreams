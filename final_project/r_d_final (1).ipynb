{
 "cells": [
  {
   "cell_type": "markdown",
   "metadata": {},
   "source": [
    "Крутов Андрей"
   ]
  },
  {
   "cell_type": "code",
   "execution_count": 2,
   "metadata": {},
   "outputs": [],
   "source": [
    "import numpy as np\n",
    "import pandas as pd\n",
    "import matplotlib.pyplot as plt\n",
    "import seaborn as sns\n",
    "import scipy.stats as stats\n",
    "import statsmodels.api as sm\n"
   ]
  },
  {
   "cell_type": "code",
   "execution_count": 3,
   "metadata": {},
   "outputs": [],
   "source": [
    "%matplotlib inline"
   ]
  },
  {
   "cell_type": "markdown",
   "metadata": {},
   "source": [
    "## Задание 1. Линейная регрессия"
   ]
  },
  {
   "cell_type": "markdown",
   "metadata": {},
   "source": [
    "#### Данное задание является обязательным"
   ]
  },
  {
   "cell_type": "markdown",
   "metadata": {},
   "source": [
    "Наша задача - предсказать уровень преступности на душу населения, используя переменные в наборе данных Boston. Уровень преступности на душу населения будет нашим ответом, а другие переменные - предикторами."
   ]
  },
  {
   "cell_type": "markdown",
   "metadata": {},
   "source": [
    "### Бостон датасет"
   ]
  },
  {
   "cell_type": "markdown",
   "metadata": {},
   "source": [
    "Датасет содержит такие данные:\n",
    "\n",
    "-crim -- уровень преступности на душу населения по городам.\n",
    "\n",
    "-zn -- доля земель под жилую застройку, зонированных на участки более 25 000 кв. футов.\n",
    "\n",
    "-indus -- доля акров, не относящихся к розничной торговле, на город.\n",
    "\n",
    "-chas -- фиктивная переменная реки Чарльз (= 1, если участок ограничивает реку; 0 в противном случае).\n",
    "\n",
    "-nox -- концентрация оксидов азота (частей на 10 млн).\n",
    "\n",
    "-rm -- среднее количество комнат в доме.\n",
    "\n",
    "-age -- доля занятых владельцами участков, построенных до 1940 года.\n",
    "\n",
    "-dis -- среднее расстояние до пяти бостонских центров занятости.\n",
    "\n",
    "-rad -- индекс доступности радиальных магистралей.\n",
    "\n",
    "-tax -- полная ставка налога на имущество за \\ $ 10,000.\n",
    "\n",
    "-ptratio -- соотношение учеников и учителей по городам.\n",
    "\n",
    "-lstat -- более низкий статус населения (в процентах).\n",
    "\n",
    "-medv -- медианная стоимость домов, занимаемых владельцами, за 1000 долларов.\n",
    "\n",
    "\n",
    "Sources:\n",
    "Harrison, D. and Rubinfeld, D.L. (1978) Hedonic prices and the demand for clean air. J. Environ. Economics and Management 5, 81–102.\n",
    "\n",
    "Belsley D.A., Kuh, E. and Welsch, R.E. (1980) Regression Diagnostics. Identifying Influential Data and Sources of Collinearity. New York: Wiley."
   ]
  },
  {
   "cell_type": "code",
   "execution_count": 4,
   "metadata": {},
   "outputs": [],
   "source": [
    "params = {\n",
    "    'crim': 'уровень преступности на душу населения по городам',\n",
    "    'zn': 'доля земель под жилую застройку, зонированных на участки более 25 000 кв. футов',\n",
    "    'indus': 'доля акров, не относящихся к розничной торговле, на город',\n",
    "    'chas': 'фиктивная переменная реки Чарльз',\n",
    "    'nox': 'концентрация оксидов азота (частей на 10 млн)',\n",
    "    'rm': 'среднее количество комнат в доме',\n",
    "    'age': 'доля занятых владельцами участков, построенных до 1940 года',\n",
    "    'dis': 'среднее расстояние до пяти бостонских центров занятости',\n",
    "    'rad': 'индекс доступности радиальных магистралей',\n",
    "    'tax': 'полная ставка налога на имущество за $ 10,000',\n",
    "    'ptratio': 'соотношение учеников и учителей по городам',\n",
    "    'lstat': 'более низкий статус населения (в процентах)',\n",
    "    'medv': 'медианная стоимость домов, занимаемых владельцами, за 1000 долларов'\n",
    "}"
   ]
  },
  {
   "cell_type": "code",
   "execution_count": 5,
   "metadata": {},
   "outputs": [],
   "source": [
    "data = pd.read_csv('d://robot_dreams/statistics for DS/boston.csv', index_col=0)"
   ]
  },
  {
   "cell_type": "code",
   "execution_count": 6,
   "metadata": {},
   "outputs": [
    {
     "data": {
      "text/html": [
       "<div>\n",
       "<style scoped>\n",
       "    .dataframe tbody tr th:only-of-type {\n",
       "        vertical-align: middle;\n",
       "    }\n",
       "\n",
       "    .dataframe tbody tr th {\n",
       "        vertical-align: top;\n",
       "    }\n",
       "\n",
       "    .dataframe thead th {\n",
       "        text-align: right;\n",
       "    }\n",
       "</style>\n",
       "<table border=\"1\" class=\"dataframe\">\n",
       "  <thead>\n",
       "    <tr style=\"text-align: right;\">\n",
       "      <th></th>\n",
       "      <th>crim</th>\n",
       "      <th>zn</th>\n",
       "      <th>indus</th>\n",
       "      <th>chas</th>\n",
       "      <th>nox</th>\n",
       "      <th>rm</th>\n",
       "      <th>age</th>\n",
       "      <th>dis</th>\n",
       "      <th>rad</th>\n",
       "      <th>tax</th>\n",
       "      <th>ptratio</th>\n",
       "      <th>lstat</th>\n",
       "      <th>medv</th>\n",
       "    </tr>\n",
       "  </thead>\n",
       "  <tbody>\n",
       "    <tr>\n",
       "      <th>1</th>\n",
       "      <td>0.00632</td>\n",
       "      <td>18.0</td>\n",
       "      <td>2.31</td>\n",
       "      <td>0</td>\n",
       "      <td>0.538</td>\n",
       "      <td>6.575</td>\n",
       "      <td>65.2</td>\n",
       "      <td>4.0900</td>\n",
       "      <td>1</td>\n",
       "      <td>296</td>\n",
       "      <td>15.3</td>\n",
       "      <td>4.98</td>\n",
       "      <td>24.0</td>\n",
       "    </tr>\n",
       "    <tr>\n",
       "      <th>2</th>\n",
       "      <td>0.02731</td>\n",
       "      <td>0.0</td>\n",
       "      <td>7.07</td>\n",
       "      <td>0</td>\n",
       "      <td>0.469</td>\n",
       "      <td>6.421</td>\n",
       "      <td>78.9</td>\n",
       "      <td>4.9671</td>\n",
       "      <td>2</td>\n",
       "      <td>242</td>\n",
       "      <td>17.8</td>\n",
       "      <td>9.14</td>\n",
       "      <td>21.6</td>\n",
       "    </tr>\n",
       "    <tr>\n",
       "      <th>3</th>\n",
       "      <td>0.02729</td>\n",
       "      <td>0.0</td>\n",
       "      <td>7.07</td>\n",
       "      <td>0</td>\n",
       "      <td>0.469</td>\n",
       "      <td>7.185</td>\n",
       "      <td>61.1</td>\n",
       "      <td>4.9671</td>\n",
       "      <td>2</td>\n",
       "      <td>242</td>\n",
       "      <td>17.8</td>\n",
       "      <td>4.03</td>\n",
       "      <td>34.7</td>\n",
       "    </tr>\n",
       "    <tr>\n",
       "      <th>4</th>\n",
       "      <td>0.03237</td>\n",
       "      <td>0.0</td>\n",
       "      <td>2.18</td>\n",
       "      <td>0</td>\n",
       "      <td>0.458</td>\n",
       "      <td>6.998</td>\n",
       "      <td>45.8</td>\n",
       "      <td>6.0622</td>\n",
       "      <td>3</td>\n",
       "      <td>222</td>\n",
       "      <td>18.7</td>\n",
       "      <td>2.94</td>\n",
       "      <td>33.4</td>\n",
       "    </tr>\n",
       "    <tr>\n",
       "      <th>5</th>\n",
       "      <td>0.06905</td>\n",
       "      <td>0.0</td>\n",
       "      <td>2.18</td>\n",
       "      <td>0</td>\n",
       "      <td>0.458</td>\n",
       "      <td>7.147</td>\n",
       "      <td>54.2</td>\n",
       "      <td>6.0622</td>\n",
       "      <td>3</td>\n",
       "      <td>222</td>\n",
       "      <td>18.7</td>\n",
       "      <td>5.33</td>\n",
       "      <td>36.2</td>\n",
       "    </tr>\n",
       "  </tbody>\n",
       "</table>\n",
       "</div>"
      ],
      "text/plain": [
       "      crim    zn  indus  chas    nox     rm   age     dis  rad  tax  ptratio  \\\n",
       "1  0.00632  18.0   2.31     0  0.538  6.575  65.2  4.0900    1  296     15.3   \n",
       "2  0.02731   0.0   7.07     0  0.469  6.421  78.9  4.9671    2  242     17.8   \n",
       "3  0.02729   0.0   7.07     0  0.469  7.185  61.1  4.9671    2  242     17.8   \n",
       "4  0.03237   0.0   2.18     0  0.458  6.998  45.8  6.0622    3  222     18.7   \n",
       "5  0.06905   0.0   2.18     0  0.458  7.147  54.2  6.0622    3  222     18.7   \n",
       "\n",
       "   lstat  medv  \n",
       "1   4.98  24.0  \n",
       "2   9.14  21.6  \n",
       "3   4.03  34.7  \n",
       "4   2.94  33.4  \n",
       "5   5.33  36.2  "
      ]
     },
     "execution_count": 6,
     "metadata": {},
     "output_type": "execute_result"
    }
   ],
   "source": [
    "data.head()"
   ]
  },
  {
   "cell_type": "markdown",
   "metadata": {},
   "source": [
    "### Задание 1.1"
   ]
  },
  {
   "cell_type": "markdown",
   "metadata": {},
   "source": [
    "- Для каждого предиктора подберите простую модель линейной регрессии, чтобы предсказать ответ. \n",
    "- Опишите свои результаты. \n",
    "- В какой из моделей существует статистически значимая связь между предиктором и ответом? \n",
    "- Создайте несколько графиков, подтверждающих ваши утверждения."
   ]
  },
  {
   "cell_type": "code",
   "execution_count": 7,
   "metadata": {},
   "outputs": [
    {
     "data": {
      "text/plain": [
       "Index(['zn', 'indus', 'chas', 'nox', 'rm', 'age', 'dis', 'rad', 'tax',\n",
       "       'ptratio', 'lstat', 'medv'],\n",
       "      dtype='object')"
      ]
     },
     "execution_count": 7,
     "metadata": {},
     "output_type": "execute_result"
    }
   ],
   "source": [
    "cols = data.columns[1:]#названия предикторов без учета целевой переменной\n",
    "cols"
   ]
  },
  {
   "cell_type": "code",
   "execution_count": 8,
   "metadata": {},
   "outputs": [
    {
     "name": "stdout",
     "output_type": "stream",
     "text": [
      "nox\n",
      "                            OLS Regression Results                            \n",
      "==============================================================================\n",
      "Dep. Variable:                   crim   R-squared:                       0.177\n",
      "Model:                            OLS   Adj. R-squared:                  0.176\n",
      "Method:                 Least Squares   F-statistic:                     108.6\n",
      "Date:                Mon, 23 Aug 2021   Prob (F-statistic):           3.75e-23\n",
      "Time:                        02:43:29   Log-Likelihood:                -1757.0\n",
      "No. Observations:                 506   AIC:                             3518.\n",
      "Df Residuals:                     504   BIC:                             3526.\n",
      "Df Model:                           1                                         \n",
      "Covariance Type:            nonrobust                                         \n",
      "==============================================================================\n",
      "                 coef    std err          t      P>|t|      [0.025      0.975]\n",
      "------------------------------------------------------------------------------\n",
      "const        -13.7199      1.699     -8.073      0.000     -17.059     -10.381\n",
      "nox           31.2485      2.999     10.419      0.000      25.356      37.141\n",
      "==============================================================================\n",
      "Omnibus:                      591.712   Durbin-Watson:                   0.992\n",
      "Prob(Omnibus):                  0.000   Jarque-Bera (JB):            43138.106\n",
      "Skew:                           5.546   Prob(JB):                         0.00\n",
      "Kurtosis:                      46.852   Cond. No.                         11.3\n",
      "==============================================================================\n",
      "\n",
      "Notes:\n",
      "[1] Standard Errors assume that the covariance matrix of the errors is correctly specified.\n",
      "\n",
      "Уровень преступности зависит от концентрация оксидов азота (частей на 10 млн)\n",
      "___________________________________________________________________\n",
      "\n",
      "rad\n",
      "                            OLS Regression Results                            \n",
      "==============================================================================\n",
      "Dep. Variable:                   crim   R-squared:                       0.391\n",
      "Model:                            OLS   Adj. R-squared:                  0.390\n",
      "Method:                 Least Squares   F-statistic:                     323.9\n",
      "Date:                Mon, 23 Aug 2021   Prob (F-statistic):           2.69e-56\n",
      "Time:                        02:43:29   Log-Likelihood:                -1680.8\n",
      "No. Observations:                 506   AIC:                             3366.\n",
      "Df Residuals:                     504   BIC:                             3374.\n",
      "Df Model:                           1                                         \n",
      "Covariance Type:            nonrobust                                         \n",
      "==============================================================================\n",
      "                 coef    std err          t      P>|t|      [0.025      0.975]\n",
      "------------------------------------------------------------------------------\n",
      "const         -2.2872      0.443     -5.157      0.000      -3.158      -1.416\n",
      "rad            0.6179      0.034     17.998      0.000       0.550       0.685\n",
      "==============================================================================\n",
      "Omnibus:                      656.459   Durbin-Watson:                   1.337\n",
      "Prob(Omnibus):                  0.000   Jarque-Bera (JB):            75417.007\n",
      "Skew:                           6.478   Prob(JB):                         0.00\n",
      "Kurtosis:                      61.389   Cond. No.                         19.2\n",
      "==============================================================================\n",
      "\n",
      "Notes:\n",
      "[1] Standard Errors assume that the covariance matrix of the errors is correctly specified.\n",
      "\n",
      "Уровень преступности зависит от индекс доступности радиальных магистралей\n",
      "___________________________________________________________________\n",
      "\n",
      "tax\n",
      "                            OLS Regression Results                            \n",
      "==============================================================================\n",
      "Dep. Variable:                   crim   R-squared:                       0.340\n",
      "Model:                            OLS   Adj. R-squared:                  0.338\n",
      "Method:                 Least Squares   F-statistic:                     259.2\n",
      "Date:                Mon, 23 Aug 2021   Prob (F-statistic):           2.36e-47\n",
      "Time:                        02:43:29   Log-Likelihood:                -1701.4\n",
      "No. Observations:                 506   AIC:                             3407.\n",
      "Df Residuals:                     504   BIC:                             3415.\n",
      "Df Model:                           1                                         \n",
      "Covariance Type:            nonrobust                                         \n",
      "==============================================================================\n",
      "                 coef    std err          t      P>|t|      [0.025      0.975]\n",
      "------------------------------------------------------------------------------\n",
      "const         -8.5284      0.816    -10.454      0.000     -10.131      -6.926\n",
      "tax            0.0297      0.002     16.099      0.000       0.026       0.033\n",
      "==============================================================================\n",
      "Omnibus:                      635.377   Durbin-Watson:                   1.252\n",
      "Prob(Omnibus):                  0.000   Jarque-Bera (JB):            63763.835\n",
      "Skew:                           6.156   Prob(JB):                         0.00\n",
      "Kurtosis:                      56.599   Cond. No.                     1.16e+03\n",
      "==============================================================================\n",
      "\n",
      "Notes:\n",
      "[1] Standard Errors assume that the covariance matrix of the errors is correctly specified.\n",
      "[2] The condition number is large, 1.16e+03. This might indicate that there are\n",
      "strong multicollinearity or other numerical problems.\n",
      "\n",
      "Уровень преступности зависит от полная ставка налога на имущество за $ 10,000\n",
      "___________________________________________________________________\n",
      "\n",
      "lstat\n",
      "                            OLS Regression Results                            \n",
      "==============================================================================\n",
      "Dep. Variable:                   crim   R-squared:                       0.208\n",
      "Model:                            OLS   Adj. R-squared:                  0.206\n",
      "Method:                 Least Squares   F-statistic:                     132.0\n",
      "Date:                Mon, 23 Aug 2021   Prob (F-statistic):           2.65e-27\n",
      "Time:                        02:43:29   Log-Likelihood:                -1747.5\n",
      "No. Observations:                 506   AIC:                             3499.\n",
      "Df Residuals:                     504   BIC:                             3507.\n",
      "Df Model:                           1                                         \n",
      "Covariance Type:            nonrobust                                         \n",
      "==============================================================================\n",
      "                 coef    std err          t      P>|t|      [0.025      0.975]\n",
      "------------------------------------------------------------------------------\n",
      "const         -3.3305      0.694     -4.801      0.000      -4.694      -1.968\n",
      "lstat          0.5488      0.048     11.491      0.000       0.455       0.643\n",
      "==============================================================================\n",
      "Omnibus:                      601.306   Durbin-Watson:                   1.182\n",
      "Prob(Omnibus):                  0.000   Jarque-Bera (JB):            49918.826\n",
      "Skew:                           5.645   Prob(JB):                         0.00\n",
      "Kurtosis:                      50.331   Cond. No.                         29.7\n",
      "==============================================================================\n",
      "\n",
      "Notes:\n",
      "[1] Standard Errors assume that the covariance matrix of the errors is correctly specified.\n",
      "\n",
      "Уровень преступности зависит от более низкий статус населения (в процентах)\n",
      "___________________________________________________________________\n",
      "\n"
     ]
    }
   ],
   "source": [
    "y = data['crim']# целевая переменная\n",
    "preds = []#список для важных предикторов\n",
    "\n",
    "for colname in cols:\n",
    "    \n",
    "    X = data[colname]\n",
    "    X = sm.add_constant(X)#добавляем фиктивный признак\n",
    "         \n",
    "    model = sm.OLS(y,X)#используем метод наименьших квадратов\n",
    "    result = model.fit()\n",
    "    \n",
    "    if result.fvalue >= 100:#вводим порог для F-статистики\n",
    "        #print('Уровень преступности зависит от параметра {}'.format(colname))\n",
    "        print(colname)\n",
    "        print(result.summary())\n",
    "        print('')\n",
    "        print('Уровень преступности зависит от {}'.format(params[colname]))\n",
    "        print('___________________________________________________________________')\n",
    "        print('')\n",
    "        preds.append(colname)\n"
   ]
  },
  {
   "cell_type": "code",
   "execution_count": 9,
   "metadata": {},
   "outputs": [
    {
     "data": {
      "text/plain": [
       "['nox', 'rad', 'tax', 'lstat']"
      ]
     },
     "execution_count": 9,
     "metadata": {},
     "output_type": "execute_result"
    }
   ],
   "source": [
    "preds"
   ]
  },
  {
   "cell_type": "markdown",
   "metadata": {},
   "source": [
    "Отбросили те предикторы, для которых F-значение < 100, осталось 4 параметра - 'nox', 'rad', 'tax', 'lstat'. "
   ]
  },
  {
   "cell_type": "markdown",
   "metadata": {},
   "source": [
    "Построим графики зависимости уровня преступности от данных параметров"
   ]
  },
  {
   "cell_type": "code",
   "execution_count": 10,
   "metadata": {},
   "outputs": [
    {
     "data": {
      "image/png": "[encoded data removed]",
      "text/plain": [
       "<Figure size 432x288 with 1 Axes>"
      ]
     },
     "metadata": {
      "needs_background": "light"
     },
     "output_type": "display_data"
    },
    {
     "data": {
      "image/png": "[encoded data removed]",
      "text/plain": [
       "<Figure size 432x288 with 1 Axes>"
      ]
     },
     "metadata": {
      "needs_background": "light"
     },
     "output_type": "display_data"
    },
    {
     "data": {
      "image/png": "[encoded data removed]",
      "text/plain": [
       "<Figure size 432x288 with 1 Axes>"
      ]
     },
     "metadata": {
      "needs_background": "light"
     },
     "output_type": "display_data"
    },
    {
     "data": {
      "image/png": "[encoded data removed]",
      "text/plain": [
       "<Figure size 432x288 with 1 Axes>"
      ]
     },
     "metadata": {
      "needs_background": "light"
     },
     "output_type": "display_data"
    }
   ],
   "source": [
    "for i in preds:\n",
    "    fig, ax = plt.subplots()\n",
    "    sns.scatterplot(data=data, x=i, y='crim')\n",
    "    ax.set_xlabel(i,size=16)\n",
    "    ax.set_ylabel('Уровень преступности',size=16)"
   ]
  },
  {
   "cell_type": "markdown",
   "metadata": {},
   "source": [
    "Из графиков линейная зависимость между уровнем преступности и указанными параметрами не прослеживается. Скорее всего это связано с низким качеством модели, так как для всех выбранных параметров $R^2$ не превышает 0.4."
   ]
  },
  {
   "cell_type": "markdown",
   "metadata": {},
   "source": [
    "### Задание 1.2"
   ]
  },
  {
   "cell_type": "markdown",
   "metadata": {},
   "source": [
    "- Подберите модель множественной регрессии, чтобы предсказать ответ с использованием всех предикторов. \n",
    "- Опишите свои результаты. \n",
    "- Для каких предикторов мы можем отклонить основную гипотезу $H_0: \\beta_j = 0$?"
   ]
  },
  {
   "cell_type": "code",
   "execution_count": 11,
   "metadata": {},
   "outputs": [],
   "source": [
    "y = data['crim']#целевая переменная\n",
    "X = data.drop('crim', axis=1)#данные без целевой переменной"
   ]
  },
  {
   "cell_type": "code",
   "execution_count": 12,
   "metadata": {},
   "outputs": [],
   "source": [
    "X = sm.add_constant(X)"
   ]
  },
  {
   "cell_type": "code",
   "execution_count": 13,
   "metadata": {},
   "outputs": [
    {
     "name": "stdout",
     "output_type": "stream",
     "text": [
      "                            OLS Regression Results                            \n",
      "==============================================================================\n",
      "Dep. Variable:                   crim   R-squared:                       0.449\n",
      "Model:                            OLS   Adj. R-squared:                  0.436\n",
      "Method:                 Least Squares   F-statistic:                     33.52\n",
      "Date:                Mon, 23 Aug 2021   Prob (F-statistic):           2.03e-56\n",
      "Time:                        02:43:41   Log-Likelihood:                -1655.4\n",
      "No. Observations:                 506   AIC:                             3337.\n",
      "Df Residuals:                     493   BIC:                             3392.\n",
      "Df Model:                          12                                         \n",
      "Covariance Type:            nonrobust                                         \n",
      "==============================================================================\n",
      "                 coef    std err          t      P>|t|      [0.025      0.975]\n",
      "------------------------------------------------------------------------------\n",
      "const         13.7784      7.082      1.946      0.052      -0.136      27.693\n",
      "zn             0.0457      0.019      2.433      0.015       0.009       0.083\n",
      "indus         -0.0584      0.084     -0.698      0.486      -0.223       0.106\n",
      "chas          -0.8254      1.183     -0.697      0.486      -3.150       1.500\n",
      "nox           -9.9576      5.290     -1.882      0.060     -20.351       0.436\n",
      "rm             0.6289      0.607      1.036      0.301      -0.564       1.822\n",
      "age           -0.0008      0.018     -0.047      0.962      -0.036       0.034\n",
      "dis           -1.0122      0.282     -3.584      0.000      -1.567      -0.457\n",
      "rad            0.6125      0.088      6.997      0.000       0.440       0.784\n",
      "tax           -0.0038      0.005     -0.730      0.466      -0.014       0.006\n",
      "ptratio       -0.3041      0.186     -1.632      0.103      -0.670       0.062\n",
      "lstat          0.1388      0.076      1.833      0.067      -0.010       0.288\n",
      "medv          -0.2201      0.060     -3.678      0.000      -0.338      -0.103\n",
      "==============================================================================\n",
      "Omnibus:                      663.436   Durbin-Watson:                   1.516\n",
      "Prob(Omnibus):                  0.000   Jarque-Bera (JB):            80856.852\n",
      "Skew:                           6.579   Prob(JB):                         0.00\n",
      "Kurtosis:                      63.514   Cond. No.                     1.24e+04\n",
      "==============================================================================\n",
      "\n",
      "Notes:\n",
      "[1] Standard Errors assume that the covariance matrix of the errors is correctly specified.\n",
      "[2] The condition number is large, 1.24e+04. This might indicate that there are\n",
      "strong multicollinearity or other numerical problems.\n"
     ]
    }
   ],
   "source": [
    "model = sm.OLS(y,X)\n",
    "result = model.fit()\n",
    "print(result.summary())"
   ]
  },
  {
   "cell_type": "code",
   "execution_count": 14,
   "metadata": {},
   "outputs": [
    {
     "data": {
      "text/plain": [
       "const      False\n",
       "zn          True\n",
       "indus      False\n",
       "chas       False\n",
       "nox        False\n",
       "rm         False\n",
       "age        False\n",
       "dis         True\n",
       "rad         True\n",
       "tax        False\n",
       "ptratio    False\n",
       "lstat      False\n",
       "medv        True\n",
       "dtype: bool"
      ]
     },
     "execution_count": 14,
     "metadata": {},
     "output_type": "execute_result"
    }
   ],
   "source": [
    "np.round(result.pvalues,3) < 0.05"
   ]
  },
  {
   "cell_type": "code",
   "execution_count": 15,
   "metadata": {},
   "outputs": [
    {
     "name": "stdout",
     "output_type": "stream",
     "text": [
      "zn\n",
      "dis\n",
      "rad\n",
      "medv\n"
     ]
    }
   ],
   "source": [
    "for pval in result.pvalues:\n",
    "    if pval < 0.05:\n",
    "        print(result.pvalues[result.pvalues == pval].index[0])"
   ]
  },
  {
   "cell_type": "markdown",
   "metadata": {},
   "source": [
    "Значение F-статистики, мало, что говорит о слабой связи между целевой переменной и предикторами. Значение R2 меньше 0.5, значит полученная модель недостаточно хорошо описывает данные. Возможно, требуется изучение предикторов на предмет их корреляции между собой. "
   ]
  },
  {
   "cell_type": "markdown",
   "metadata": {},
   "source": [
    "Исходя из полученных резульатов, мы можем сказать о том, что для всех параметров кроме zn, dis, rad, medv мы можем отклонить нудевую гипотезу."
   ]
  },
  {
   "cell_type": "markdown",
   "metadata": {},
   "source": [
    "### Задание 1.3"
   ]
  },
  {
   "cell_type": "markdown",
   "metadata": {},
   "source": [
    "- Как ваши результаты из первой задачи связаны с вашими результатами из второй задачи? \n",
    "- Создайте график, отображающий коэффициенты одномерной регрессии на оси x и соответсвующие коэффициенты множественной регрессии на оси y. То есть каждый предиктор отображается как одна точка на графике. Его коэффициент в простой модели линейной регрессии показан на абсциссе, а его оценка коэффициента в модели множественной линейной регрессии показана на ординате."
   ]
  },
  {
   "cell_type": "markdown",
   "metadata": {},
   "source": [
    "Полученные результаты совпадают с пердыдущими (п.1.1) только по параметру rad."
   ]
  },
  {
   "cell_type": "code",
   "execution_count": 16,
   "metadata": {},
   "outputs": [],
   "source": [
    "#Найдем коэффициенты одномерной регрессии для всех предикторов вне зависимости от F-статистики\n",
    "\n",
    "y = data['crim']# целевая переменная\n",
    "preds = []#список для предикторов\n",
    "pred_coef = []#список для коэффициентов предикторов\n",
    "\n",
    "for colname in cols:\n",
    "    \n",
    "    X = data[colname]\n",
    "    X = sm.add_constant(X)#добавляем фиктивный признак\n",
    "         \n",
    "    model = sm.OLS(y,X)#используем метод наименьших квадратов\n",
    "    result_1 = model.fit()\n",
    "    \n",
    "    pred_coef.append(result_1.params[1])\n",
    "x_coef = pred_coef"
   ]
  },
  {
   "cell_type": "code",
   "execution_count": 17,
   "metadata": {},
   "outputs": [
    {
     "data": {
      "text/plain": [
       "[-0.07393497740412368,\n",
       " 0.5097763311042306,\n",
       " -1.8927765508037577,\n",
       " 31.24853120112291,\n",
       " -2.6840512241139476,\n",
       " 0.1077862271395331,\n",
       " -1.5509016824100994,\n",
       " 0.6179109273272013,\n",
       " 0.02974225282276537,\n",
       " 1.1519827870705872,\n",
       " 0.5488047820623981,\n",
       " -0.363159922257603]"
      ]
     },
     "execution_count": 17,
     "metadata": {},
     "output_type": "execute_result"
    }
   ],
   "source": [
    "x_coef"
   ]
  },
  {
   "cell_type": "code",
   "execution_count": 18,
   "metadata": {},
   "outputs": [],
   "source": [
    "y = data['crim']#целевая переменная\n",
    "X = data.drop('crim', axis=1)#данные без целевой переменной\n",
    "X = sm.add_constant(X)\n",
    "model = sm.OLS(y,X)\n",
    "result = model.fit()\n",
    "y_coef = result.params[1:]"
   ]
  },
  {
   "cell_type": "code",
   "execution_count": 19,
   "metadata": {},
   "outputs": [
    {
     "data": {
      "text/plain": [
       "const      13.778394\n",
       "zn          0.045710\n",
       "indus      -0.058350\n",
       "chas       -0.825378\n",
       "nox        -9.957587\n",
       "rm          0.628911\n",
       "age        -0.000848\n",
       "dis        -1.012247\n",
       "rad         0.612465\n",
       "tax        -0.003776\n",
       "ptratio    -0.304073\n",
       "lstat       0.138801\n",
       "medv       -0.220056\n",
       "dtype: float64"
      ]
     },
     "execution_count": 19,
     "metadata": {},
     "output_type": "execute_result"
    }
   ],
   "source": [
    "result.params"
   ]
  },
  {
   "cell_type": "code",
   "execution_count": 20,
   "metadata": {},
   "outputs": [
    {
     "data": {
      "text/plain": [
       "array([ 4.57100386e-02, -5.83501107e-02, -8.25377552e-01, -9.95758655e+00,\n",
       "        6.28910662e-01, -8.48279066e-04, -1.01224674e+00,  6.12465311e-01,\n",
       "       -3.77564652e-03, -3.04072757e-01,  1.38800597e-01, -2.20056359e-01])"
      ]
     },
     "execution_count": 20,
     "metadata": {},
     "output_type": "execute_result"
    }
   ],
   "source": [
    "y_coef.values"
   ]
  },
  {
   "cell_type": "code",
   "execution_count": 21,
   "metadata": {},
   "outputs": [
    {
     "data": {
      "text/plain": [
       "Text(0, 0.5, 'Множественная регрессия')"
      ]
     },
     "execution_count": 21,
     "metadata": {},
     "output_type": "execute_result"
    },
    {
     "data": {
      "image/png": "[encoded data removed]",
      "text/plain": [
       "<Figure size 432x288 with 1 Axes>"
      ]
     },
     "metadata": {
      "needs_background": "light"
     },
     "output_type": "display_data"
    }
   ],
   "source": [
    "fig, ax = plt.subplots()\n",
    "sns.scatterplot(x=x_coef, y=y_coef.values)\n",
    "\n",
    "ax.set_xlabel('Одномерная регрессия',size=10)\n",
    "ax.set_ylabel('Множественная регрессия',size=10)\n"
   ]
  },
  {
   "cell_type": "markdown",
   "metadata": {},
   "source": [
    "Очень сильно отличается коэффициент перед предиктором chas: от 31 в случае одномерной регрессии до -9 в случае множественной"
   ]
  },
  {
   "cell_type": "markdown",
   "metadata": {},
   "source": [
    "### Задание 1.4"
   ]
  },
  {
   "cell_type": "markdown",
   "metadata": {},
   "source": [
    "Есть ли доказательства нелинейной связи между какими-либо предикторами и ответом? Чтобы ответить на этот вопрос, обучите для каждого предиктора X модель до 3-ей степени, то есть $Y = \\beta_0 + \\beta_1 X + \\beta_2 X^2 + \\beta_3 X^3$"
   ]
  },
  {
   "cell_type": "code",
   "execution_count": 23,
   "metadata": {},
   "outputs": [
    {
     "name": "stdout",
     "output_type": "stream",
     "text": [
      "\n",
      "rad\n",
      "                            OLS Regression Results                            \n",
      "==============================================================================\n",
      "Dep. Variable:                   crim   R-squared:                       0.400\n",
      "Model:                            OLS   Adj. R-squared:                  0.396\n",
      "Method:                 Least Squares   F-statistic:                     111.6\n",
      "Date:                Mon, 23 Aug 2021   Prob (F-statistic):           2.31e-55\n",
      "Time:                        02:44:21   Log-Likelihood:                -1677.1\n",
      "No. Observations:                 506   AIC:                             3362.\n",
      "Df Residuals:                     502   BIC:                             3379.\n",
      "Df Model:                           3                                         \n",
      "Covariance Type:            nonrobust                                         \n",
      "==============================================================================\n",
      "                 coef    std err          t      P>|t|      [0.025      0.975]\n",
      "------------------------------------------------------------------------------\n",
      "const         -0.6055      2.050     -0.295      0.768      -4.633       3.422\n",
      "rad            0.5127      1.044      0.491      0.623      -1.538       2.563\n",
      "rad^2         -0.0752      0.149     -0.506      0.613      -0.367       0.217\n",
      "rad^3          0.0032      0.005      0.703      0.482      -0.006       0.012\n",
      "==============================================================================\n",
      "Omnibus:                      659.751   Durbin-Watson:                   1.351\n",
      "Prob(Omnibus):                  0.000   Jarque-Bera (JB):            77838.247\n",
      "Skew:                           6.526   Prob(JB):                         0.00\n",
      "Kurtosis:                      62.343   Cond. No.                     5.43e+04\n",
      "==============================================================================\n",
      "\n",
      "Notes:\n",
      "[1] Standard Errors assume that the covariance matrix of the errors is correctly specified.\n",
      "[2] The condition number is large, 5.43e+04. This might indicate that there are\n",
      "strong multicollinearity or other numerical problems.\n",
      "________________________\n",
      "\n",
      "\n",
      "medv\n",
      "                            OLS Regression Results                            \n",
      "==============================================================================\n",
      "Dep. Variable:                   crim   R-squared:                       0.420\n",
      "Model:                            OLS   Adj. R-squared:                  0.417\n",
      "Method:                 Least Squares   F-statistic:                     121.3\n",
      "Date:                Mon, 23 Aug 2021   Prob (F-statistic):           4.45e-59\n",
      "Time:                        02:44:21   Log-Likelihood:                -1668.5\n",
      "No. Observations:                 506   AIC:                             3345.\n",
      "Df Residuals:                     502   BIC:                             3362.\n",
      "Df Model:                           3                                         \n",
      "Covariance Type:            nonrobust                                         \n",
      "==============================================================================\n",
      "                 coef    std err          t      P>|t|      [0.025      0.975]\n",
      "------------------------------------------------------------------------------\n",
      "const         53.1655      3.356     15.840      0.000      46.571      59.760\n",
      "medv          -5.0948      0.434    -11.744      0.000      -5.947      -4.242\n",
      "medv^2         0.1555      0.017      9.046      0.000       0.122       0.189\n",
      "medv^3        -0.0015      0.000     -7.312      0.000      -0.002      -0.001\n",
      "==============================================================================\n",
      "Omnibus:                      569.730   Durbin-Watson:                   1.359\n",
      "Prob(Omnibus):                  0.000   Jarque-Bera (JB):            47929.717\n",
      "Skew:                           5.106   Prob(JB):                         0.00\n",
      "Kurtosis:                      49.573   Cond. No.                     3.67e+05\n",
      "==============================================================================\n",
      "\n",
      "Notes:\n",
      "[1] Standard Errors assume that the covariance matrix of the errors is correctly specified.\n",
      "[2] The condition number is large, 3.67e+05. This might indicate that there are\n",
      "strong multicollinearity or other numerical problems.\n",
      "________________________\n",
      "\n"
     ]
    }
   ],
   "source": [
    "y = data['crim']# целевая переменная  \n",
    "preds = []#список для предикторов\n",
    "\n",
    "for colname in cols:\n",
    "    \n",
    "    X = pd.DataFrame(data[colname])\n",
    "    \n",
    "    X2 = '{}^2'.format(colname)#квадрат\n",
    "    \n",
    "    X[X2] = X[colname] * X[colname]\n",
    "    \n",
    "    X3 = '{}^3'.format(colname)#третья степень\n",
    "    X[X3] = X[colname] * X[colname] * X[colname]\n",
    "    \n",
    "    X = sm.add_constant(X)#добавляем фиктивный признак\n",
    "         \n",
    "    model = sm.OLS(y,X)#используем метод наименьших квадратов\n",
    "    result = model.fit()\n",
    "    if result.fvalue >= 100:#ограничение на F-статистику\n",
    "        print('')\n",
    "        print(colname)\n",
    "        print(result.summary())\n",
    "        print('________________________')\n",
    "        print('')"
   ]
  },
  {
   "cell_type": "markdown",
   "metadata": {},
   "source": [
    "Статистически значимый вклад параметров первого, второго и третьего порядка наблюдается у предиктора medv."
   ]
  }
 ],
 "metadata": {
  "kernelspec": {
   "display_name": "Python 3",
   "language": "python",
   "name": "python3"
  },
  "language_info": {
   "codemirror_mode": {
    "name": "ipython",
    "version": 3
   },
   "file_extension": ".py",
   "mimetype": "text/x-python",
   "name": "python",
   "nbconvert_exporter": "python",
   "pygments_lexer": "ipython3",
   "version": "3.7.3"
  }
 },
 "nbformat": 4,
 "nbformat_minor": 4
}
