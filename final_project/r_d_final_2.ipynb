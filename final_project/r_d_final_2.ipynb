{
 "cells": [
  {
   "cell_type": "markdown",
   "metadata": {},
   "source": [
    "Крутов Андрей"
   ]
  },
  {
   "cell_type": "markdown",
   "metadata": {},
   "source": [
    "## Задание 2. Идентификация мошенников среди покупателей в онлайн-магазине"
   ]
  },
  {
   "cell_type": "markdown",
   "metadata": {},
   "source": [
    "#### Второе задание не является обязательным. Цель этого задания - предоставить возможность решить целостную задачу, аналогичную реальным рабочим проектам и получить развернутый фидбек и советы от лектора."
   ]
  },
  {
   "cell_type": "markdown",
   "metadata": {},
   "source": [
    "#### Customers_final_ex.csv — данные о покупателях\n",
    "Описание:\n",
    "* Customer_id — уникальный идентификатор учетной записи клиента\n",
    "* age — возраст клиентского счета в месяцах (может быть float)\n",
    "* num_s — количество посылок, отправленных на адрес, по которому покупатель не проживает в течение последнего месяца\n",
    "* num_dev — количество различных физических устройств (смартфонов, планшетов, ПК), связанных на данный момент с учетной записью\n",
    "* gender — мужчина, женщина, другое или нет информации\n",
    "* Preferred color — предпочтительный цвет заказчика"
   ]
  },
  {
   "cell_type": "markdown",
   "metadata": {},
   "source": [
    "#### Transactional_info_new.csv — данные о покупках этих покупателей в последнем месяце\n",
    "Описание:\n",
    "* transaction_id — уникальный идентификатор покупки\n",
    "* Dist — расстояние между адресом доставки и домашним адресом в км\n",
    "* payment_t — тип платежа: 0 — безопасный (кредитные карты, PayPal и т. д.) 1— небезопасный (счет, рассрочка)\n",
    "* count_dev_is_shop — страна, в которой находится устройство, с которого была совершена транзакция, идентифицируется по IP-адресу, идентична стране магазина (0 — да, 1 — нет)\n",
    "* basket — стоимость покупки\n",
    "* product_type — ценность товара в зависимости от типа товара\n",
    "* Fraudulent_Trans — отметка, считалась ли транзакция мошеннической (истинное значение)\n",
    "* Customer_id — идентификатор учетной записи клиента, в которой была создана эта транзакция\n",
    "* Day_of_Week — день недели, когда была создана транзакция (0 - воскресенье, 1 - понедельник и тд)"
   ]
  },
  {
   "cell_type": "markdown",
   "metadata": {},
   "source": [
    "#### Задание: \n",
    "* Проведите анализ полученных данных. Выберите метод анализа из изученных на курсе, обоснуйте свой выбор.\n",
    "* Проанализируйте, какие факторы важны для находки покупок мошенников, какие нет? \n",
    "* Создайте модель, которая будет предсказывать на будущее Fraudulent_Trans. \n",
    "* Пришлите файл jupyter notebook с анализом и детальным описанием своей работы: какие методы вы использовали, какие теории и гипотезы вы выдвигали, как вы их проверяли и к каким результатам пришли."
   ]
  },
  {
   "cell_type": "markdown",
   "metadata": {},
   "source": [
    "Решаем задачу классификации, так как надо предсказать принадлежность наблюдения к классу 1 или 0 (мошенничество или нет)"
   ]
  },
  {
   "cell_type": "code",
   "execution_count": 1,
   "metadata": {},
   "outputs": [],
   "source": [
    "import numpy as np\n",
    "import pandas as pd\n",
    "import matplotlib.pyplot as plt\n",
    "import seaborn as sns\n",
    "import scipy.stats as stats\n",
    "import statsmodels.api as sm\n",
    "\n",
    "from sklearn.linear_model import LogisticRegression\n",
    "from sklearn.metrics import f1_score, recall_score, precision_score\n",
    "from sklearn.model_selection import train_test_split\n",
    "from sklearn.model_selection import cross_validate\n",
    "from sklearn.preprocessing import StandardScaler"
   ]
  },
  {
   "cell_type": "code",
   "execution_count": 2,
   "metadata": {},
   "outputs": [],
   "source": [
    "customers = pd.read_csv('d://robot_dreams/statistics for DS/customers.csv', index_col=0).reset_index()"
   ]
  },
  {
   "cell_type": "code",
   "execution_count": 3,
   "metadata": {},
   "outputs": [
    {
     "data": {
      "text/html": [
       "<div>\n",
       "<style scoped>\n",
       "    .dataframe tbody tr th:only-of-type {\n",
       "        vertical-align: middle;\n",
       "    }\n",
       "\n",
       "    .dataframe tbody tr th {\n",
       "        vertical-align: top;\n",
       "    }\n",
       "\n",
       "    .dataframe thead th {\n",
       "        text-align: right;\n",
       "    }\n",
       "</style>\n",
       "<table border=\"1\" class=\"dataframe\">\n",
       "  <thead>\n",
       "    <tr style=\"text-align: right;\">\n",
       "      <th></th>\n",
       "      <th>Customer_id</th>\n",
       "      <th>age</th>\n",
       "      <th>num_s</th>\n",
       "      <th>num_dev</th>\n",
       "      <th>Preferred_col</th>\n",
       "      <th>Gender</th>\n",
       "    </tr>\n",
       "  </thead>\n",
       "  <tbody>\n",
       "    <tr>\n",
       "      <th>0</th>\n",
       "      <td>customer_448</td>\n",
       "      <td>35.724517</td>\n",
       "      <td>2</td>\n",
       "      <td>3</td>\n",
       "      <td>blue</td>\n",
       "      <td>f</td>\n",
       "    </tr>\n",
       "    <tr>\n",
       "      <th>1</th>\n",
       "      <td>customer_183</td>\n",
       "      <td>17.396979</td>\n",
       "      <td>1</td>\n",
       "      <td>4</td>\n",
       "      <td>brown</td>\n",
       "      <td>f</td>\n",
       "    </tr>\n",
       "  </tbody>\n",
       "</table>\n",
       "</div>"
      ],
      "text/plain": [
       "    Customer_id        age  num_s  num_dev Preferred_col Gender\n",
       "0  customer_448  35.724517      2        3          blue      f\n",
       "1  customer_183  17.396979      1        4         brown      f"
      ]
     },
     "execution_count": 3,
     "metadata": {},
     "output_type": "execute_result"
    }
   ],
   "source": [
    "customers.head(2)"
   ]
  },
  {
   "cell_type": "code",
   "execution_count": 4,
   "metadata": {},
   "outputs": [
    {
     "name": "stdout",
     "output_type": "stream",
     "text": [
      "<class 'pandas.core.frame.DataFrame'>\n",
      "RangeIndex: 450 entries, 0 to 449\n",
      "Data columns (total 6 columns):\n",
      " #   Column         Non-Null Count  Dtype  \n",
      "---  ------         --------------  -----  \n",
      " 0   Customer_id    450 non-null    object \n",
      " 1   age            450 non-null    float64\n",
      " 2   num_s          450 non-null    int64  \n",
      " 3   num_dev        450 non-null    int64  \n",
      " 4   Preferred_col  450 non-null    object \n",
      " 5   Gender         450 non-null    object \n",
      "dtypes: float64(1), int64(2), object(3)\n",
      "memory usage: 21.2+ KB\n"
     ]
    }
   ],
   "source": [
    "customers.info()"
   ]
  },
  {
   "cell_type": "code",
   "execution_count": 5,
   "metadata": {},
   "outputs": [
    {
     "data": {
      "text/plain": [
       "(450, 6)"
      ]
     },
     "execution_count": 5,
     "metadata": {},
     "output_type": "execute_result"
    }
   ],
   "source": [
    "customers.shape"
   ]
  },
  {
   "cell_type": "code",
   "execution_count": 6,
   "metadata": {},
   "outputs": [],
   "source": [
    "transactions = pd.read_csv('d://robot_dreams/statistics for DS/transactions_ex.csv', index_col=0).reset_index()"
   ]
  },
  {
   "cell_type": "code",
   "execution_count": 7,
   "metadata": {},
   "outputs": [
    {
     "data": {
      "text/html": [
       "<div>\n",
       "<style scoped>\n",
       "    .dataframe tbody tr th:only-of-type {\n",
       "        vertical-align: middle;\n",
       "    }\n",
       "\n",
       "    .dataframe tbody tr th {\n",
       "        vertical-align: top;\n",
       "    }\n",
       "\n",
       "    .dataframe thead th {\n",
       "        text-align: right;\n",
       "    }\n",
       "</style>\n",
       "<table border=\"1\" class=\"dataframe\">\n",
       "  <thead>\n",
       "    <tr style=\"text-align: right;\">\n",
       "      <th></th>\n",
       "      <th>transaction_id</th>\n",
       "      <th>Dist</th>\n",
       "      <th>payment_t</th>\n",
       "      <th>count_dev_is_shop</th>\n",
       "      <th>basket</th>\n",
       "      <th>product_type</th>\n",
       "      <th>Customer_id</th>\n",
       "      <th>Day_of_week</th>\n",
       "      <th>Fraudulent_trans</th>\n",
       "    </tr>\n",
       "  </thead>\n",
       "  <tbody>\n",
       "    <tr>\n",
       "      <th>0</th>\n",
       "      <td>transaction_0</td>\n",
       "      <td>105.926953</td>\n",
       "      <td>0.0</td>\n",
       "      <td>0.0</td>\n",
       "      <td>46.390320</td>\n",
       "      <td>0</td>\n",
       "      <td>customer_448</td>\n",
       "      <td>5</td>\n",
       "      <td>0.0</td>\n",
       "    </tr>\n",
       "    <tr>\n",
       "      <th>1</th>\n",
       "      <td>transaction_1</td>\n",
       "      <td>185.256711</td>\n",
       "      <td>1.0</td>\n",
       "      <td>0.0</td>\n",
       "      <td>60.701211</td>\n",
       "      <td>1</td>\n",
       "      <td>customer_183</td>\n",
       "      <td>0</td>\n",
       "      <td>0.0</td>\n",
       "    </tr>\n",
       "  </tbody>\n",
       "</table>\n",
       "</div>"
      ],
      "text/plain": [
       "  transaction_id        Dist  payment_t  count_dev_is_shop     basket  \\\n",
       "0  transaction_0  105.926953        0.0                0.0  46.390320   \n",
       "1  transaction_1  185.256711        1.0                0.0  60.701211   \n",
       "\n",
       "   product_type   Customer_id  Day_of_week  Fraudulent_trans  \n",
       "0             0  customer_448            5               0.0  \n",
       "1             1  customer_183            0               0.0  "
      ]
     },
     "execution_count": 7,
     "metadata": {},
     "output_type": "execute_result"
    }
   ],
   "source": [
    "transactions.head(2)"
   ]
  },
  {
   "cell_type": "code",
   "execution_count": 8,
   "metadata": {
    "scrolled": true
   },
   "outputs": [
    {
     "name": "stdout",
     "output_type": "stream",
     "text": [
      "<class 'pandas.core.frame.DataFrame'>\n",
      "RangeIndex: 1000 entries, 0 to 999\n",
      "Data columns (total 9 columns):\n",
      " #   Column             Non-Null Count  Dtype  \n",
      "---  ------             --------------  -----  \n",
      " 0   transaction_id     1000 non-null   object \n",
      " 1   Dist               1000 non-null   float64\n",
      " 2   payment_t          1000 non-null   float64\n",
      " 3   count_dev_is_shop  1000 non-null   float64\n",
      " 4   basket             1000 non-null   float64\n",
      " 5   product_type       1000 non-null   int64  \n",
      " 6   Customer_id        1000 non-null   object \n",
      " 7   Day_of_week        1000 non-null   int64  \n",
      " 8   Fraudulent_trans   1000 non-null   float64\n",
      "dtypes: float64(5), int64(2), object(2)\n",
      "memory usage: 70.4+ KB\n"
     ]
    }
   ],
   "source": [
    "transactions.info()"
   ]
  },
  {
   "cell_type": "code",
   "execution_count": 9,
   "metadata": {},
   "outputs": [
    {
     "data": {
      "text/plain": [
       "(1000, 9)"
      ]
     },
     "execution_count": 9,
     "metadata": {},
     "output_type": "execute_result"
    }
   ],
   "source": [
    "transactions.shape"
   ]
  },
  {
   "cell_type": "code",
   "execution_count": 10,
   "metadata": {},
   "outputs": [],
   "source": [
    "#Объединим наборы\n",
    "merged_df = transactions.merge(customers, on='Customer_id', how='left')"
   ]
  },
  {
   "cell_type": "code",
   "execution_count": 11,
   "metadata": {},
   "outputs": [
    {
     "data": {
      "text/html": [
       "<div>\n",
       "<style scoped>\n",
       "    .dataframe tbody tr th:only-of-type {\n",
       "        vertical-align: middle;\n",
       "    }\n",
       "\n",
       "    .dataframe tbody tr th {\n",
       "        vertical-align: top;\n",
       "    }\n",
       "\n",
       "    .dataframe thead th {\n",
       "        text-align: right;\n",
       "    }\n",
       "</style>\n",
       "<table border=\"1\" class=\"dataframe\">\n",
       "  <thead>\n",
       "    <tr style=\"text-align: right;\">\n",
       "      <th></th>\n",
       "      <th>transaction_id</th>\n",
       "      <th>Dist</th>\n",
       "      <th>payment_t</th>\n",
       "      <th>count_dev_is_shop</th>\n",
       "      <th>basket</th>\n",
       "      <th>product_type</th>\n",
       "      <th>Customer_id</th>\n",
       "      <th>Day_of_week</th>\n",
       "      <th>Fraudulent_trans</th>\n",
       "      <th>age</th>\n",
       "      <th>num_s</th>\n",
       "      <th>num_dev</th>\n",
       "      <th>Preferred_col</th>\n",
       "      <th>Gender</th>\n",
       "    </tr>\n",
       "  </thead>\n",
       "  <tbody>\n",
       "    <tr>\n",
       "      <th>0</th>\n",
       "      <td>transaction_0</td>\n",
       "      <td>105.926953</td>\n",
       "      <td>0.0</td>\n",
       "      <td>0.0</td>\n",
       "      <td>46.390320</td>\n",
       "      <td>0</td>\n",
       "      <td>customer_448</td>\n",
       "      <td>5</td>\n",
       "      <td>0.0</td>\n",
       "      <td>35.724517</td>\n",
       "      <td>2.0</td>\n",
       "      <td>3.0</td>\n",
       "      <td>blue</td>\n",
       "      <td>f</td>\n",
       "    </tr>\n",
       "    <tr>\n",
       "      <th>1</th>\n",
       "      <td>transaction_1</td>\n",
       "      <td>185.256711</td>\n",
       "      <td>1.0</td>\n",
       "      <td>0.0</td>\n",
       "      <td>60.701211</td>\n",
       "      <td>1</td>\n",
       "      <td>customer_183</td>\n",
       "      <td>0</td>\n",
       "      <td>0.0</td>\n",
       "      <td>17.396979</td>\n",
       "      <td>1.0</td>\n",
       "      <td>4.0</td>\n",
       "      <td>brown</td>\n",
       "      <td>f</td>\n",
       "    </tr>\n",
       "    <tr>\n",
       "      <th>2</th>\n",
       "      <td>transaction_2</td>\n",
       "      <td>71.725825</td>\n",
       "      <td>0.0</td>\n",
       "      <td>1.0</td>\n",
       "      <td>79.602869</td>\n",
       "      <td>0</td>\n",
       "      <td>customer_261</td>\n",
       "      <td>2</td>\n",
       "      <td>0.0</td>\n",
       "      <td>37.054879</td>\n",
       "      <td>3.0</td>\n",
       "      <td>4.0</td>\n",
       "      <td>white</td>\n",
       "      <td>m</td>\n",
       "    </tr>\n",
       "  </tbody>\n",
       "</table>\n",
       "</div>"
      ],
      "text/plain": [
       "  transaction_id        Dist  payment_t  count_dev_is_shop     basket  \\\n",
       "0  transaction_0  105.926953        0.0                0.0  46.390320   \n",
       "1  transaction_1  185.256711        1.0                0.0  60.701211   \n",
       "2  transaction_2   71.725825        0.0                1.0  79.602869   \n",
       "\n",
       "   product_type   Customer_id  Day_of_week  Fraudulent_trans        age  \\\n",
       "0             0  customer_448            5               0.0  35.724517   \n",
       "1             1  customer_183            0               0.0  17.396979   \n",
       "2             0  customer_261            2               0.0  37.054879   \n",
       "\n",
       "   num_s  num_dev Preferred_col Gender  \n",
       "0    2.0      3.0          blue      f  \n",
       "1    1.0      4.0         brown      f  \n",
       "2    3.0      4.0         white      m  "
      ]
     },
     "execution_count": 11,
     "metadata": {},
     "output_type": "execute_result"
    }
   ],
   "source": [
    "merged_df.head(3)"
   ]
  },
  {
   "cell_type": "code",
   "execution_count": 12,
   "metadata": {},
   "outputs": [
    {
     "data": {
      "text/plain": [
       "0"
      ]
     },
     "execution_count": 12,
     "metadata": {},
     "output_type": "execute_result"
    }
   ],
   "source": [
    "merged_df['Customer_id'].isnull().sum()"
   ]
  },
  {
   "cell_type": "markdown",
   "metadata": {},
   "source": [
    "В колонке Customer_id нет пропущенных значений"
   ]
  },
  {
   "cell_type": "code",
   "execution_count": 13,
   "metadata": {},
   "outputs": [],
   "source": [
    "merged_df = merged_df.fillna(0)#заполним пропуски нулями"
   ]
  },
  {
   "cell_type": "markdown",
   "metadata": {},
   "source": [
    "Id транзакции и покупателя - это значения, которые присваиваютс системой, значит их можно отбросить"
   ]
  },
  {
   "cell_type": "code",
   "execution_count": 14,
   "metadata": {},
   "outputs": [],
   "source": [
    "merged_df = merged_df.drop(['transaction_id', 'Customer_id'], axis=1)"
   ]
  },
  {
   "cell_type": "code",
   "execution_count": 15,
   "metadata": {},
   "outputs": [],
   "source": [
    "data = merged_df\n",
    "data['Fraudulent_trans'] = data['Fraudulent_trans'].astype('int64')"
   ]
  },
  {
   "cell_type": "code",
   "execution_count": 16,
   "metadata": {},
   "outputs": [
    {
     "name": "stdout",
     "output_type": "stream",
     "text": [
      "<class 'pandas.core.frame.DataFrame'>\n",
      "Int64Index: 1000 entries, 0 to 999\n",
      "Data columns (total 12 columns):\n",
      " #   Column             Non-Null Count  Dtype  \n",
      "---  ------             --------------  -----  \n",
      " 0   Dist               1000 non-null   float64\n",
      " 1   payment_t          1000 non-null   float64\n",
      " 2   count_dev_is_shop  1000 non-null   float64\n",
      " 3   basket             1000 non-null   float64\n",
      " 4   product_type       1000 non-null   int64  \n",
      " 5   Day_of_week        1000 non-null   int64  \n",
      " 6   Fraudulent_trans   1000 non-null   int64  \n",
      " 7   age                1000 non-null   float64\n",
      " 8   num_s              1000 non-null   float64\n",
      " 9   num_dev            1000 non-null   float64\n",
      " 10  Preferred_col      1000 non-null   object \n",
      " 11  Gender             1000 non-null   object \n",
      "dtypes: float64(7), int64(3), object(2)\n",
      "memory usage: 101.6+ KB\n"
     ]
    }
   ],
   "source": [
    "data.info()"
   ]
  },
  {
   "cell_type": "code",
   "execution_count": 17,
   "metadata": {},
   "outputs": [],
   "source": [
    "data['gender_cat'] = np.where(data['Gender']=='m', 1,0)# m=1, f=0 - закодируем пол покупателя\n",
    "data = data.drop('Gender', axis=1)"
   ]
  },
  {
   "cell_type": "code",
   "execution_count": 18,
   "metadata": {},
   "outputs": [
    {
     "data": {
      "text/html": [
       "<div>\n",
       "<style scoped>\n",
       "    .dataframe tbody tr th:only-of-type {\n",
       "        vertical-align: middle;\n",
       "    }\n",
       "\n",
       "    .dataframe tbody tr th {\n",
       "        vertical-align: top;\n",
       "    }\n",
       "\n",
       "    .dataframe thead th {\n",
       "        text-align: right;\n",
       "    }\n",
       "</style>\n",
       "<table border=\"1\" class=\"dataframe\">\n",
       "  <thead>\n",
       "    <tr style=\"text-align: right;\">\n",
       "      <th></th>\n",
       "      <th>Dist</th>\n",
       "      <th>payment_t</th>\n",
       "      <th>count_dev_is_shop</th>\n",
       "      <th>basket</th>\n",
       "      <th>product_type</th>\n",
       "      <th>Day_of_week</th>\n",
       "      <th>Fraudulent_trans</th>\n",
       "      <th>age</th>\n",
       "      <th>num_s</th>\n",
       "      <th>num_dev</th>\n",
       "      <th>Preferred_col</th>\n",
       "      <th>gender_cat</th>\n",
       "    </tr>\n",
       "  </thead>\n",
       "  <tbody>\n",
       "    <tr>\n",
       "      <th>0</th>\n",
       "      <td>105.926953</td>\n",
       "      <td>0.0</td>\n",
       "      <td>0.0</td>\n",
       "      <td>46.390320</td>\n",
       "      <td>0</td>\n",
       "      <td>5</td>\n",
       "      <td>0</td>\n",
       "      <td>35.724517</td>\n",
       "      <td>2.0</td>\n",
       "      <td>3.0</td>\n",
       "      <td>blue</td>\n",
       "      <td>0</td>\n",
       "    </tr>\n",
       "    <tr>\n",
       "      <th>1</th>\n",
       "      <td>185.256711</td>\n",
       "      <td>1.0</td>\n",
       "      <td>0.0</td>\n",
       "      <td>60.701211</td>\n",
       "      <td>1</td>\n",
       "      <td>0</td>\n",
       "      <td>0</td>\n",
       "      <td>17.396979</td>\n",
       "      <td>1.0</td>\n",
       "      <td>4.0</td>\n",
       "      <td>brown</td>\n",
       "      <td>0</td>\n",
       "    </tr>\n",
       "  </tbody>\n",
       "</table>\n",
       "</div>"
      ],
      "text/plain": [
       "         Dist  payment_t  count_dev_is_shop     basket  product_type  \\\n",
       "0  105.926953        0.0                0.0  46.390320             0   \n",
       "1  185.256711        1.0                0.0  60.701211             1   \n",
       "\n",
       "   Day_of_week  Fraudulent_trans        age  num_s  num_dev Preferred_col  \\\n",
       "0            5                 0  35.724517    2.0      3.0          blue   \n",
       "1            0                 0  17.396979    1.0      4.0         brown   \n",
       "\n",
       "   gender_cat  \n",
       "0           0  \n",
       "1           0  "
      ]
     },
     "execution_count": 18,
     "metadata": {},
     "output_type": "execute_result"
    }
   ],
   "source": [
    "data.head(2)"
   ]
  },
  {
   "cell_type": "markdown",
   "metadata": {},
   "source": [
    "Переменная Preferred_col - не числовая, ее необходимо закодировать при помощи one-hot-encoding. Так как задание выполняется в рамках курса, то просто отбросим эту переменную."
   ]
  },
  {
   "cell_type": "code",
   "execution_count": 19,
   "metadata": {},
   "outputs": [],
   "source": [
    "data = data.drop('Preferred_col', axis=1)"
   ]
  },
  {
   "cell_type": "markdown",
   "metadata": {},
   "source": [
    "Посмотрим на баланс классов"
   ]
  },
  {
   "cell_type": "code",
   "execution_count": 21,
   "metadata": {},
   "outputs": [
    {
     "data": {
      "image/png": "[encoded data removed]",
      "text/plain": [
       "<Figure size 432x288 with 1 Axes>"
      ]
     },
     "metadata": {
      "needs_background": "light"
     },
     "output_type": "display_data"
    }
   ],
   "source": [
    "_ = sns.histplot(data['Fraudulent_trans'])"
   ]
  },
  {
   "cell_type": "markdown",
   "metadata": {},
   "source": [
    "Классы не сбалансированы"
   ]
  },
  {
   "cell_type": "markdown",
   "metadata": {},
   "source": [
    "Построим графики рассения оставшихся переменных и целевой переменной"
   ]
  },
  {
   "cell_type": "code",
   "execution_count": 23,
   "metadata": {},
   "outputs": [
    {
     "data": {
      "image/png": "[encoded data removed]",
      "text/plain": [
       "<Figure size 432x288 with 1 Axes>"
      ]
     },
     "metadata": {
      "needs_background": "light"
     },
     "output_type": "display_data"
    },
    {
     "data": {
      "image/png": "[encoded data removed]",
      "text/plain": [
       "<Figure size 432x288 with 1 Axes>"
      ]
     },
     "metadata": {
      "needs_background": "light"
     },
     "output_type": "display_data"
    },
    {
     "data": {
      "image/png": "[encoded data removed]",
      "text/plain": [
       "<Figure size 432x288 with 1 Axes>"
      ]
     },
     "metadata": {
      "needs_background": "light"
     },
     "output_type": "display_data"
    },
    {
     "data": {
      "image/png": "[encoded data removed]",
      "text/plain": [
       "<Figure size 432x288 with 1 Axes>"
      ]
     },
     "metadata": {
      "needs_background": "light"
     },
     "output_type": "display_data"
    },
    {
     "data": {
      "image/png": "[encoded data removed]",
      "text/plain": [
       "<Figure size 432x288 with 1 Axes>"
      ]
     },
     "metadata": {
      "needs_background": "light"
     },
     "output_type": "display_data"
    },
    {
     "data": {
      "image/png": "[encoded data removed]",
      "text/plain": [
       "<Figure size 432x288 with 1 Axes>"
      ]
     },
     "metadata": {
      "needs_background": "light"
     },
     "output_type": "display_data"
    },
    {
     "data": {
      "image/png": "[encoded data removed]",
      "text/plain": [
       "<Figure size 432x288 with 1 Axes>"
      ]
     },
     "metadata": {
      "needs_background": "light"
     },
     "output_type": "display_data"
    }
   ],
   "source": [
    "cols = ['payment_t', 'count_dev_is_shop', 'product_type', 'Day_of_week', 'num_s', 'num_dev', 'gender_cat']# выберем дискретные переменные\n",
    "for i in cols:#построим долю мошенничества в зависимости от переменной\n",
    "    fig, ax = plt.subplots()\n",
    "    sns.barplot(data=data, x=i, y='Fraudulent_trans')\n",
    "    ax.set_xlabel(i,size=16)\n",
    "    ax.set_ylabel('Fraud',size=16)"
   ]
  },
  {
   "cell_type": "markdown",
   "metadata": {},
   "source": [
    "Исходя из графиков, при построении модели будем учитывать все указанные параметры"
   ]
  },
  {
   "cell_type": "code",
   "execution_count": 24,
   "metadata": {},
   "outputs": [
    {
     "data": {
      "image/png": "[encoded data removed]",
      "text/plain": [
       "<Figure size 432x288 with 1 Axes>"
      ]
     },
     "metadata": {
      "needs_background": "light"
     },
     "output_type": "display_data"
    },
    {
     "data": {
      "image/png": "[encoded data removed]",
      "text/plain": [
       "<Figure size 432x288 with 1 Axes>"
      ]
     },
     "metadata": {
      "needs_background": "light"
     },
     "output_type": "display_data"
    },
    {
     "data": {
      "image/png": "[encoded data removed]",
      "text/plain": [
       "<Figure size 432x288 with 1 Axes>"
      ]
     },
     "metadata": {
      "needs_background": "light"
     },
     "output_type": "display_data"
    }
   ],
   "source": [
    "cols = ['Dist', 'basket', 'age']# выберем непрерывные переменные\n",
    "for i in cols:#построим долю мошенничества в зависимости от переменной\n",
    "    fig, ax = plt.subplots()\n",
    "    sns.boxplot(x=data['Fraudulent_trans'], y=data[i])\n",
    "    \n",
    "    ax.set_xlabel('Fraud',size=16)\n",
    "    ax.set_ylabel(i,size=16)"
   ]
  },
  {
   "cell_type": "markdown",
   "metadata": {},
   "source": [
    "Мошенничество не зависит от возраста. В данных по корзине есть большой выброс, уберем его."
   ]
  },
  {
   "cell_type": "code",
   "execution_count": 25,
   "metadata": {},
   "outputs": [],
   "source": [
    "data = data.drop(data['basket'].idxmax(),axis=0)#по индексу убираем запись с наибольшим значением basket"
   ]
  },
  {
   "cell_type": "code",
   "execution_count": 26,
   "metadata": {},
   "outputs": [
    {
     "data": {
      "image/png": "[encoded data removed]",
      "text/plain": [
       "<Figure size 432x288 with 1 Axes>"
      ]
     },
     "metadata": {
      "needs_background": "light"
     },
     "output_type": "display_data"
    }
   ],
   "source": [
    "_ = sns.boxplot(x=data['Fraudulent_trans'], y=data['basket'])"
   ]
  },
  {
   "cell_type": "code",
   "execution_count": 27,
   "metadata": {},
   "outputs": [],
   "source": [
    "data = data.drop('age', axis=1)#убрали возраст"
   ]
  },
  {
   "cell_type": "code",
   "execution_count": 28,
   "metadata": {},
   "outputs": [],
   "source": [
    "target = data['Fraudulent_trans']# целевая переменная\n",
    "data = data.drop('Fraudulent_trans', axis=1)#данные без целевой переменной"
   ]
  },
  {
   "cell_type": "markdown",
   "metadata": {},
   "source": [
    "Проверим корреляцию данных"
   ]
  },
  {
   "cell_type": "code",
   "execution_count": 29,
   "metadata": {},
   "outputs": [
    {
     "data": {
      "text/html": [
       "<div>\n",
       "<style scoped>\n",
       "    .dataframe tbody tr th:only-of-type {\n",
       "        vertical-align: middle;\n",
       "    }\n",
       "\n",
       "    .dataframe tbody tr th {\n",
       "        vertical-align: top;\n",
       "    }\n",
       "\n",
       "    .dataframe thead th {\n",
       "        text-align: right;\n",
       "    }\n",
       "</style>\n",
       "<table border=\"1\" class=\"dataframe\">\n",
       "  <thead>\n",
       "    <tr style=\"text-align: right;\">\n",
       "      <th></th>\n",
       "      <th>Dist</th>\n",
       "      <th>payment_t</th>\n",
       "      <th>count_dev_is_shop</th>\n",
       "      <th>basket</th>\n",
       "      <th>product_type</th>\n",
       "      <th>Day_of_week</th>\n",
       "      <th>num_s</th>\n",
       "      <th>num_dev</th>\n",
       "      <th>gender_cat</th>\n",
       "    </tr>\n",
       "  </thead>\n",
       "  <tbody>\n",
       "    <tr>\n",
       "      <th>Dist</th>\n",
       "      <td>1.000000</td>\n",
       "      <td>0.126793</td>\n",
       "      <td>0.374763</td>\n",
       "      <td>0.279261</td>\n",
       "      <td>0.017310</td>\n",
       "      <td>-0.044246</td>\n",
       "      <td>0.221751</td>\n",
       "      <td>0.166162</td>\n",
       "      <td>0.022427</td>\n",
       "    </tr>\n",
       "    <tr>\n",
       "      <th>payment_t</th>\n",
       "      <td>0.126793</td>\n",
       "      <td>1.000000</td>\n",
       "      <td>0.270514</td>\n",
       "      <td>0.114932</td>\n",
       "      <td>0.013620</td>\n",
       "      <td>0.018881</td>\n",
       "      <td>0.078127</td>\n",
       "      <td>0.049293</td>\n",
       "      <td>-0.006510</td>\n",
       "    </tr>\n",
       "    <tr>\n",
       "      <th>count_dev_is_shop</th>\n",
       "      <td>0.374763</td>\n",
       "      <td>0.270514</td>\n",
       "      <td>1.000000</td>\n",
       "      <td>0.301060</td>\n",
       "      <td>-0.055935</td>\n",
       "      <td>-0.091766</td>\n",
       "      <td>0.333310</td>\n",
       "      <td>0.231278</td>\n",
       "      <td>0.004273</td>\n",
       "    </tr>\n",
       "    <tr>\n",
       "      <th>basket</th>\n",
       "      <td>0.279261</td>\n",
       "      <td>0.114932</td>\n",
       "      <td>0.301060</td>\n",
       "      <td>1.000000</td>\n",
       "      <td>-0.032096</td>\n",
       "      <td>-0.027582</td>\n",
       "      <td>0.185796</td>\n",
       "      <td>0.180268</td>\n",
       "      <td>-0.014656</td>\n",
       "    </tr>\n",
       "    <tr>\n",
       "      <th>product_type</th>\n",
       "      <td>0.017310</td>\n",
       "      <td>0.013620</td>\n",
       "      <td>-0.055935</td>\n",
       "      <td>-0.032096</td>\n",
       "      <td>1.000000</td>\n",
       "      <td>0.012323</td>\n",
       "      <td>0.008683</td>\n",
       "      <td>-0.014921</td>\n",
       "      <td>-0.002315</td>\n",
       "    </tr>\n",
       "    <tr>\n",
       "      <th>Day_of_week</th>\n",
       "      <td>-0.044246</td>\n",
       "      <td>0.018881</td>\n",
       "      <td>-0.091766</td>\n",
       "      <td>-0.027582</td>\n",
       "      <td>0.012323</td>\n",
       "      <td>1.000000</td>\n",
       "      <td>-0.097257</td>\n",
       "      <td>-0.060116</td>\n",
       "      <td>-0.047686</td>\n",
       "    </tr>\n",
       "    <tr>\n",
       "      <th>num_s</th>\n",
       "      <td>0.221751</td>\n",
       "      <td>0.078127</td>\n",
       "      <td>0.333310</td>\n",
       "      <td>0.185796</td>\n",
       "      <td>0.008683</td>\n",
       "      <td>-0.097257</td>\n",
       "      <td>1.000000</td>\n",
       "      <td>0.464711</td>\n",
       "      <td>0.052128</td>\n",
       "    </tr>\n",
       "    <tr>\n",
       "      <th>num_dev</th>\n",
       "      <td>0.166162</td>\n",
       "      <td>0.049293</td>\n",
       "      <td>0.231278</td>\n",
       "      <td>0.180268</td>\n",
       "      <td>-0.014921</td>\n",
       "      <td>-0.060116</td>\n",
       "      <td>0.464711</td>\n",
       "      <td>1.000000</td>\n",
       "      <td>-0.002268</td>\n",
       "    </tr>\n",
       "    <tr>\n",
       "      <th>gender_cat</th>\n",
       "      <td>0.022427</td>\n",
       "      <td>-0.006510</td>\n",
       "      <td>0.004273</td>\n",
       "      <td>-0.014656</td>\n",
       "      <td>-0.002315</td>\n",
       "      <td>-0.047686</td>\n",
       "      <td>0.052128</td>\n",
       "      <td>-0.002268</td>\n",
       "      <td>1.000000</td>\n",
       "    </tr>\n",
       "  </tbody>\n",
       "</table>\n",
       "</div>"
      ],
      "text/plain": [
       "                       Dist  payment_t  count_dev_is_shop    basket  \\\n",
       "Dist               1.000000   0.126793           0.374763  0.279261   \n",
       "payment_t          0.126793   1.000000           0.270514  0.114932   \n",
       "count_dev_is_shop  0.374763   0.270514           1.000000  0.301060   \n",
       "basket             0.279261   0.114932           0.301060  1.000000   \n",
       "product_type       0.017310   0.013620          -0.055935 -0.032096   \n",
       "Day_of_week       -0.044246   0.018881          -0.091766 -0.027582   \n",
       "num_s              0.221751   0.078127           0.333310  0.185796   \n",
       "num_dev            0.166162   0.049293           0.231278  0.180268   \n",
       "gender_cat         0.022427  -0.006510           0.004273 -0.014656   \n",
       "\n",
       "                   product_type  Day_of_week     num_s   num_dev  gender_cat  \n",
       "Dist                   0.017310    -0.044246  0.221751  0.166162    0.022427  \n",
       "payment_t              0.013620     0.018881  0.078127  0.049293   -0.006510  \n",
       "count_dev_is_shop     -0.055935    -0.091766  0.333310  0.231278    0.004273  \n",
       "basket                -0.032096    -0.027582  0.185796  0.180268   -0.014656  \n",
       "product_type           1.000000     0.012323  0.008683 -0.014921   -0.002315  \n",
       "Day_of_week            0.012323     1.000000 -0.097257 -0.060116   -0.047686  \n",
       "num_s                  0.008683    -0.097257  1.000000  0.464711    0.052128  \n",
       "num_dev               -0.014921    -0.060116  0.464711  1.000000   -0.002268  \n",
       "gender_cat            -0.002315    -0.047686  0.052128 -0.002268    1.000000  "
      ]
     },
     "execution_count": 29,
     "metadata": {},
     "output_type": "execute_result"
    }
   ],
   "source": [
    "data.corr()"
   ]
  },
  {
   "cell_type": "markdown",
   "metadata": {},
   "source": [
    "Нет сильно коррелирующих параметров, значит оставляем все имеющиеся признаки"
   ]
  },
  {
   "cell_type": "markdown",
   "metadata": {},
   "source": [
    "Приведем данные к одному масштабу - проведем z-преобразование"
   ]
  },
  {
   "cell_type": "code",
   "execution_count": 30,
   "metadata": {},
   "outputs": [
    {
     "data": {
      "text/html": [
       "<div>\n",
       "<style scoped>\n",
       "    .dataframe tbody tr th:only-of-type {\n",
       "        vertical-align: middle;\n",
       "    }\n",
       "\n",
       "    .dataframe tbody tr th {\n",
       "        vertical-align: top;\n",
       "    }\n",
       "\n",
       "    .dataframe thead th {\n",
       "        text-align: right;\n",
       "    }\n",
       "</style>\n",
       "<table border=\"1\" class=\"dataframe\">\n",
       "  <thead>\n",
       "    <tr style=\"text-align: right;\">\n",
       "      <th></th>\n",
       "      <th>0</th>\n",
       "      <th>1</th>\n",
       "      <th>2</th>\n",
       "      <th>3</th>\n",
       "      <th>4</th>\n",
       "      <th>5</th>\n",
       "      <th>6</th>\n",
       "      <th>7</th>\n",
       "      <th>8</th>\n",
       "    </tr>\n",
       "  </thead>\n",
       "  <tbody>\n",
       "    <tr>\n",
       "      <th>0</th>\n",
       "      <td>0.765422</td>\n",
       "      <td>-1.223724</td>\n",
       "      <td>-0.369484</td>\n",
       "      <td>-0.717291</td>\n",
       "      <td>-1.241490</td>\n",
       "      <td>1.022045</td>\n",
       "      <td>0.173773</td>\n",
       "      <td>-0.434187</td>\n",
       "      <td>-0.672335</td>\n",
       "    </tr>\n",
       "    <tr>\n",
       "      <th>1</th>\n",
       "      <td>1.770381</td>\n",
       "      <td>0.817178</td>\n",
       "      <td>-0.369484</td>\n",
       "      <td>-0.549793</td>\n",
       "      <td>-0.007412</td>\n",
       "      <td>-1.113093</td>\n",
       "      <td>-0.424846</td>\n",
       "      <td>0.242495</td>\n",
       "      <td>-0.672335</td>\n",
       "    </tr>\n",
       "    <tr>\n",
       "      <th>2</th>\n",
       "      <td>0.332158</td>\n",
       "      <td>-1.223724</td>\n",
       "      <td>2.706474</td>\n",
       "      <td>-0.328564</td>\n",
       "      <td>-1.241490</td>\n",
       "      <td>-0.259038</td>\n",
       "      <td>0.772393</td>\n",
       "      <td>0.242495</td>\n",
       "      <td>1.487353</td>\n",
       "    </tr>\n",
       "    <tr>\n",
       "      <th>3</th>\n",
       "      <td>-0.383505</td>\n",
       "      <td>0.817178</td>\n",
       "      <td>-0.369484</td>\n",
       "      <td>-0.571859</td>\n",
       "      <td>1.226667</td>\n",
       "      <td>1.449073</td>\n",
       "      <td>-1.023465</td>\n",
       "      <td>-1.110869</td>\n",
       "      <td>1.487353</td>\n",
       "    </tr>\n",
       "    <tr>\n",
       "      <th>4</th>\n",
       "      <td>-0.099387</td>\n",
       "      <td>0.817178</td>\n",
       "      <td>-0.369484</td>\n",
       "      <td>0.002454</td>\n",
       "      <td>1.226667</td>\n",
       "      <td>-1.113093</td>\n",
       "      <td>0.173773</td>\n",
       "      <td>-0.434187</td>\n",
       "      <td>-0.672335</td>\n",
       "    </tr>\n",
       "  </tbody>\n",
       "</table>\n",
       "</div>"
      ],
      "text/plain": [
       "          0         1         2         3         4         5         6  \\\n",
       "0  0.765422 -1.223724 -0.369484 -0.717291 -1.241490  1.022045  0.173773   \n",
       "1  1.770381  0.817178 -0.369484 -0.549793 -0.007412 -1.113093 -0.424846   \n",
       "2  0.332158 -1.223724  2.706474 -0.328564 -1.241490 -0.259038  0.772393   \n",
       "3 -0.383505  0.817178 -0.369484 -0.571859  1.226667  1.449073 -1.023465   \n",
       "4 -0.099387  0.817178 -0.369484  0.002454  1.226667 -1.113093  0.173773   \n",
       "\n",
       "          7         8  \n",
       "0 -0.434187 -0.672335  \n",
       "1  0.242495 -0.672335  \n",
       "2  0.242495  1.487353  \n",
       "3 -1.110869  1.487353  \n",
       "4 -0.434187 -0.672335  "
      ]
     },
     "execution_count": 30,
     "metadata": {},
     "output_type": "execute_result"
    }
   ],
   "source": [
    "scaler = StandardScaler()\n",
    "scaler.fit(data)\n",
    "scaled_data = scaler.transform(data)\n",
    "scaled_data_train = pd.DataFrame(scaled_data)\n",
    "scaled_data_train.head()"
   ]
  },
  {
   "cell_type": "markdown",
   "metadata": {},
   "source": [
    "#### Построим модель. Будем также использовать кросс-валидацию, так как классы сильно не сбалансированы"
   ]
  },
  {
   "cell_type": "code",
   "execution_count": 31,
   "metadata": {},
   "outputs": [],
   "source": [
    "lr = LogisticRegression()"
   ]
  },
  {
   "cell_type": "code",
   "execution_count": 32,
   "metadata": {},
   "outputs": [],
   "source": [
    "X_train, X_test, y_train, y_test = train_test_split(scaled_data, target, test_size=0.2, random_state=42, )"
   ]
  },
  {
   "cell_type": "code",
   "execution_count": 33,
   "metadata": {},
   "outputs": [
    {
     "name": "stdout",
     "output_type": "stream",
     "text": [
      "Precision: 0.51515, Recall: 0.89474, f1: 0.65385\n"
     ]
    }
   ],
   "source": [
    "model = lr.fit(X_train, y_train)\n",
    "preds = model.predict(X_test)\n",
    "f1 = np.round(f1_score(preds, y_test),5)#рассчитаем f1 метрику для нашей модели\n",
    "precision = np.round(precision_score(preds, y_test),5)#precision\n",
    "recall = np.round(recall_score(preds, y_test),5)#recall\n",
    "print('Precision: {}, Recall: {}, f1: {}'.format(precision, recall, f1))"
   ]
  },
  {
   "cell_type": "markdown",
   "metadata": {},
   "source": [
    "Попробуем применить кросс-валидацию"
   ]
  },
  {
   "cell_type": "code",
   "execution_count": 34,
   "metadata": {},
   "outputs": [],
   "source": [
    "cv = cross_validate(lr, scaled_data, target, cv=10, scoring=['recall','precision', 'f1'])"
   ]
  },
  {
   "cell_type": "code",
   "execution_count": 35,
   "metadata": {},
   "outputs": [
    {
     "data": {
      "text/plain": [
       "{'fit_time': array([0.00897622, 0.00498533, 0.01000762, 0.00748229, 0.00498629,\n",
       "        0.00397587, 0.00498676, 0.00498438, 0.00302172, 0.        ]),\n",
       " 'score_time': array([0.004987  , 0.00398922, 0.00694847, 0.00402355, 0.00396633,\n",
       "        0.00395751, 0.0039947 , 0.00498891, 0.        , 0.        ]),\n",
       " 'test_recall': array([0.66666667, 0.66666667, 0.41666667, 0.69230769, 0.30769231,\n",
       "        0.46153846, 0.61538462, 0.53846154, 0.61538462, 0.5       ]),\n",
       " 'test_precision': array([0.8       , 0.88888889, 0.71428571, 0.6       , 0.5       ,\n",
       "        0.85714286, 0.66666667, 0.875     , 0.66666667, 0.75      ]),\n",
       " 'test_f1': array([0.72727273, 0.76190476, 0.52631579, 0.64285714, 0.38095238,\n",
       "        0.6       , 0.64      , 0.66666667, 0.64      , 0.6       ])}"
      ]
     },
     "execution_count": 35,
     "metadata": {},
     "output_type": "execute_result"
    }
   ],
   "source": [
    "cv"
   ]
  },
  {
   "cell_type": "code",
   "execution_count": 36,
   "metadata": {},
   "outputs": [
    {
     "data": {
      "text/plain": [
       "0.548076923076923"
      ]
     },
     "execution_count": 36,
     "metadata": {},
     "output_type": "execute_result"
    }
   ],
   "source": [
    "cv['test_recall'].mean()"
   ]
  },
  {
   "cell_type": "code",
   "execution_count": 37,
   "metadata": {},
   "outputs": [
    {
     "data": {
      "text/plain": [
       "0.7318650793650794"
      ]
     },
     "execution_count": 37,
     "metadata": {},
     "output_type": "execute_result"
    }
   ],
   "source": [
    "cv['test_precision'].mean()"
   ]
  },
  {
   "cell_type": "code",
   "execution_count": 38,
   "metadata": {},
   "outputs": [
    {
     "data": {
      "text/plain": [
       "0.6185969469127364"
      ]
     },
     "execution_count": 38,
     "metadata": {},
     "output_type": "execute_result"
    }
   ],
   "source": [
    "cv['test_f1'].mean()"
   ]
  },
  {
   "cell_type": "markdown",
   "metadata": {},
   "source": [
    "Результаты кросс-валидации будем считать более точными"
   ]
  }
 ],
 "metadata": {
  "kernelspec": {
   "display_name": "Python 3",
   "language": "python",
   "name": "python3"
  },
  "language_info": {
   "codemirror_mode": {
    "name": "ipython",
    "version": 3
   },
   "file_extension": ".py",
   "mimetype": "text/x-python",
   "name": "python",
   "nbconvert_exporter": "python",
   "pygments_lexer": "ipython3",
   "version": "3.7.3"
  }
 },
 "nbformat": 4,
 "nbformat_minor": 2
}
