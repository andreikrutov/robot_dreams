{
 "cells": [
  {
   "cell_type": "markdown",
   "metadata": {},
   "source": [
    "# Проверка статистических гипотез"
   ]
  },
  {
   "cell_type": "markdown",
   "metadata": {},
   "source": [
    "Крутов Андрей"
   ]
  },
  {
   "cell_type": "markdown",
   "metadata": {},
   "source": [
    "## Задание 1: Опрос населения"
   ]
  },
  {
   "cell_type": "markdown",
   "metadata": {},
   "source": [
    "Вы работаете аналитиком в журнале и получили следующую информацию:\"Простая случайная выборка из 1028 взрослых показывает, что 55% поддерживают уменьшение ядерных арсеналов.\" \n",
    "Перед тек как печатать в журнале, что большинство поддерживает сокращение ядерных вооружений, вы хотите проверить, предоставляет ли данные убедительное свидетельство того, что это так, на уровне значимости 5%. Какая у вас основная и какая альтернативная гипотеза? Используйте Р-значение для теста."
   ]
  },
  {
   "cell_type": "markdown",
   "metadata": {},
   "source": [
    "Основная гипотеза - предпочтение не выражено, т.е. количество поддерживающих равно 50%  \n",
    "Альтернативаня - предпочтение выражено (либо большинство за сокращение, либо против)\n",
    "\n",
    "По условию, $$p=0.55$$\n",
    "$$n=1028$$\n",
    "$$\\sigma=\\sqrt{p(1-p)/n}$$\n",
    "\n"
   ]
  },
  {
   "cell_type": "code",
   "execution_count": 1,
   "metadata": {},
   "outputs": [],
   "source": [
    "import scipy.stats as stats\n",
    "import numpy as np\n",
    "import pandas as pd"
   ]
  },
  {
   "cell_type": "code",
   "execution_count": 10,
   "metadata": {},
   "outputs": [
    {
     "data": {
      "text/plain": [
       "0.015594571538795133"
      ]
     },
     "execution_count": 10,
     "metadata": {},
     "output_type": "execute_result"
    }
   ],
   "source": [
    "p_H0 = 0.50\n",
    "n = 1028\n",
    "mu_H0 = 0.50#так как у нас распределение Бернулли mu_H0 = p_H0\n",
    "sigma_H0 = np.sqrt(p_H0*(1-p_H0)/n)#если H0 верна\n",
    "sigma_H0"
   ]
  },
  {
   "cell_type": "code",
   "execution_count": 12,
   "metadata": {},
   "outputs": [
    {
     "data": {
      "text/plain": [
       "0.01551640276816161"
      ]
     },
     "execution_count": 12,
     "metadata": {},
     "output_type": "execute_result"
    }
   ],
   "source": [
    "p_exp = 0.55\n",
    "n = 1028\n",
    "sigma_exp = np.sqrt(p_exp*(1-p_exp)/n)#получили на эксперименте\n",
    "sigma_exp"
   ]
  },
  {
   "cell_type": "code",
   "execution_count": 17,
   "metadata": {},
   "outputs": [
    {
     "data": {
      "text/plain": [
       "True"
      ]
     },
     "execution_count": 17,
     "metadata": {},
     "output_type": "execute_result"
    }
   ],
   "source": [
    "p_value = 2*stats.norm.cdf(0.45, 0.5, sigma_H0)#0.45, т.к. экспериментальная вероятность 0.55, а распределение симметрично. \n",
    "#также из-за симметричности распределения умножаем на 2\n",
    "p_value < 0.05# уровень значимости 5%"
   ]
  },
  {
   "cell_type": "markdown",
   "metadata": {},
   "source": [
    "Полученное p-значение меньше 0.05, значит основная гипотеза может быть отвергнута. "
   ]
  },
  {
   "cell_type": "markdown",
   "metadata": {},
   "source": [
    "## Задание 2: Курение"
   ]
  },
  {
   "cell_type": "markdown",
   "metadata": {},
   "source": [
    "Набор данных под названием **ncbirths** представляет собой случайную выборку матерей и их новорожденных в Северной Каролине. Нас особенно интересуют две переменные: *weight* и *habit*. Переменная 'weight' представляет собой вес новорожденных, а переменная 'habit' описывает, какие матери курили во время беременности. Мы хотели бы знать, есть ли убедительные доказательства того, что новорожденные от курящих матерей имеют другой средний вес при рождении, чем новорожденные от матерей, которые не курят? Мы будем использовать\n",
    "пример Северной Каролины, чтобы попытаться ответить на этот вопрос."
   ]
  },
  {
   "cell_type": "markdown",
   "metadata": {},
   "source": [
    "    1. Введите данные с помощью Пандас.\n",
    "    2. Установите соответствующие гипотезы, чтобы оценить, существует ли связь между курением матери и средней  массой тела при рождении.\n",
    "    3. Оцените нужные переменные как среднии значения и дисперсии выборок для курящих/некурящих.\n",
    "    4. Проверьте ваши гипотезы с помощью Wald теста, нас интересует уровень значимости 5%.\n",
    "    "
   ]
  },
  {
   "cell_type": "markdown",
   "metadata": {},
   "source": [
    "Основная - вес не зависит от курения  \n",
    "Альетрнативная - зависит"
   ]
  },
  {
   "cell_type": "code",
   "execution_count": 2,
   "metadata": {},
   "outputs": [],
   "source": [
    "df = pd.read_csv('d://robot_dreams/statistics for DS/ncbirths.csv')"
   ]
  },
  {
   "cell_type": "code",
   "execution_count": 3,
   "metadata": {},
   "outputs": [
    {
     "data": {
      "text/plain": [
       "(1000, 13)"
      ]
     },
     "execution_count": 3,
     "metadata": {},
     "output_type": "execute_result"
    }
   ],
   "source": [
    "df.shape"
   ]
  },
  {
   "cell_type": "code",
   "execution_count": 4,
   "metadata": {},
   "outputs": [],
   "source": [
    "df = df[['weight','habit']]"
   ]
  },
  {
   "cell_type": "code",
   "execution_count": 5,
   "metadata": {},
   "outputs": [
    {
     "data": {
      "text/plain": [
       "array(['nonsmoker', 'smoker', nan], dtype=object)"
      ]
     },
     "execution_count": 5,
     "metadata": {},
     "output_type": "execute_result"
    }
   ],
   "source": [
    "df['habit'].unique()"
   ]
  },
  {
   "cell_type": "code",
   "execution_count": 6,
   "metadata": {},
   "outputs": [],
   "source": [
    "df_nons = df.query('habit == \"nonsmoker\"')\n",
    "df_smok = df.query('habit == \"smoker\"')"
   ]
  },
  {
   "cell_type": "code",
   "execution_count": 7,
   "metadata": {},
   "outputs": [
    {
     "name": "stdout",
     "output_type": "stream",
     "text": [
      "Средний вес по некурящим: 7.144272623138631, дисперсия по некурящим: 2.3063907833895554\n"
     ]
    }
   ],
   "source": [
    "nonsmoke_mean = df.query('habit == \"nonsmoker\"')['weight'].mean()\n",
    "nonsmoke_var = np.var(df.query('habit == \"nonsmoker\"')['weight'], ddof=1)#ddof=1 - для несмещенной оценки\n",
    "print('Средний вес по некурящим: {}, дисперсия по некурящим: {}'.format(nonsmoke_mean, nonsmoke_var))"
   ]
  },
  {
   "cell_type": "code",
   "execution_count": 9,
   "metadata": {},
   "outputs": [
    {
     "name": "stdout",
     "output_type": "stream",
     "text": [
      "Средний вес по курящим: 6.828730158730158, дисперсия по курящим: 1.9214943746031745\n"
     ]
    }
   ],
   "source": [
    "smoke_mean = df.query('habit == \"smoker\"')['weight'].mean()\n",
    "smoke_var = np.var(df.query('habit == \"smoker\"')['weight'], ddof=1)\n",
    "print('Средний вес по курящим: {}, дисперсия по курящим: {}'.format(smoke_mean, smoke_var))"
   ]
  },
  {
   "cell_type": "code",
   "execution_count": 10,
   "metadata": {},
   "outputs": [],
   "source": [
    "delta = nonsmoke_mean - smoke_mean\n",
    "s = np.sqrt(nonsmoke_var/df.query('habit == \"nonsmoker\"').shape[0] # s_1^2/n - для некурящих\n",
    "            + smoke_var/df.query('habit == \"smoker\"').shape[0])# s_2^2/m - для курящих"
   ]
  },
  {
   "cell_type": "code",
   "execution_count": 11,
   "metadata": {},
   "outputs": [],
   "source": [
    "w = delta/s"
   ]
  },
  {
   "cell_type": "code",
   "execution_count": 12,
   "metadata": {},
   "outputs": [
    {
     "data": {
      "text/plain": [
       "True"
      ]
     },
     "execution_count": 12,
     "metadata": {},
     "output_type": "execute_result"
    }
   ],
   "source": [
    "p = 2*stats.norm.cdf(-np.abs(w))\n",
    "p < 0.05"
   ]
  },
  {
   "cell_type": "markdown",
   "metadata": {},
   "source": [
    "Можем отвергнуть основную гипотезу"
   ]
  },
  {
   "cell_type": "markdown",
   "metadata": {},
   "source": [
    "## Задание 3: Станок на производстве"
   ]
  },
  {
   "cell_type": "markdown",
   "metadata": {},
   "source": [
    "Вы работаете аналитиком на фабрике и к вам пришел начальник цеха по производству деталей и просит вас помочь найти причину, почему одна из двух автоматических машин производит больше брака. Его коллеги собрали данные с обоих машин во время производства 50 деталей. Эти данные находятся в файле 'Machine_example.csv'. Переменная 'Machine' говорит, какой из двух машин принадлежат данные. Другие переменные соответствуют разным параметрам машин при производстве деталей. Что вы ответите начальнику цеха? "
   ]
  },
  {
   "cell_type": "code",
   "execution_count": 13,
   "metadata": {},
   "outputs": [],
   "source": [
    "df = pd.read_csv('d://robot_dreams/statistics for DS/mach_ex.csv', index_col=0)"
   ]
  },
  {
   "cell_type": "code",
   "execution_count": 14,
   "metadata": {},
   "outputs": [
    {
     "data": {
      "text/html": [
       "<div>\n",
       "<style scoped>\n",
       "    .dataframe tbody tr th:only-of-type {\n",
       "        vertical-align: middle;\n",
       "    }\n",
       "\n",
       "    .dataframe tbody tr th {\n",
       "        vertical-align: top;\n",
       "    }\n",
       "\n",
       "    .dataframe thead th {\n",
       "        text-align: right;\n",
       "    }\n",
       "</style>\n",
       "<table border=\"1\" class=\"dataframe\">\n",
       "  <thead>\n",
       "    <tr style=\"text-align: right;\">\n",
       "      <th></th>\n",
       "      <th>Machine</th>\n",
       "      <th>Param_1</th>\n",
       "      <th>Param_2</th>\n",
       "      <th>Param_3</th>\n",
       "      <th>Param_4</th>\n",
       "      <th>Param_5</th>\n",
       "      <th>Param_6</th>\n",
       "      <th>Param_7</th>\n",
       "      <th>Param_8</th>\n",
       "      <th>Param_9</th>\n",
       "      <th>Param_10</th>\n",
       "    </tr>\n",
       "  </thead>\n",
       "  <tbody>\n",
       "    <tr>\n",
       "      <th>0</th>\n",
       "      <td>Machine_1</td>\n",
       "      <td>0.623109</td>\n",
       "      <td>0.684335</td>\n",
       "      <td>7.914026</td>\n",
       "      <td>3.337340</td>\n",
       "      <td>0.302885</td>\n",
       "      <td>126.279441</td>\n",
       "      <td>4.098384</td>\n",
       "      <td>15.673653</td>\n",
       "      <td>53.076597</td>\n",
       "      <td>97.775208</td>\n",
       "    </tr>\n",
       "    <tr>\n",
       "      <th>1</th>\n",
       "      <td>Machine_1</td>\n",
       "      <td>3.967669</td>\n",
       "      <td>0.675796</td>\n",
       "      <td>12.569927</td>\n",
       "      <td>3.004854</td>\n",
       "      <td>0.303522</td>\n",
       "      <td>116.149786</td>\n",
       "      <td>3.820179</td>\n",
       "      <td>19.535909</td>\n",
       "      <td>42.421251</td>\n",
       "      <td>83.871174</td>\n",
       "    </tr>\n",
       "  </tbody>\n",
       "</table>\n",
       "</div>"
      ],
      "text/plain": [
       "     Machine   Param_1   Param_2    Param_3   Param_4   Param_5     Param_6  \\\n",
       "0  Machine_1  0.623109  0.684335   7.914026  3.337340  0.302885  126.279441   \n",
       "1  Machine_1  3.967669  0.675796  12.569927  3.004854  0.303522  116.149786   \n",
       "\n",
       "    Param_7    Param_8    Param_9   Param_10  \n",
       "0  4.098384  15.673653  53.076597  97.775208  \n",
       "1  3.820179  19.535909  42.421251  83.871174  "
      ]
     },
     "execution_count": 14,
     "metadata": {},
     "output_type": "execute_result"
    }
   ],
   "source": [
    "df.head(2)"
   ]
  },
  {
   "cell_type": "code",
   "execution_count": 15,
   "metadata": {},
   "outputs": [
    {
     "name": "stdout",
     "output_type": "stream",
     "text": [
      "<class 'pandas.core.frame.DataFrame'>\n",
      "Int64Index: 100 entries, 0 to 99\n",
      "Data columns (total 11 columns):\n",
      " #   Column    Non-Null Count  Dtype  \n",
      "---  ------    --------------  -----  \n",
      " 0   Machine   100 non-null    object \n",
      " 1   Param_1   100 non-null    float64\n",
      " 2   Param_2   100 non-null    float64\n",
      " 3   Param_3   100 non-null    float64\n",
      " 4   Param_4   100 non-null    float64\n",
      " 5   Param_5   100 non-null    float64\n",
      " 6   Param_6   100 non-null    float64\n",
      " 7   Param_7   100 non-null    float64\n",
      " 8   Param_8   100 non-null    float64\n",
      " 9   Param_9   100 non-null    float64\n",
      " 10  Param_10  100 non-null    float64\n",
      "dtypes: float64(10), object(1)\n",
      "memory usage: 9.4+ KB\n"
     ]
    }
   ],
   "source": [
    "df.info()"
   ]
  },
  {
   "cell_type": "markdown",
   "metadata": {},
   "source": [
    "Данных мало, значит будем использовать t-тест"
   ]
  },
  {
   "cell_type": "code",
   "execution_count": 16,
   "metadata": {},
   "outputs": [
    {
     "data": {
      "text/plain": [
       "Index(['Param_1', 'Param_2', 'Param_3', 'Param_4', 'Param_5', 'Param_6',\n",
       "       'Param_7', 'Param_8', 'Param_9', 'Param_10'],\n",
       "      dtype='object')"
      ]
     },
     "execution_count": 16,
     "metadata": {},
     "output_type": "execute_result"
    }
   ],
   "source": [
    "cols = df.columns\n",
    "cols = cols[1:]#убираем колонку с обозначением машины\n",
    "cols"
   ]
  },
  {
   "cell_type": "code",
   "execution_count": 17,
   "metadata": {},
   "outputs": [],
   "source": [
    "m1 = df.query('Machine == \"Machine_1\"')\n",
    "m2 = df.query('Machine == \"Machine_2\"')"
   ]
  },
  {
   "cell_type": "code",
   "execution_count": 18,
   "metadata": {},
   "outputs": [
    {
     "name": "stdout",
     "output_type": "stream",
     "text": [
      "У машин параметр Param_1 не отличается\n",
      "У машин параметр Param_2 не отличается\n",
      "У машин параметр Param_3 не отличается\n",
      "У машин параметр Param_4 не отличается\n",
      "У машин параметр Param_5 не отличается\n",
      "У машин параметр Param_6 не отличается\n",
      "У машин параметр Param_7 не отличается\n",
      "У машин параметр Param_8 не отличается\n",
      "У машин параметр Param_9 не отличается\n",
      "У машин параметр Param_10 не отличается\n"
     ]
    }
   ],
   "source": [
    "# Проверим нулевую гипотезу для каждого из параметров машин\n",
    "a = 0\n",
    "for par in cols:\n",
    "    m1_par_mean = m1[par].mean()\n",
    "    m2_par_mean = m2[par].mean()\n",
    "    m1_par_var  = np.var(m1[par])\n",
    "    m2_par_var  = np.var(m2[par])\n",
    "    \n",
    "    delta = m1_par_mean - m2_par_mean\n",
    "    s = np.sqrt(m1_par_var/m1.shape[0] + m2_par_var/m2.shape[0])\n",
    "    w = delta/s\n",
    "    \n",
    "    p_value = 2*stats.t.cdf(-w,99)\n",
    "    if p_value > 0.05:\n",
    "        print('У машин параметр {} не отличается'.format(par))\n",
    "    else:\n",
    "        print('!!!')\n",
    "        print('Параметр {} отличается'.format(par))\n",
    "        зкште('!!!')"
   ]
  },
  {
   "cell_type": "markdown",
   "metadata": {},
   "source": [
    "Нулевая гипотеза заключалась в том, что параметры машин не отличаются друг от друга. Ни для одного значения параметра мы не смогли отвергнуть нулевую гипотезу. Таким образом, необходимо собрать больше статистических данных."
   ]
  },
  {
   "cell_type": "markdown",
   "metadata": {},
   "source": [
    "## Задание 4: Будь осторожен"
   ]
  },
  {
   "cell_type": "markdown",
   "metadata": {},
   "source": [
    "Создаем случайные данные из распределения Гаусса:"
   ]
  },
  {
   "cell_type": "code",
   "execution_count": 77,
   "metadata": {},
   "outputs": [],
   "source": [
    "dat1 = stats.norm.rvs(loc=5,scale=1,size=50)"
   ]
  },
  {
   "cell_type": "markdown",
   "metadata": {},
   "source": [
    "А теперь мы создаем так долго случайные выборки из этого же распределения, пока разница их средних значений не будет больше 0.6"
   ]
  },
  {
   "cell_type": "code",
   "execution_count": 78,
   "metadata": {},
   "outputs": [],
   "source": [
    "meandiff = 0"
   ]
  },
  {
   "cell_type": "code",
   "execution_count": 79,
   "metadata": {},
   "outputs": [],
   "source": [
    "n=0"
   ]
  },
  {
   "cell_type": "code",
   "execution_count": 80,
   "metadata": {},
   "outputs": [],
   "source": [
    "while (meandiff<0.6):\n",
    "    dat2= stats.norm.rvs(loc=5,scale=1,size=50)\n",
    "    meandiff = np.abs(dat1.mean()-dat2.mean())\n",
    "    n=n+1"
   ]
  },
  {
   "cell_type": "markdown",
   "metadata": {},
   "source": [
    "Какой размер n в вашем случае? Что бы вы решили, если бы вы получили эти данные и провели проверку гипотез о том, выходят ли они из распределения с одинаковым ожиданием? Что вам это вместе с размером n говорит о надежности проверки гипотез?"
   ]
  },
  {
   "cell_type": "code",
   "execution_count": 82,
   "metadata": {},
   "outputs": [
    {
     "data": {
      "text/plain": [
       "5869"
      ]
     },
     "execution_count": 82,
     "metadata": {},
     "output_type": "execute_result"
    }
   ],
   "source": [
    "n"
   ]
  },
  {
   "cell_type": "code",
   "execution_count": 83,
   "metadata": {},
   "outputs": [
    {
     "data": {
      "text/plain": [
       "array([3.66322895, 4.91883719, 4.66693841, 3.71489261, 3.74943301,\n",
       "       4.85781194, 3.7132769 , 4.73055118, 4.07209778, 5.0287884 ,\n",
       "       3.73328625, 4.67174147, 4.89977787, 3.91992217, 4.4992975 ,\n",
       "       4.78747285, 4.41662667, 5.07182088, 4.13919461, 4.87617711,\n",
       "       3.38215381, 4.84569954, 4.4774946 , 4.5971948 , 4.72202771,\n",
       "       4.76563068, 6.68665977, 5.52440609, 4.22002203, 4.39904154,\n",
       "       3.02848219, 6.15426168, 3.76751235, 4.30319615, 4.3970041 ,\n",
       "       3.7936755 , 4.3307091 , 4.91767133, 3.19199457, 4.07471406,\n",
       "       4.5357943 , 5.86668119, 4.59391777, 4.81466261, 4.52468095,\n",
       "       3.97468346, 4.47377504, 5.96278659, 5.73789713, 3.28976619])"
      ]
     },
     "execution_count": 83,
     "metadata": {},
     "output_type": "execute_result"
    }
   ],
   "source": [
    "dat2"
   ]
  },
  {
   "cell_type": "code",
   "execution_count": 88,
   "metadata": {},
   "outputs": [
    {
     "data": {
      "text/plain": [
       "0.00021489858032563682"
      ]
     },
     "execution_count": 88,
     "metadata": {},
     "output_type": "execute_result"
    }
   ],
   "source": [
    "dat1_mean = dat1.mean()\n",
    "dat2_mean = dat2.mean()\n",
    "dat1_var  = np.var(dat1)\n",
    "dat2_var  = np.var(dat2)\n",
    "    \n",
    "delta = dat1_mean - dat2_mean\n",
    "s = np.sqrt(dat1_var/len(dat1) + dat2_var/len(dat2))\n",
    "w = delta/s\n",
    "    \n",
    "p_value = 2*stats.t.cdf(-w,99)\n",
    "p_value"
   ]
  },
  {
   "cell_type": "markdown",
   "metadata": {},
   "source": [
    "Тут проявляется проблема множественных сравнений. Мы нашли различия после 5869 сравнений. Нужно ввести поправки Бонферрони."
   ]
  },
  {
   "cell_type": "code",
   "execution_count": 92,
   "metadata": {},
   "outputs": [
    {
     "data": {
      "text/plain": [
       "False"
      ]
     },
     "execution_count": 92,
     "metadata": {},
     "output_type": "execute_result"
    }
   ],
   "source": [
    "p_Bonf = 0.05/n\n",
    "p_value < p_Bonf"
   ]
  },
  {
   "cell_type": "markdown",
   "metadata": {},
   "source": [
    "С учетом поправки Бонферрони статистически значимых различий нет"
   ]
  },
  {
   "cell_type": "code",
   "execution_count": null,
   "metadata": {},
   "outputs": [],
   "source": []
  }
 ],
 "metadata": {
  "kernelspec": {
   "display_name": "Python 3",
   "language": "python",
   "name": "python3"
  },
  "language_info": {
   "codemirror_mode": {
    "name": "ipython",
    "version": 3
   },
   "file_extension": ".py",
   "mimetype": "text/x-python",
   "name": "python",
   "nbconvert_exporter": "python",
   "pygments_lexer": "ipython3",
   "version": "3.7.3"
  }
 },
 "nbformat": 4,
 "nbformat_minor": 4
}
