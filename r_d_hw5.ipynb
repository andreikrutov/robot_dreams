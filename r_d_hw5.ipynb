{
 "cells": [
  {
   "cell_type": "markdown",
   "metadata": {},
   "source": [
    "# Домашнее задание - Доверительные интервалы"
   ]
  },
  {
   "cell_type": "markdown",
   "metadata": {},
   "source": [
    "Крутов Андрей"
   ]
  },
  {
   "cell_type": "code",
   "execution_count": 1,
   "metadata": {
    "scrolled": true
   },
   "outputs": [],
   "source": [
    "import numpy as np\n",
    "import scipy.stats as stats\n",
    "import matplotlib.pyplot as plt"
   ]
  },
  {
   "cell_type": "markdown",
   "metadata": {},
   "source": [
    "## Задание 1 - Plugin Method"
   ]
  },
  {
   "cell_type": "markdown",
   "metadata": {},
   "source": [
    "Допустим, мы знаем точно, что 88% американского населения поддерживают увеличение солнечных электростанций. Мы опросили 10 человек и получили следующий результат:"
   ]
  },
  {
   "cell_type": "code",
   "execution_count": 5,
   "metadata": {},
   "outputs": [],
   "source": [
    "res = np.array([1, 1, 1, 1, 1, 1, 1, 1, 1, 1])"
   ]
  },
  {
   "cell_type": "code",
   "execution_count": 3,
   "metadata": {},
   "outputs": [],
   "source": [
    "p = 0.88"
   ]
  },
  {
   "cell_type": "markdown",
   "metadata": {},
   "source": [
    "Оцените среднее значение, сравните точную и приближенную ошибку."
   ]
  },
  {
   "cell_type": "code",
   "execution_count": 11,
   "metadata": {},
   "outputs": [
    {
     "name": "stdout",
     "output_type": "stream",
     "text": [
      "Среднее: 1.0 точная оценка: 0.10276186062932104 приближенная оценка: 0.0\n"
     ]
    }
   ],
   "source": [
    "print('Среднее: {} точная оценка: {} приближенная оценка: {}'.format(np.mean(res), np.sqrt(p*(1-p)/len(res)), np.std(res) ))"
   ]
  },
  {
   "cell_type": "markdown",
   "metadata": {},
   "source": [
    "Чтобы получить более точный результат, мы опросили 100 человек. Оцените среднее значение и сравните точную и приближенную ошибку."
   ]
  },
  {
   "cell_type": "code",
   "execution_count": 21,
   "metadata": {},
   "outputs": [],
   "source": [
    "res2 = np.array([1, 1, 1, 1, 0, 1, 1, 1, 1, 1, 0, 1, 1, 1, 1, 1, 1, 1, 0, 1, 1, 1,\n",
    "       1, 1, 1, 1, 1, 1, 1, 1, 1, 1, 0, 1, 1, 1, 1, 1, 1, 1, 1, 1, 1, 1,\n",
    "       1, 1, 1, 1, 1, 1, 1, 1, 1, 1, 1, 1, 0, 1, 1, 1, 0, 0, 1, 1, 1, 1,\n",
    "       1, 1, 1, 1, 1, 1, 1, 1, 1, 1, 1, 1, 1, 1, 1, 1, 1, 0, 1, 1, 1, 1,\n",
    "       1, 1, 1, 1, 1, 1, 1, 1, 1, 1, 1, 1])"
   ]
  },
  {
   "cell_type": "code",
   "execution_count": 22,
   "metadata": {},
   "outputs": [],
   "source": [
    "p_hat = res2.sum()/len(res2)"
   ]
  },
  {
   "cell_type": "code",
   "execution_count": 25,
   "metadata": {},
   "outputs": [
    {
     "name": "stdout",
     "output_type": "stream",
     "text": [
      "Среднее: 0.92 точная оценка: 0.03249615361854384 приближенная оценка: 0.027129319932501065\n"
     ]
    }
   ],
   "source": [
    "print('Среднее: {} точная оценка: {} приближенная оценка: {}'.format(np.mean(res2), \\\n",
    "                                                                     np.sqrt(p*(1-p)/len(res2)), \\\n",
    "                                                                     np.sqrt(p_hat*(1-p_hat)/len(res2)) ))"
   ]
  },
  {
   "cell_type": "code",
   "execution_count": 16,
   "metadata": {},
   "outputs": [
    {
     "data": {
      "text/plain": [
       "100"
      ]
     },
     "execution_count": 16,
     "metadata": {},
     "output_type": "execute_result"
    }
   ],
   "source": [
    "len(res2)"
   ]
  },
  {
   "cell_type": "markdown",
   "metadata": {},
   "source": [
    "В конце мы опросили 1000 человек. Оцените среднее значение и сравните точную и приближенную ошибку."
   ]
  },
  {
   "cell_type": "code",
   "execution_count": 28,
   "metadata": {},
   "outputs": [],
   "source": [
    "np.random.seed(42)\n",
    "res3 = stats.binom.rvs(1,0.88, size=1000)"
   ]
  },
  {
   "cell_type": "code",
   "execution_count": 27,
   "metadata": {},
   "outputs": [],
   "source": [
    "p_hat = res3.sum()/len(res3)"
   ]
  },
  {
   "cell_type": "code",
   "execution_count": 29,
   "metadata": {},
   "outputs": [
    {
     "name": "stdout",
     "output_type": "stream",
     "text": [
      "Среднее: 0.876 точная оценка: 0.010276186062932104 приближенная оценка: 0.010422283818818216\n"
     ]
    }
   ],
   "source": [
    "print('Среднее: {} точная оценка: {} приближенная оценка: {}'.format(np.mean(res3), \\\n",
    "                                                                     np.sqrt(p*(1-p)/len(res3)), \\\n",
    "                                                                     np.sqrt(p_hat*(1-p_hat)/len(res3)) ))"
   ]
  },
  {
   "cell_type": "markdown",
   "metadata": {},
   "source": [
    "С ростом количества элементов в выборке приближенная ошибка стремится к точной"
   ]
  },
  {
   "cell_type": "markdown",
   "metadata": {},
   "source": [
    "## Задание 2 - Пропорция"
   ]
  },
  {
   "cell_type": "markdown",
   "metadata": {},
   "source": [
    "На практике мы не знаем точно, что думает население. Ответьте на вопрос: Какой процент американского населения поддерживают увеличение солнечных электростанций? Проведите точечную оценку и покажите в графике 95% доверительный интервал, для данных опроса 100 человек из предыдущей задачи."
   ]
  },
  {
   "cell_type": "code",
   "execution_count": 36,
   "metadata": {},
   "outputs": [],
   "source": [
    "n = len(res2)\n",
    "p = np.mean(res2)"
   ]
  },
  {
   "cell_type": "code",
   "execution_count": 37,
   "metadata": {},
   "outputs": [
    {
     "data": {
      "text/plain": [
       "0.8668275100072333"
      ]
     },
     "execution_count": 37,
     "metadata": {},
     "output_type": "execute_result"
    }
   ],
   "source": [
    "p - stats.norm.ppf(0.975)*np.sqrt(p*(1-p)/n)#нижняя граница"
   ]
  },
  {
   "cell_type": "code",
   "execution_count": 38,
   "metadata": {},
   "outputs": [
    {
     "data": {
      "text/plain": [
       "0.9731724899927667"
      ]
     },
     "execution_count": 38,
     "metadata": {},
     "output_type": "execute_result"
    }
   ],
   "source": [
    "p + stats.norm.ppf(0.975)*np.sqrt(p*(1-p)/n)#верхняя граница"
   ]
  },
  {
   "cell_type": "code",
   "execution_count": 49,
   "metadata": {},
   "outputs": [
    {
     "data": {
      "image/png": "[encoded data removed]",
      "text/plain": [
       "<Figure size 432x288 with 1 Axes>"
      ]
     },
     "metadata": {
      "needs_background": "light"
     },
     "output_type": "display_data"
    }
   ],
   "source": [
    "y = 1\n",
    "dx = stats.norm.ppf(0.975)*np.sqrt(p*(1-p)/n)\n",
    "plt.errorbar(p, y, xerr=dx, fmt='o',capsize=5)\n",
    "ax = plt.gca()#убираем шкалу на оси y\n",
    "ax.axes.yaxis.set_visible(False)"
   ]
  },
  {
   "cell_type": "markdown",
   "metadata": {},
   "source": [
    "## Задание 3 - Известная дисперсия\n"
   ]
  },
  {
   "cell_type": "markdown",
   "metadata": {},
   "source": [
    "Эта выборка была сгенерирована из распределения Гаусса с среднеквадратическим отклонением равным 2. Постройте и визуализируйте 95% доверительный интервал."
   ]
  },
  {
   "cell_type": "code",
   "execution_count": 50,
   "metadata": {},
   "outputs": [],
   "source": [
    "sample = np.array([5.36428472, 2.87270749, 3.79579422, 1.81623121, 3.03077013,\n",
    "       0.281269  , 6.67951761, 5.09422759, 1.66157597, 1.96382686,\n",
    "       6.77651373, 1.79218128, 4.00224188, 5.74867019, 3.65659601,\n",
    "       3.94996752, 6.71222088, 1.49256572, 5.26352312, 0.38649412,\n",
    "       3.83673665, 1.63189618, 0.20819875, 3.25041033, 2.85553651,\n",
    "       2.23529588, 2.87192192, 4.85007667, 5.75926821, 4.01132092,\n",
    "       4.34500618, 1.12967271, 1.26053554, 0.62453852, 4.56591695,\n",
    "       6.52359019, 2.93093645, 3.63040108, 3.69353413, 6.8668287 ])"
   ]
  },
  {
   "cell_type": "code",
   "execution_count": 97,
   "metadata": {},
   "outputs": [
    {
     "data": {
      "text/plain": [
       "3.485570043"
      ]
     },
     "execution_count": 97,
     "metadata": {},
     "output_type": "execute_result"
    }
   ],
   "source": [
    "sigma = 2\n",
    "x_avg = np.mean(sample)\n",
    "theta"
   ]
  },
  {
   "cell_type": "code",
   "execution_count": 98,
   "metadata": {},
   "outputs": [
    {
     "data": {
      "text/plain": [
       "2.8657750106954385"
      ]
     },
     "execution_count": 98,
     "metadata": {},
     "output_type": "execute_result"
    }
   ],
   "source": [
    "low = x_avg - stats.norm.ppf(0.975)*sigma/np.sqrt(len(sample))#нижняя граница\n",
    "low"
   ]
  },
  {
   "cell_type": "code",
   "execution_count": 99,
   "metadata": {},
   "outputs": [
    {
     "data": {
      "text/plain": [
       "4.105365075304562"
      ]
     },
     "execution_count": 99,
     "metadata": {},
     "output_type": "execute_result"
    }
   ],
   "source": [
    "high = x_avg + stats.norm.ppf(0.975)*sigma/np.sqrt(len(sample))#верхняя граница\n",
    "high"
   ]
  },
  {
   "cell_type": "code",
   "execution_count": 100,
   "metadata": {},
   "outputs": [],
   "source": [
    "x = np.linspace(low, high, 100)"
   ]
  },
  {
   "cell_type": "code",
   "execution_count": 101,
   "metadata": {},
   "outputs": [
    {
     "data": {
      "image/png": "[encoded data removed]",
      "text/plain": [
       "<Figure size 432x288 with 1 Axes>"
      ]
     },
     "metadata": {
      "needs_background": "light"
     },
     "output_type": "display_data"
    }
   ],
   "source": [
    "_ = plt.scatter(x = sample, y = np.ones(len(sample)))\n",
    "_ = plt.plot(x, np.ones(100), color = 'red')\n",
    "plt.show()"
   ]
  },
  {
   "cell_type": "markdown",
   "metadata": {},
   "source": [
    "## Задание 4 - Конфеты"
   ]
  },
  {
   "cell_type": "markdown",
   "metadata": {},
   "source": [
    "На фабрике конфет менеджер в отделе упаковки волнуется, что упаковочная машина имеет слишком большой разброс веса при производстве упаковок. Фабрика пишет, что одна упаковка содержит 52 грамма. Отдел контроля за качеством производит случайную выборку 10 упаковок. Дисперсия выборки составляет 4.2 квадратных грамма. Менеджер упаковки приходит к вам в отдел аналитики и спрашивает, какое среднеквадратичное отклонение от 52 грамм он может ожидать при производстве. Он помнит, что на одном из курсов слышал, что-то о 95% доверительном интервале. Какой ответ вы ему дадите?"
   ]
  },
  {
   "cell_type": "code",
   "execution_count": 2,
   "metadata": {},
   "outputs": [],
   "source": [
    "n = 9\n",
    "var_hat = 4.2"
   ]
  },
  {
   "cell_type": "code",
   "execution_count": 3,
   "metadata": {},
   "outputs": [],
   "source": [
    "low = (n-1)*var_hat/stats.chi2.ppf(0.975,10)\n",
    "high = (n-1)*var_hat/stats.chi2.ppf(0.025,10)"
   ]
  },
  {
   "cell_type": "code",
   "execution_count": 4,
   "metadata": {},
   "outputs": [
    {
     "name": "stdout",
     "output_type": "stream",
     "text": [
      "1.6403705062230292 10.348100299611732\n"
     ]
    }
   ],
   "source": [
    "print(low, high)#границы дисперсии"
   ]
  },
  {
   "cell_type": "code",
   "execution_count": 5,
   "metadata": {},
   "outputs": [
    {
     "name": "stdout",
     "output_type": "stream",
     "text": [
      "1.2807694976938782 3.2168463282556305\n"
     ]
    }
   ],
   "source": [
    "print(np.sqrt(low), np.sqrt(high))#границы для среднеквадратичного отклонения"
   ]
  },
  {
   "cell_type": "markdown",
   "metadata": {},
   "source": [
    "С вероятностью 95% среднеквадратичное отклонение лежит в интервале от 1.28 до 3.22 грамма"
   ]
  },
  {
   "cell_type": "markdown",
   "metadata": {},
   "source": [
    "## Задание 5 - Машина упаковки"
   ]
  },
  {
   "cell_type": "markdown",
   "metadata": {},
   "source": [
    "Менеджер хочет теперь получить более точные данные о разбросе веса и собирает выборку из 20 упаковок. Их вес показан снизу. Он хочет получить от вас 95% интервал доверия для их веса. Визуализируйте интервал доверия, а также вашу оценку среднего значения. Как вы думаете, должен ли он что-то изменить в установках машины?"
   ]
  },
  {
   "cell_type": "code",
   "execution_count": 11,
   "metadata": {
    "scrolled": true
   },
   "outputs": [],
   "source": [
    "sample_2= np.array([57.15345904, 54.81682818, 55.97949282, 52.74585138, 52.69227923,\n",
    "       54.14488711, 52.87589871, 51.60408396, 52.86402956, 52.54558302,\n",
    "       58.70424448, 53.68106774, 55.19394233, 51.44826275, 52.23140559,\n",
    "       53.08316454, 52.55819766, 55.83164938, 55.24344808, 52.98465699])"
   ]
  },
  {
   "cell_type": "code",
   "execution_count": 12,
   "metadata": {},
   "outputs": [
    {
     "data": {
      "text/plain": [
       "53.91912162750001"
      ]
     },
     "execution_count": 12,
     "metadata": {},
     "output_type": "execute_result"
    }
   ],
   "source": [
    "n = 20\n",
    "k = n-1\n",
    "x_avg = np.mean(sample_2)\n",
    "s = np.std(sample_2)\n",
    "x_avg"
   ]
  },
  {
   "cell_type": "code",
   "execution_count": 110,
   "metadata": {},
   "outputs": [],
   "source": [
    "low = x_avg - stats.t.ppf(0.975,k)*s/np.sqrt(n)\n",
    "high = x_avg + stats.t.ppf(0.975,k)*s/np.sqrt(n)"
   ]
  },
  {
   "cell_type": "code",
   "execution_count": 111,
   "metadata": {},
   "outputs": [
    {
     "name": "stdout",
     "output_type": "stream",
     "text": [
      "53.04191795409775 54.796325300902275\n"
     ]
    }
   ],
   "source": [
    "print(low, high)#доверительный интервал"
   ]
  },
  {
   "cell_type": "code",
   "execution_count": 112,
   "metadata": {},
   "outputs": [
    {
     "data": {
      "image/png": "[encoded data removed]",
      "text/plain": [
       "<Figure size 432x288 with 1 Axes>"
      ]
     },
     "metadata": {
      "needs_background": "light"
     },
     "output_type": "display_data"
    }
   ],
   "source": [
    "y = 1\n",
    "dx = stats.t.ppf(0.975,k)*s/np.sqrt(n)\n",
    "plt.errorbar(x_avg, y, xerr=dx, fmt='o',capsize=5)\n",
    "ax = plt.gca()#убираем шкалу на оси y\n",
    "ax.axes.yaxis.set_visible(False)"
   ]
  },
  {
   "cell_type": "markdown",
   "metadata": {},
   "source": [
    "Нижняя граница доверительного интервала 53гр, при этом заявленаня масса упаковки 52гр, значит надо изменить настройки таким образом, чтобы понизить нижнюю и верхнюю границы доверительного интервала. "
   ]
  },
  {
   "cell_type": "markdown",
   "metadata": {},
   "source": [
    "## Задание 6  - Независимый работник"
   ]
  },
  {
   "cell_type": "markdown",
   "metadata": {},
   "source": [
    "Вы независимый аналитик и получили от клиента анонимизированные данные. Он уверяет вас, что это случайная выборка, но не дает больше деталей и просит найти 99% интервал доверия для среднего значения."
   ]
  },
  {
   "cell_type": "markdown",
   "metadata": {},
   "source": [
    "Вот эти данные, что вы ему отвечаете? "
   ]
  },
  {
   "cell_type": "code",
   "execution_count": 13,
   "metadata": {},
   "outputs": [],
   "source": [
    "data= np.array([-2.99900196e+00, -3.44369276e+00,  1.23769282e+00, -2.65611525e-01,\n",
    "        1.18905926e+00,  1.00830125e+01, -6.72010462e-01,  8.82324631e-01,\n",
    "        4.98269264e-01,  3.58285214e-01, -4.34959057e-01, -4.06152797e-01,\n",
    "       -1.14788848e-01,  5.04301538e+00,  1.14473833e-01, -1.91393602e-02,\n",
    "       -1.75491519e+00, -1.45807412e+00,  1.28254527e-01,  7.48222204e-01,\n",
    "       -7.57972159e-01,  9.39373422e-01, -4.88534574e-01, -2.67574551e+00,\n",
    "        6.73400442e-01, -4.38650901e-02, -1.21512438e-01,  1.50985069e-01,\n",
    "        2.39199965e-01,  2.98146043e+00, -1.25194060e+00,  3.87576306e-01,\n",
    "       -2.02316304e+00, -1.82366204e+01,  2.77231480e-01, -3.01170057e-01,\n",
    "       -1.33166123e+00, -1.71020343e-01, -1.94255147e+00, -9.02237682e-01,\n",
    "        9.06007403e+00, -3.56702118e+00,  2.76273531e+00,  1.66646978e+00,\n",
    "        6.16647579e-01, -1.31795695e-02, -4.30902519e-01,  1.13274415e-01,\n",
    "        1.24699403e-01, -3.88598798e-01,  8.00046412e-02, -5.46523961e-01,\n",
    "       -6.71178196e-01, -3.16431361e-01, -3.30810097e-01,  3.40068041e+01,\n",
    "       -1.39373017e+00, -5.52357663e-01, -1.51521956e+00, -2.99055326e+01])"
   ]
  },
  {
   "cell_type": "code",
   "execution_count": 14,
   "metadata": {},
   "outputs": [
    {
     "data": {
      "text/plain": [
       "60"
      ]
     },
     "execution_count": 14,
     "metadata": {},
     "output_type": "execute_result"
    }
   ],
   "source": [
    "n = len(data)# n>30\n",
    "n"
   ]
  },
  {
   "cell_type": "code",
   "execution_count": 15,
   "metadata": {},
   "outputs": [
    {
     "data": {
      "text/plain": [
       "-0.11808800569333334"
      ]
     },
     "execution_count": 15,
     "metadata": {},
     "output_type": "execute_result"
    }
   ],
   "source": [
    "x_avg = np.mean(data)\n",
    "s = np.std(data)\n",
    "x_avg"
   ]
  },
  {
   "cell_type": "code",
   "execution_count": 16,
   "metadata": {},
   "outputs": [],
   "source": [
    "low = x_avg - stats.norm.ppf(0.995,k)*s/np.sqrt(n)\n",
    "high = x_avg + stats.norm.ppf(0.995,k)*s/np.sqrt(n)"
   ]
  },
  {
   "cell_type": "code",
   "execution_count": 17,
   "metadata": {},
   "outputs": [
    {
     "name": "stdout",
     "output_type": "stream",
     "text": [
      "-18.74582694781982 18.50965093643315\n"
     ]
    }
   ],
   "source": [
    "print(low, high)#доверительный интервал для мат ожидания"
   ]
  },
  {
   "cell_type": "code",
   "execution_count": 18,
   "metadata": {},
   "outputs": [
    {
     "data": {
      "text/plain": [
       "34.0068041"
      ]
     },
     "execution_count": 18,
     "metadata": {},
     "output_type": "execute_result"
    }
   ],
   "source": [
    "max(data)"
   ]
  },
  {
   "cell_type": "code",
   "execution_count": 19,
   "metadata": {},
   "outputs": [
    {
     "data": {
      "text/plain": [
       "-29.9055326"
      ]
     },
     "execution_count": 19,
     "metadata": {},
     "output_type": "execute_result"
    }
   ],
   "source": [
    "min(data)"
   ]
  },
  {
   "cell_type": "code",
   "execution_count": 20,
   "metadata": {},
   "outputs": [
    {
     "data": {
      "image/png": "[encoded data removed]",
      "text/plain": [
       "<Figure size 432x288 with 1 Axes>"
      ]
     },
     "metadata": {
      "needs_background": "light"
     },
     "output_type": "display_data"
    }
   ],
   "source": [
    " _ = plt.scatter(np.arange(0,60), data)"
   ]
  },
  {
   "cell_type": "code",
   "execution_count": 21,
   "metadata": {},
   "outputs": [
    {
     "data": {
      "image/png": "[encoded data removed]",
      "text/plain": [
       "<Figure size 432x288 with 1 Axes>"
      ]
     },
     "metadata": {
      "needs_background": "light"
     },
     "output_type": "display_data"
    }
   ],
   "source": [
    "_ = plt.hist(data)"
   ]
  },
  {
   "cell_type": "markdown",
   "metadata": {},
   "source": [
    "Наличие больших выбросов делает выборку непригодной для анализа."
   ]
  },
  {
   "cell_type": "markdown",
   "metadata": {},
   "source": [
    "## Задание 7  - Больше работы"
   ]
  },
  {
   "cell_type": "markdown",
   "metadata": {},
   "source": [
    "Слух о вашей хорошей работе распространяется и к вам приходят все больше странных клиентов с анонимизированными данными. Один из них уверяет вас снова, что это случайная выборка, не дает больше деталей и просит найти 99% интервал доверия для среднего значения. Что вы ему отвечаете?"
   ]
  },
  {
   "cell_type": "code",
   "execution_count": 22,
   "metadata": {},
   "outputs": [],
   "source": [
    "data2 = np.array([  7.87622162,  20.68877939,  14.14346304,  11.13812402,\n",
    "        45.54428434,  16.44443675,   1.57282512,  10.84834663,\n",
    "         6.30316072,  15.45398104,  24.67909631,   0.98596306,\n",
    "         5.6523425 ,  16.24001979,  16.49876652,   6.91099052,\n",
    "        40.87098117,  74.61922098,  19.70584746,  27.39066069,\n",
    "        35.11674792,  23.24253023,  17.38074928,  10.33033992,\n",
    "        15.20445056,   6.04045695,   4.96394734,   0.47267777,\n",
    "        20.90168311,  60.63109643,   2.90984036,  16.32371122,\n",
    "        27.64739412,   1.78555092,   1.89422223,   4.68021386,\n",
    "        18.3809633 ,   4.87995248,  46.46988446,  53.37459189,\n",
    "        12.86626685,  24.31005862,  21.05864743,  29.56060116,\n",
    "        31.36476555,  14.58382079,   7.74390817,   9.09498609,\n",
    "         8.79999174,  44.82920263,   0.87451342,  13.73520929,\n",
    "        10.09951872,   6.82518183,   4.97327908,  51.2335441 ,\n",
    "        49.19386905,  17.54039081,  71.76686803,   5.11286068,\n",
    "        14.13318992,   8.87221737,   4.82898898,   9.32582429,\n",
    "        18.02779373,  16.52043816,  24.54267197,   3.09383355,\n",
    "       117.70196069,  23.45859733])"
   ]
  },
  {
   "cell_type": "code",
   "execution_count": 23,
   "metadata": {},
   "outputs": [
    {
     "data": {
      "text/plain": [
       "70"
      ]
     },
     "execution_count": 23,
     "metadata": {},
     "output_type": "execute_result"
    }
   ],
   "source": [
    "n = len(data2)# n>30\n",
    "n"
   ]
  },
  {
   "cell_type": "code",
   "execution_count": 24,
   "metadata": {},
   "outputs": [
    {
     "data": {
      "text/plain": [
       "20.46102165785714"
      ]
     },
     "execution_count": 24,
     "metadata": {},
     "output_type": "execute_result"
    }
   ],
   "source": [
    "x_avg = np.mean(data2)\n",
    "s = np.std(data2)\n",
    "x_avg"
   ]
  },
  {
   "cell_type": "code",
   "execution_count": 25,
   "metadata": {},
   "outputs": [],
   "source": [
    "low = x_avg - stats.norm.ppf(0.995,k)*s/np.sqrt(n)\n",
    "high = x_avg + stats.norm.ppf(0.995,k)*s/np.sqrt(n)"
   ]
  },
  {
   "cell_type": "code",
   "execution_count": 26,
   "metadata": {},
   "outputs": [
    {
     "name": "stdout",
     "output_type": "stream",
     "text": [
      "-32.276181255247664 73.19822457096195\n"
     ]
    }
   ],
   "source": [
    "print(low, high)#доверительный интервал для мат ожидания"
   ]
  },
  {
   "cell_type": "code",
   "execution_count": 27,
   "metadata": {},
   "outputs": [
    {
     "data": {
      "text/plain": [
       "117.70196069"
      ]
     },
     "execution_count": 27,
     "metadata": {},
     "output_type": "execute_result"
    }
   ],
   "source": [
    "max(data2)"
   ]
  },
  {
   "cell_type": "code",
   "execution_count": 28,
   "metadata": {},
   "outputs": [
    {
     "data": {
      "text/plain": [
       "0.47267777"
      ]
     },
     "execution_count": 28,
     "metadata": {},
     "output_type": "execute_result"
    }
   ],
   "source": [
    "min(data2)"
   ]
  },
  {
   "cell_type": "code",
   "execution_count": 29,
   "metadata": {},
   "outputs": [
    {
     "data": {
      "image/png": "[encoded data removed]",
      "text/plain": [
       "<Figure size 432x288 with 1 Axes>"
      ]
     },
     "metadata": {
      "needs_background": "light"
     },
     "output_type": "display_data"
    }
   ],
   "source": [
    "_ = plt.scatter(np.arange(0,70), data2)"
   ]
  },
  {
   "cell_type": "code",
   "execution_count": 31,
   "metadata": {},
   "outputs": [
    {
     "data": {
      "image/png": "[encoded data removed]",
      "text/plain": [
       "<Figure size 432x288 with 1 Axes>"
      ]
     },
     "metadata": {
      "needs_background": "light"
     },
     "output_type": "display_data"
    }
   ],
   "source": [
    "_ = plt.hist(data2)"
   ]
  },
  {
   "cell_type": "markdown",
   "metadata": {},
   "source": [
    "По данной выборке нельзя провести корректный анализ, так как значения не имеют нормального распределения."
   ]
  },
  {
   "cell_type": "code",
   "execution_count": null,
   "metadata": {},
   "outputs": [],
   "source": []
  }
 ],
 "metadata": {
  "kernelspec": {
   "display_name": "Python 3",
   "language": "python",
   "name": "python3"
  },
  "language_info": {
   "codemirror_mode": {
    "name": "ipython",
    "version": 3
   },
   "file_extension": ".py",
   "mimetype": "text/x-python",
   "name": "python",
   "nbconvert_exporter": "python",
   "pygments_lexer": "ipython3",
   "version": "3.7.3"
  }
 },
 "nbformat": 4,
 "nbformat_minor": 4
}
