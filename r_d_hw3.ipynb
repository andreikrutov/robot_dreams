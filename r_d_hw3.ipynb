{
 "cells": [
  {
   "cell_type": "markdown",
   "metadata": {},
   "source": [
    "# Множества"
   ]
  },
  {
   "cell_type": "markdown",
   "metadata": {},
   "source": [
    "Ваши имя и фамилия"
   ]
  },
  {
   "cell_type": "markdown",
   "metadata": {},
   "source": [
    "Крутов Андрей"
   ]
  },
  {
   "cell_type": "markdown",
   "metadata": {},
   "source": [
    "### Задание 1. Группа крови"
   ]
  },
  {
   "cell_type": "markdown",
   "metadata": {},
   "source": [
    "**Упрощенная модель группы крови**:\n",
    "* A\n",
    "* B\n",
    "* AB\n",
    "* 0"
   ]
  },
  {
   "cell_type": "markdown",
   "metadata": {},
   "source": [
    "**Два антигена:**\n",
    "* Анти А\n",
    "* Анти Б\n",
    "\n",
    "реагируют по разному с кровью в зависимости от ее группы."
   ]
  },
  {
   "cell_type": "markdown",
   "metadata": {},
   "source": [
    "* Анти А реагирует с A и AB, но не с B и 0\n",
    "* Анти Б реагирует с Б и АB, но не с А и 0"
   ]
  },
  {
   "cell_type": "markdown",
   "metadata": {},
   "source": [
    "Допустим, мы берем пробу крови и тестируем ее с помощью антител. \n",
    "Пусть:\n",
    "* А - Случайное событие, что кровь реагирует с Анти А\n",
    "* Б - Случайное событие, что кровь реагирует с Анти Б"
   ]
  },
  {
   "cell_type": "markdown",
   "metadata": {},
   "source": [
    "\n",
    "**Классифицируйте кровь людей, используя события А, Б и их дополнения**\n",
    "\n",
    "Подсказка: Используйте теорию множеств и структуру set в пайтоне для создания множества всех возможных групп крови а также множества соответствующие возможным резултатом тестов с антигенами А и Б. Покажите с помощью операций над множествами, что этих резултатов достаточно, что бы определить группу крови человека"
   ]
  },
  {
   "cell_type": "code",
   "execution_count": 27,
   "metadata": {},
   "outputs": [],
   "source": [
    "blood = {'A', 'B', 'AB', '0'}#множество всех групп крови\n",
    "a = {'A','AB'}#группы крови, с которыми взаимодействует антиген а\n",
    "b = {'B','AB'}#группы крови, с которыми взаимодействует антиген b"
   ]
  },
  {
   "cell_type": "code",
   "execution_count": 28,
   "metadata": {},
   "outputs": [
    {
     "data": {
      "text/plain": [
       "{'AB'}"
      ]
     },
     "execution_count": 28,
     "metadata": {},
     "output_type": "execute_result"
    }
   ],
   "source": [
    "#На пересечении всех трех множеств лежит группа AB\n",
    "blood & a & b"
   ]
  },
  {
   "cell_type": "code",
   "execution_count": 29,
   "metadata": {},
   "outputs": [
    {
     "data": {
      "text/plain": [
       "{'0'}"
      ]
     },
     "execution_count": 29,
     "metadata": {},
     "output_type": "execute_result"
    }
   ],
   "source": [
    "#Если из множества blood убрать множества a и b (т.е. ни один из антигенов не проивзаимодействовал), получим 0\n",
    "blood - a - b"
   ]
  },
  {
   "cell_type": "code",
   "execution_count": 30,
   "metadata": {},
   "outputs": [
    {
     "data": {
      "text/plain": [
       "{'A'}"
      ]
     },
     "execution_count": 30,
     "metadata": {},
     "output_type": "execute_result"
    }
   ],
   "source": [
    "#Если взаимодействует a, но не взаимодействует b, то получим группу крови A\n",
    "# Найдем пересечение множеств blood и a, из того что получилось уберем множество b\n",
    "blood & a - b"
   ]
  },
  {
   "cell_type": "code",
   "execution_count": 31,
   "metadata": {},
   "outputs": [
    {
     "data": {
      "text/plain": [
       "{'B'}"
      ]
     },
     "execution_count": 31,
     "metadata": {},
     "output_type": "execute_result"
    }
   ],
   "source": [
    "#Если взаимодействует b, но не взаимодействует a, то получим группу крови B\n",
    "# Найдем пересечение множеств blood и b, из того что получилось уберем множество a\n",
    "blood & b - a"
   ]
  },
  {
   "cell_type": "markdown",
   "metadata": {},
   "source": [
    "# Вероятность"
   ]
  },
  {
   "cell_type": "markdown",
   "metadata": {},
   "source": [
    "### Задание 2. У врача"
   ]
  },
  {
   "cell_type": "markdown",
   "metadata": {},
   "source": [
    "Пациент пришел к врачу со слегка повышенной температурой и болью в горле. По мнению врача пациент может имеет бактериальную или вирусную инфекцию, или даже обе инфекции.\n",
    "* А - у пациента бактериальная инфекция\n",
    "* B - у пациента вирусная инфекция \n",
    "* Пусть: P(A) = 0.7 , P(В) = 0.4\n",
    "* Какая вероятность, что у пациента обе инфекции?\n",
    "* Подсказка P(A)+ P(В) > 1, когда такая ситуация может быть?\n",
    "* Напишите решение под задачей в маркдаун"
   ]
  },
  {
   "cell_type": "markdown",
   "metadata": {},
   "source": [
    "#### Решение\n",
    "\n",
    "Так как мы проверяем болен ли пациент одноременно и инфекцией A, и инфекцией B, то нам надо найти пересечение вероятностей двух событий.  \n",
    "Таким образом, тут возможно два занчения вероятности - максимальное и минимальное.\n",
    "Макисмальное реализуется, когда множество B полностью лежит в множестве A, тогда вероятность болеть обеими инфекциями срауз будет равна 0.4.\n",
    "Минимальное реализуется, когда множесво B частично лежит в A, так как полная вероятность не может быть больше 1, то вероятности A и B должны пересекаться на 0.7 + 0.4 - 1 = 0.1.\n",
    "\n",
    "Итак вероятность может варьироваться от 0.4 до 0.1.\n"
   ]
  },
  {
   "cell_type": "markdown",
   "metadata": {},
   "source": [
    "### Задание 3. Независимые события"
   ]
  },
  {
   "cell_type": "markdown",
   "metadata": {},
   "source": [
    "На лекции мы опредили независимость:\n",
    "\n",
    "* Если вероятность А не меняется, даже если мы знаем, что событие B произошло, то события А и B - независимы.\n",
    "\n",
    "Но мы также сказали:\n",
    "* Мы знаем, что события А и B **независимы если формула P(AB) = P(A)*P(B) верна**\n",
    "\n",
    "Это значит:\n",
    "* **Мы можем доказать независимость между А и B, если мы покажем, что P(AB) = P(A)*P(B), даже если это не ясно с начала**\n"
   ]
  },
  {
   "cell_type": "markdown",
   "metadata": {},
   "source": [
    "#### 3.1 Понимание концепта"
   ]
  },
  {
   "cell_type": "markdown",
   "metadata": {},
   "source": [
    "Мы бросаем кость 1 раз:\n",
    "\n",
    "* События А = {1} и B = {4} - элементарные события\n",
    "* Может ли случиться событие (А и B) - А пересечение B?\n",
    "* Что это говорит о независимости А и B?\n",
    "* Почему?"
   ]
  },
  {
   "cell_type": "markdown",
   "metadata": {},
   "source": [
    "#### Решение\n",
    "\n",
    "Пересечения не может быть, так как пересечение событий подразумевает, что события происходят одновременно. Т.е. в нашем случае,\n",
    "должны быть и 1, и 4, но кубик всего один, значит такое невозможно. Мы можем получить либо 1, либо 4, нет никаких дополнительных условий, значит события независимы.  "
   ]
  },
  {
   "cell_type": "markdown",
   "metadata": {},
   "source": [
    "#### 3.2 Доказательство независимости"
   ]
  },
  {
   "cell_type": "markdown",
   "metadata": {},
   "source": [
    "Мы бросаем кость 1 раз:\n",
    "\n",
    "**Пусть**\n",
    "\n",
    "* A = {2,4,6}\n",
    "* B = {1,2,3,4}\n",
    "\n",
    "**Вопросы:**\n",
    "* Какая вероятность у события А?\n",
    "* Какая вероятнсть у события Б?\n",
    "* Найдите пересечение множеств А и B \n",
    "* Какая вероятность этого пересечения?\n",
    "* Докажите, что А и B независимы, используя эти результаты"
   ]
  },
  {
   "cell_type": "markdown",
   "metadata": {},
   "source": [
    "#### Решение\n",
    "\n",
    "1. $1/2$, так как вероятность получить 1 любую цифру на кубике = $1/6$, в событии A три таких цифры, т.е. $3 \\cdot 1/6 = 3/6 = 1/2$\n",
    "2. $2/3$, рассуждения аналогичные п.1 вероятсноть равна $4 \\cdot 1/6 = 4/6 = 2/3$\n",
    "3. Пересечение множеств {2,4}\n",
    "4. $1/3$, так у нас один бросок и нужные нам исходы либо 2, либо 4, т.е. $2 \\cdot 1/6 = 2/6 = 1/3$\n",
    "5. Нужно показать, что $P(AB) = P(A)\\cdot P(B)$, т.е. вероятность пересечения события равна умножению вероятностей событий по отдельности. В нашем случае $P(A) = 1/2, ~~ P(B) = 2/3, ~~P(AB) = 1/3~(см.п.3-4)$. Таким образом, $1/3 = 1/2 \\cdot 2/3$, что и требовалось доказать"
   ]
  },
  {
   "cell_type": "markdown",
   "metadata": {},
   "source": [
    "###  Задание 4. Эксперимент"
   ]
  },
  {
   "cell_type": "code",
   "execution_count": 1,
   "metadata": {},
   "outputs": [],
   "source": [
    "from random import sample"
   ]
  },
  {
   "cell_type": "markdown",
   "metadata": {},
   "source": [
    "Функция sample из библиотеки random позволяет нам взять случайные выборки из списка.\n",
    "\n",
    "**sample(список, <число элементов>)** дает нам выборку числа элементов из списка, как список.\n",
    "\n",
    "* То есть sample([1,2,3],1) может вернуть [2] как пример\n",
    "* Возможная проверка, является ли ответ частью другого листа, это работа с множествами"
   ]
  },
  {
   "cell_type": "code",
   "execution_count": 26,
   "metadata": {},
   "outputs": [],
   "source": [
    "Omega = [1,2,3,4,5,6]"
   ]
  },
  {
   "cell_type": "code",
   "execution_count": 41,
   "metadata": {},
   "outputs": [
    {
     "data": {
      "text/plain": [
       "[2]"
      ]
     },
     "execution_count": 41,
     "metadata": {},
     "output_type": "execute_result"
    }
   ],
   "source": [
    "sample(Omega,1) # виртуальный бросок кости"
   ]
  },
  {
   "cell_type": "code",
   "execution_count": 28,
   "metadata": {},
   "outputs": [
    {
     "data": {
      "text/plain": [
       "[3]"
      ]
     },
     "execution_count": 28,
     "metadata": {},
     "output_type": "execute_result"
    }
   ],
   "source": [
    "sample (Omega,1)"
   ]
  },
  {
   "cell_type": "code",
   "execution_count": 29,
   "metadata": {},
   "outputs": [],
   "source": [
    "A = [2,4,6]"
   ]
  },
  {
   "cell_type": "code",
   "execution_count": 30,
   "metadata": {},
   "outputs": [],
   "source": [
    "B = [1,2,3,4]"
   ]
  },
  {
   "cell_type": "code",
   "execution_count": 33,
   "metadata": {},
   "outputs": [
    {
     "data": {
      "text/plain": [
       "True"
      ]
     },
     "execution_count": 33,
     "metadata": {},
     "output_type": "execute_result"
    }
   ],
   "source": [
    "set(sample(Omega,1)).issubset(set(A))"
   ]
  },
  {
   "cell_type": "markdown",
   "metadata": {},
   "source": [
    "**Пример**\n",
    "\n",
    "Это одна из возможностей экспериментально выяснить вероятности для А и B, как частотные вероятности, то есть пропорции, с которыми А и B происходят, если мы виртуально бросаем кость."
   ]
  },
  {
   "cell_type": "code",
   "execution_count": 34,
   "metadata": {},
   "outputs": [],
   "source": [
    "a = [] # здесь мы будем записывать, был ли результат в А\n",
    "b = [] # здесь мы будем записывать, был ли результат в B\n",
    "\n",
    "for i in range(10): # Бросаем кость 10 раз\n",
    "    x = sample(Omega,1)\n",
    "    issubseta = set(x).issubset(set(A)) # результат в А?\n",
    "    issubsetb = set(x).issubset(set(B)) # результат в B?\n",
    "    a.append(issubseta) # записываем\n",
    "    b.append(issubsetb) # записываем"
   ]
  },
  {
   "cell_type": "code",
   "execution_count": 35,
   "metadata": {},
   "outputs": [
    {
     "data": {
      "text/plain": [
       "[True, True, True, False, True, False, False, True, True, False]"
      ]
     },
     "execution_count": 35,
     "metadata": {},
     "output_type": "execute_result"
    }
   ],
   "source": [
    "a"
   ]
  },
  {
   "cell_type": "code",
   "execution_count": 36,
   "metadata": {},
   "outputs": [
    {
     "data": {
      "text/plain": [
       "[True, True, True, True, True, False, True, True, True, True]"
      ]
     },
     "execution_count": 36,
     "metadata": {},
     "output_type": "execute_result"
    }
   ],
   "source": [
    "b"
   ]
  },
  {
   "cell_type": "code",
   "execution_count": 38,
   "metadata": {},
   "outputs": [],
   "source": [
    "import numpy as np "
   ]
  },
  {
   "cell_type": "code",
   "execution_count": 42,
   "metadata": {},
   "outputs": [
    {
     "data": {
      "text/plain": [
       "6"
      ]
     },
     "execution_count": 42,
     "metadata": {},
     "output_type": "execute_result"
    }
   ],
   "source": [
    "np.sum(a) # эта функция позволяет нам суммировать списки, True = 1, False = 0"
   ]
  },
  {
   "cell_type": "code",
   "execution_count": 40,
   "metadata": {},
   "outputs": [
    {
     "data": {
      "text/plain": [
       "9"
      ]
     },
     "execution_count": 40,
     "metadata": {},
     "output_type": "execute_result"
    }
   ],
   "source": [
    "np.sum(b)"
   ]
  },
  {
   "cell_type": "code",
   "execution_count": 43,
   "metadata": {},
   "outputs": [
    {
     "data": {
      "text/plain": [
       "0.6"
      ]
     },
     "execution_count": 43,
     "metadata": {},
     "output_type": "execute_result"
    }
   ],
   "source": [
    "np.sum(a)/10 "
   ]
  },
  {
   "cell_type": "code",
   "execution_count": 44,
   "metadata": {},
   "outputs": [
    {
     "data": {
      "text/plain": [
       "0.9"
      ]
     },
     "execution_count": 44,
     "metadata": {},
     "output_type": "execute_result"
    }
   ],
   "source": [
    "np.sum(b)/10"
   ]
  },
  {
   "cell_type": "markdown",
   "metadata": {},
   "source": [
    "**10 бросков не достаточно для лимита в бесконечность**"
   ]
  },
  {
   "cell_type": "markdown",
   "metadata": {},
   "source": [
    "#### Задание 4.1"
   ]
  },
  {
   "cell_type": "markdown",
   "metadata": {},
   "source": [
    "* Брось кость 1000 раз\n",
    "* Посчитай пропорцию, с которой произошло событие А из задачи 2\n",
    "* Посчитай пропорцию, с которой произошло событие B из задачи 2\n",
    "* Посчитай пропорцию, с которой произошло событие АB из задачи 2\n",
    "* Сравни пропорции с теоретичискими числами и проверь независимость"
   ]
  },
  {
   "cell_type": "code",
   "execution_count": 44,
   "metadata": {},
   "outputs": [],
   "source": [
    "from random import sample\n",
    "import numpy as np"
   ]
  },
  {
   "cell_type": "code",
   "execution_count": 45,
   "metadata": {},
   "outputs": [],
   "source": [
    "A = {2,4,6}\n",
    "B = {1,2,3,4}\n",
    "Omega = [1,2,3,4,5,6]\n",
    "AB = A & B"
   ]
  },
  {
   "cell_type": "code",
   "execution_count": 35,
   "metadata": {},
   "outputs": [
    {
     "name": "stdout",
     "output_type": "stream",
     "text": [
      "Событие А: 0.525\n",
      "Событие B: 0.687\n",
      "Событие AB: 0.36\n"
     ]
    }
   ],
   "source": [
    "a = []\n",
    "b = []\n",
    "ab = []\n",
    "for i in range(1000):\n",
    "    x = sample(Omega,1)\n",
    "    a.append(set(x).issubset(A))\n",
    "    b.append(set(x).issubset(B))\n",
    "    ab.append(set(x).issubset(AB))\n",
    "\n",
    "print('Событие А: {}'.format(np.sum(a)/1000))\n",
    "print('Событие B: {}'.format(np.sum(b)/1000))\n",
    "print('Событие AB: {}'.format(np.sum(ab)/1000))"
   ]
  },
  {
   "cell_type": "markdown",
   "metadata": {},
   "source": [
    "Вероятности близки к теоретическим $P(A)\\approx 0.5,~~P(B)\\approx 0.67,~~P(AB)\\approx 0.33$.  \n",
    "События независимы, так как $0.53\\cdot 0.69 \\approx 0.37$"
   ]
  },
  {
   "cell_type": "markdown",
   "metadata": {},
   "source": [
    "#### Задание 4.2"
   ]
  },
  {
   "cell_type": "markdown",
   "metadata": {},
   "source": [
    "* Брось кость 1000 раз\n",
    "* Посчитай пропорцию, с которой произошло событие А = {1,2,4,6}\n",
    "* Посчитай пропорцию, с которой произошло событие B = {2,4}\n",
    "* Найди событие AB\n",
    "* Посчитай пропорцию, с которой произошло событие АB\n",
    "* Что можно сказать о независимости А и B"
   ]
  },
  {
   "cell_type": "code",
   "execution_count": 46,
   "metadata": {},
   "outputs": [
    {
     "name": "stdout",
     "output_type": "stream",
     "text": [
      "Событие AB: {2, 4}\n"
     ]
    }
   ],
   "source": [
    "A = {1,2,4,6}\n",
    "B = {2,4}\n",
    "Omega = [1,2,3,4,5,6]\n",
    "AB = A & B\n",
    "print('Событие AB: {}'.format(AB))"
   ]
  },
  {
   "cell_type": "code",
   "execution_count": 48,
   "metadata": {},
   "outputs": [
    {
     "name": "stdout",
     "output_type": "stream",
     "text": [
      "Событие А: 0.646\n",
      "Событие B: 0.319\n",
      "Событие AB: 0.319\n",
      "События A и B зависимы\n"
     ]
    }
   ],
   "source": [
    "ab = []\n",
    "a = []\n",
    "b = []\n",
    "for i in range(1000):\n",
    "    x = sample(Omega,1)\n",
    "    a.append(set(x).issubset(A))\n",
    "    b.append(set(x).issubset(B))\n",
    "    ab.append(set(x).issubset(AB))\n",
    "\n",
    "print('Событие А: {}'.format(np.sum(a)/1000))\n",
    "print('Событие B: {}'.format(np.sum(b)/1000))\n",
    "print('Событие AB: {}'.format(np.sum(ab)/1000))\n",
    "\n",
    "if (np.sum(a)*np.sum(b)+0.1 == np.sum(ab) or np.sum(a)*np.sum(b)-0.1 == np.sum(ab)):#учтем погрешность в 0.1\n",
    "    print('События A и B независимы')\n",
    "else:\n",
    "    print('События A и B зависимы')"
   ]
  },
  {
   "cell_type": "markdown",
   "metadata": {},
   "source": [
    "## Задание 5. Теорема Байеса"
   ]
  },
  {
   "cell_type": "markdown",
   "metadata": {},
   "source": [
    "* Население Киева - 2.8 миллионов\n",
    "* Допустим, в Киеве прячутся 100 террористов\n",
    "* Киев устанавливает новую систему поиска террористов с помощью видеокамер и искусственного интеллекта. Эта система делает только в 0.5% случаев ошибку и думает, что мирный житель террорист. В 0.1% случаев она делает ошибку и не бьет тревогу, видя террориста.\n",
    "* Система бьет тревогу, какая вероятность, что этот житель террорист?\n",
    "* Подсказка: P(тревога|мирный житель) = 0.005, P(нет тревоги|террорист) = 0.001\n",
    "* Подсказка: Подумайте о законе общей вероятности"
   ]
  },
  {
   "cell_type": "markdown",
   "metadata": {},
   "source": [
    "Пусть событие А - нашли террориста, событие B - система сработала.  \n",
    "Тогда нам надо найти $P(A|B) = \\frac{P(B|A)P(A)}{P(B)}$.  \n",
    "Здесь $P(A) = \\frac{100}{2.8\\cdot10^6}=\\frac{1}{2.8\\cdot10^4}=0.00004$ - вероятность найти террориста среди всех жителей Киева,  \n",
    "$P(B|A) = 100\\%-0.1\\% = 99.9\\% = 0.999$ - вероятность того, что система сработает, если обнаружит террориста (учли, что в 0.1% случаев система не срабатывает),  \n",
    "$P(B) = \\sum P(A_i)P(B|A_i) = 0.005\\cdot(1-P(A)) + P(A)\\cdot P(B|A) = 0.005\\cdot 0.99996 + 0.0004\\cdot 0.999 $ - полная вероятность того, что система сработает(первое слагаемое - вероятность срабатывания на мирном жителе, умноженная на вероятность попасть в мирного жителя).  \n",
    "Таким образом,\n",
    "$$\n",
    "P(A|B) = \\frac{0.00004\\cdot 0.999}{0.005\\cdot 0.99996 + 0.0004\\cdot 0.999} = 0.0079\n",
    "$$\n",
    "или $0.8\\%$"
   ]
  },
  {
   "cell_type": "code",
   "execution_count": null,
   "metadata": {},
   "outputs": [],
   "source": []
  }
 ],
 "metadata": {
  "kernelspec": {
   "display_name": "Python 3",
   "language": "python",
   "name": "python3"
  },
  "language_info": {
   "codemirror_mode": {
    "name": "ipython",
    "version": 3
   },
   "file_extension": ".py",
   "mimetype": "text/x-python",
   "name": "python",
   "nbconvert_exporter": "python",
   "pygments_lexer": "ipython3",
   "version": "3.7.3"
  }
 },
 "nbformat": 4,
 "nbformat_minor": 4
}
