{
 "cells": [
  {
   "cell_type": "code",
   "execution_count": 4,
   "metadata": {},
   "outputs": [],
   "source": [
    "import numpy as np\n",
    "import matplotlib.pyplot as plt\n",
    "import scipy.stats as stats\n",
    "import math"
   ]
  },
  {
   "cell_type": "markdown",
   "metadata": {},
   "source": [
    "## Приводит ли вдыхание асбеста к заболеваниям легких?"
   ]
  },
  {
   "cell_type": "markdown",
   "metadata": {},
   "source": [
    "### Основная гипотеза должна быть консервативной"
   ]
  },
  {
   "cell_type": "markdown",
   "metadata": {},
   "source": [
    "**Основная гипотеза - Связи нет.**"
   ]
  },
  {
   "cell_type": "markdown",
   "metadata": {},
   "source": [
    "Как ее проверить? Если связи нет, то мы не ожидаем разницы в количестве заболеваниях легких в группах которые входили или не входили в контакт с асбестом"
   ]
  },
  {
   "cell_type": "markdown",
   "metadata": {},
   "source": [
    "Даже если основная гипотеза верна в эксперименте разница будет но чисто по случайности."
   ]
  },
  {
   "cell_type": "markdown",
   "metadata": {},
   "source": [
    "Мы моделируем количество заболеваний в обоих групах как случайную величину и знаем что разница средних значений также случайная величина с распределением Гаусса."
   ]
  },
  {
   "cell_type": "markdown",
   "metadata": {},
   "source": [
    "**Если связи на самом деле нет, эта случайная величина имеет мат. ожидание 0 (разницы в группах нет**"
   ]
  },
  {
   "cell_type": "markdown",
   "metadata": {},
   "source": [
    "**Вопрос: Исходя из того что связи нет, какя вероятность увидеть результат наблюдаемый в эксперименте или более экстремальный результат?**"
   ]
  },
  {
   "cell_type": "markdown",
   "metadata": {},
   "source": [
    "Фиктивные данные:\n",
    "* Группа 1, n=50, x=12, $p_1=0.24$\n",
    "* Группа 2, m=50, x=25, $p_2=0.5$"
   ]
  },
  {
   "cell_type": "markdown",
   "metadata": {},
   "source": [
    "$$s = \\sqrt{p_1(1-p_1)/n + p_2(1-p_2)/m}$$"
   ]
  },
  {
   "cell_type": "code",
   "execution_count": 2,
   "metadata": {},
   "outputs": [],
   "source": [
    "p1=0.24; p2=0.5;n=50; m=50"
   ]
  },
  {
   "cell_type": "code",
   "execution_count": 5,
   "metadata": {},
   "outputs": [],
   "source": [
    "s=np.sqrt(p1*(1-p1)/n+p2*(1-p2)/m)"
   ]
  },
  {
   "cell_type": "code",
   "execution_count": 6,
   "metadata": {},
   "outputs": [
    {
     "data": {
      "text/plain": [
       "0.09299462350050136"
      ]
     },
     "execution_count": 6,
     "metadata": {},
     "output_type": "execute_result"
    }
   ],
   "source": [
    "s"
   ]
  },
  {
   "cell_type": "markdown",
   "metadata": {},
   "source": [
    "**Нормализированая величина которая должна имеет стандартное нормальное распределение, если основная гипотеза верна:**"
   ]
  },
  {
   "cell_type": "markdown",
   "metadata": {},
   "source": [
    "$$W=\\frac{p_1-p_2}{s}$$"
   ]
  },
  {
   "cell_type": "code",
   "execution_count": 11,
   "metadata": {},
   "outputs": [],
   "source": [
    "W= (p1-p2)/s"
   ]
  },
  {
   "cell_type": "code",
   "execution_count": 12,
   "metadata": {},
   "outputs": [
    {
     "data": {
      "text/plain": [
       "-2.7958605585257117"
      ]
     },
     "execution_count": 12,
     "metadata": {},
     "output_type": "execute_result"
    }
   ],
   "source": [
    "W"
   ]
  },
  {
   "cell_type": "markdown",
   "metadata": {},
   "source": [
    "Вероятность получить такие же или более экстремальные значения W, если основная гипотеза верна:"
   ]
  },
  {
   "cell_type": "code",
   "execution_count": 13,
   "metadata": {},
   "outputs": [],
   "source": [
    "p=2*stats.norm.cdf(-np.abs(W))"
   ]
  },
  {
   "cell_type": "code",
   "execution_count": 14,
   "metadata": {},
   "outputs": [
    {
     "data": {
      "text/plain": [
       "0.005176172807697869"
      ]
     },
     "execution_count": 14,
     "metadata": {},
     "output_type": "execute_result"
    }
   ],
   "source": [
    "p"
   ]
  },
  {
   "cell_type": "markdown",
   "metadata": {},
   "source": [
    "**Итак вероятность этого 0.5% - это довольно сильная очевидность против основной гипотезы и отвергаем ее.**"
   ]
  },
  {
   "cell_type": "markdown",
   "metadata": {},
   "source": [
    "## Графики из урока"
   ]
  },
  {
   "cell_type": "code",
   "execution_count": 27,
   "metadata": {},
   "outputs": [
    {
     "data": {
      "image/png": "[encoded data removed]",
      "text/plain": [
       "<Figure size 432x288 with 1 Axes>"
      ]
     },
     "metadata": {
      "needs_background": "light"
     },
     "output_type": "display_data"
    }
   ],
   "source": [
    "mu = 0.5\n",
    "variance = 0.0025\n",
    "sigma = math.sqrt(variance)\n",
    "x = np.linspace(mu - 3*sigma, mu + 3*sigma, 100)\n",
    "plt.plot(x, stats.norm.pdf(x, mu, sigma))\n",
    "ax = plt.gca()\n",
    "y_lim=ax.get_ylim()\n",
    "plt.axvline(x=0.58, ymin=y_lim[0], ymax=y_lim[1],linestyle=\"--\", color='red')\n",
    "plt.axvline(x=0.42, ymin=y_lim[0], ymax=y_lim[1],linestyle=\"--\", color='gray')\n",
    "px=np.linspace(0.58,x[-1],10)\n",
    "px_m = np.linspace(x[0],0.42,10)\n",
    "iq = stats.norm(mu,sigma)\n",
    "plt.fill_between(px,iq.pdf(px),color='gray')\n",
    "plt.fill_between(px_m,iq.pdf(px_m),color='gray')\n",
    "plt.savefig('p_values.png')"
   ]
  },
  {
   "cell_type": "code",
   "execution_count": 28,
   "metadata": {},
   "outputs": [],
   "source": [
    "mu = 0.5\n",
    "sigma = 0.05\n",
    "p = 2*stats.norm.cdf(0.42, mu, sigma)"
   ]
  },
  {
   "cell_type": "code",
   "execution_count": 29,
   "metadata": {},
   "outputs": [
    {
     "data": {
      "text/plain": [
       "0.10959858339911595"
      ]
     },
     "execution_count": 29,
     "metadata": {},
     "output_type": "execute_result"
    }
   ],
   "source": [
    "p"
   ]
  },
  {
   "cell_type": "code",
   "execution_count": 33,
   "metadata": {},
   "outputs": [
    {
     "data": {
      "image/png": "[encoded data removed]",
      "text/plain": [
       "<Figure size 432x288 with 1 Axes>"
      ]
     },
     "metadata": {
      "needs_background": "light"
     },
     "output_type": "display_data"
    }
   ],
   "source": [
    "mu = 0.5\n",
    "variance = 2.5e-4\n",
    "sigma = math.sqrt(variance)\n",
    "x = np.linspace(mu - 8*sigma, mu + 8*sigma, 100)\n",
    "plt.plot(x, stats.norm.pdf(x, mu, sigma))\n",
    "ax = plt.gca()\n",
    "y_lim=ax.get_ylim()\n",
    "plt.axvline(x=0.58, ymin=y_lim[0], ymax=y_lim[1],linestyle=\"--\", color='red')\n",
    "plt.axvline(x=0.42, ymin=y_lim[0], ymax=y_lim[1],linestyle=\"--\", color='gray')\n",
    "px=np.linspace(0.58,x[-1],10)\n",
    "px_m = np.linspace(x[0],0.42,10)\n",
    "iq = stats.norm(mu,sigma)\n",
    "plt.fill_between(px,iq.pdf(px),color='gray')\n",
    "plt.fill_between(px_m,iq.pdf(px_m),color='gray')\n",
    "plt.savefig('p_values_2.png')"
   ]
  },
  {
   "cell_type": "code",
   "execution_count": 34,
   "metadata": {},
   "outputs": [],
   "source": [
    "mu = 0.5\n",
    "sigma = 0.016\n",
    "p = 2*stats.norm.cdf(0.42, mu, sigma)"
   ]
  },
  {
   "cell_type": "code",
   "execution_count": 35,
   "metadata": {},
   "outputs": [
    {
     "data": {
      "text/plain": [
       "5.733031437583835e-07"
      ]
     },
     "execution_count": 35,
     "metadata": {},
     "output_type": "execute_result"
    }
   ],
   "source": [
    "p"
   ]
  },
  {
   "cell_type": "code",
   "execution_count": 41,
   "metadata": {},
   "outputs": [],
   "source": [
    "z = (97.32-93.29)/1.7"
   ]
  },
  {
   "cell_type": "code",
   "execution_count": 42,
   "metadata": {},
   "outputs": [
    {
     "data": {
      "text/plain": [
       "2.37058823529411"
      ]
     },
     "execution_count": 42,
     "metadata": {},
     "output_type": "execute_result"
    }
   ],
   "source": [
    "z"
   ]
  },
  {
   "cell_type": "code",
   "execution_count": 44,
   "metadata": {},
   "outputs": [
    {
     "data": {
      "text/plain": [
       "0.019696785381582614"
      ]
     },
     "execution_count": 44,
     "metadata": {},
     "output_type": "execute_result"
    }
   ],
   "source": [
    "2*stats.t.cdf(-z, df=99)"
   ]
  },
  {
   "cell_type": "code",
   "execution_count": 45,
   "metadata": {},
   "outputs": [
    {
     "data": {
      "text/plain": [
       "0.0038524182643757173"
      ]
     },
     "execution_count": 45,
     "metadata": {},
     "output_type": "execute_result"
    }
   ],
   "source": [
    "2*stats.norm.cdf(-2.89)"
   ]
  },
  {
   "cell_type": "code",
   "execution_count": 61,
   "metadata": {},
   "outputs": [
    {
     "data": {
      "text/plain": [
       "<matplotlib.collections.PolyCollection at 0x7fce70072090>"
      ]
     },
     "execution_count": 61,
     "metadata": {},
     "output_type": "execute_result"
    },
    {
     "data": {
      "image/png": "[encoded data removed]",
      "text/plain": [
       "<Figure size 432x288 with 1 Axes>"
      ]
     },
     "metadata": {
      "needs_background": "light"
     },
     "output_type": "display_data"
    }
   ],
   "source": [
    "mu = 0\n",
    "variance = 1\n",
    "sigma = math.sqrt(variance)\n",
    "x = np.linspace(mu - 8*sigma, mu + 8*sigma, 100)\n",
    "plt.plot(x, stats.norm.pdf(x, mu, sigma))\n",
    "ax = plt.gca()\n",
    "y_lim=ax.get_ylim()\n",
    "plt.vlines(x=-2.98, ymin=y_lim[0], ymax=y_lim[1],linestyle=\"--\", color='red')\n",
    "plt.vlines(x=2.98, ymin=y_lim[0], ymax=y_lim[1],linestyle=\"--\", color='gray')\n",
    "px=np.linspace(2.98,x[-1],10)\n",
    "px_m = np.linspace(x[0],-2.98,10)\n",
    "iq = stats.norm(mu,sigma)\n",
    "plt.fill_between(px,iq.pdf(px),color='gray')\n",
    "plt.fill_between(px_m,iq.pdf(px_m),color='gray')\n",
    "#plt.savefig('p_values_3.png')"
   ]
  },
  {
   "cell_type": "code",
   "execution_count": 69,
   "metadata": {},
   "outputs": [
    {
     "data": {
      "image/png": "[encoded data removed]",
      "text/plain": [
       "<Figure size 504x432 with 1 Axes>"
      ]
     },
     "metadata": {
      "needs_background": "light"
     },
     "output_type": "display_data"
    }
   ],
   "source": [
    "mu = 0\n",
    "variance = 1\n",
    "sigma = math.sqrt(variance)\n",
    "x = np.linspace(mu - 8*sigma, mu + 8*sigma, 100)\n",
    "fig, ax  = plt.subplots(figsize=(7, 6))\n",
    "data = stats.norm.pdf(x, -3, sigma)\n",
    "ax.plot(x, data)\n",
    "y_lim=ax.get_ylim()\n",
    "ax.vlines(x=-2.98, ymin=y_lim[0], ymax=data[data==data.max()],linestyle=\"--\", color='red')\n",
    "ax.plot(x, stats.norm.pdf(x, mu, sigma))\n",
    "px_m = np.linspace(x[0],-2.98,10)\n",
    "iq = stats.norm(-3,sigma)\n",
    "ax.fill_between(px_m,iq.pdf(px_m),color='gray')\n",
    "plt.savefig('p_values_4.png')"
   ]
  },
  {
   "cell_type": "code",
   "execution_count": 55,
   "metadata": {},
   "outputs": [
    {
     "data": {
      "text/plain": [
       "0.41886802523929134"
      ]
     },
     "execution_count": 55,
     "metadata": {},
     "output_type": "execute_result"
    }
   ],
   "source": [
    "ymax"
   ]
  },
  {
   "cell_type": "code",
   "execution_count": 270,
   "metadata": {},
   "outputs": [],
   "source": [
    "n_array = []"
   ]
  },
  {
   "cell_type": "code",
   "execution_count": 271,
   "metadata": {},
   "outputs": [],
   "source": [
    "power_array = []"
   ]
  },
  {
   "cell_type": "code",
   "execution_count": 272,
   "metadata": {},
   "outputs": [],
   "source": [
    "mu_1 = 0\n",
    "mu_2 = -3\n",
    "sigma_orig = 20.0"
   ]
  },
  {
   "cell_type": "code",
   "execution_count": 470,
   "metadata": {},
   "outputs": [],
   "source": [
    "n = 3000"
   ]
  },
  {
   "cell_type": "code",
   "execution_count": 471,
   "metadata": {},
   "outputs": [
    {
     "name": "stdout",
     "output_type": "stream",
     "text": [
      "20.0\n"
     ]
    }
   ],
   "source": [
    "print(sigma_orig)"
   ]
  },
  {
   "cell_type": "code",
   "execution_count": 472,
   "metadata": {},
   "outputs": [],
   "source": [
    "variance = np.sqrt(sigma_orig**2/n + sigma_orig**2/n)"
   ]
  },
  {
   "cell_type": "code",
   "execution_count": 473,
   "metadata": {},
   "outputs": [
    {
     "name": "stdout",
     "output_type": "stream",
     "text": [
      "0.5163977794943222\n"
     ]
    }
   ],
   "source": [
    "print(variance)"
   ]
  },
  {
   "cell_type": "code",
   "execution_count": 474,
   "metadata": {},
   "outputs": [],
   "source": [
    "sigma = math.sqrt(variance)\n",
    "x = np.linspace(mu_1 - 8*sigma, mu_1 + 8*sigma, 100)"
   ]
  },
  {
   "cell_type": "code",
   "execution_count": 475,
   "metadata": {},
   "outputs": [
    {
     "data": {
      "image/png": "[encoded data removed]",
      "text/plain": [
       "<Figure size 504x432 with 1 Axes>"
      ]
     },
     "metadata": {
      "needs_background": "light"
     },
     "output_type": "display_data"
    }
   ],
   "source": [
    "fig, ax  = plt.subplots(figsize=(7, 6))\n",
    "data = stats.norm.pdf(x, mu_2, sigma)\n",
    "ax.plot(x, data)\n",
    "ax.plot(x, stats.norm.pdf(x, mu_1, sigma))\n",
    "y_lim=ax.get_ylim()\n",
    "boundary = stats.norm.ppf(0.025, mu_1, sigma)\n",
    "ax.vlines(x=boundary, ymin=y_lim[0], ymax=data[data==data.max()],linestyle=\"--\", color='red')\n",
    "ax.set_title('n={}'.format(n))\n",
    "plt.savefig('power_{}.png'.format(n))"
   ]
  },
  {
   "cell_type": "code",
   "execution_count": 476,
   "metadata": {},
   "outputs": [],
   "source": [
    "power = stats.norm.cdf(boundary, mu_2, sigma)"
   ]
  },
  {
   "cell_type": "code",
   "execution_count": 477,
   "metadata": {},
   "outputs": [
    {
     "data": {
      "text/plain": [
       "0.9866121595681175"
      ]
     },
     "execution_count": 477,
     "metadata": {},
     "output_type": "execute_result"
    }
   ],
   "source": [
    "power"
   ]
  },
  {
   "cell_type": "code",
   "execution_count": 478,
   "metadata": {},
   "outputs": [],
   "source": [
    "power_array.append(power)"
   ]
  },
  {
   "cell_type": "code",
   "execution_count": 479,
   "metadata": {},
   "outputs": [],
   "source": [
    "n_array.append(n)"
   ]
  },
  {
   "cell_type": "code",
   "execution_count": 480,
   "metadata": {},
   "outputs": [
    {
     "data": {
      "image/png": "[encoded data removed]",
      "text/plain": [
       "<Figure size 504x432 with 1 Axes>"
      ]
     },
     "metadata": {
      "needs_background": "light"
     },
     "output_type": "display_data"
    }
   ],
   "source": [
    "fig, ax  = plt.subplots(figsize=(7, 6))\n",
    "ax.plot(n_array,power_array, 'ro')\n",
    "ax.set_title('Power')\n",
    "ax.set_xlabel('n')\n",
    "ax.set_ylim([0,1])\n",
    "ax.set_xlim([25,3000])\n",
    "plt.savefig('power_{}_c.png'.format(n))"
   ]
  },
  {
   "cell_type": "code",
   "execution_count": null,
   "metadata": {},
   "outputs": [],
   "source": []
  }
 ],
 "metadata": {
  "kernelspec": {
   "display_name": "Python 3",
   "language": "python",
   "name": "python3"
  },
  "language_info": {
   "codemirror_mode": {
    "name": "ipython",
    "version": 3
   },
   "file_extension": ".py",
   "mimetype": "text/x-python",
   "name": "python",
   "nbconvert_exporter": "python",
   "pygments_lexer": "ipython3",
   "version": "3.7.6"
  }
 },
 "nbformat": 4,
 "nbformat_minor": 4
}
